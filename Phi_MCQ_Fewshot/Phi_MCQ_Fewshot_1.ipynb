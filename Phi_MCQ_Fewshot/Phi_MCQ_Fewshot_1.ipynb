{
  "nbformat": 4,
  "nbformat_minor": 0,
  "metadata": {
    "colab": {
      "provenance": [],
      "gpuType": "V28"
    },
    "kernelspec": {
      "name": "python3",
      "display_name": "Python 3"
    },
    "language_info": {
      "name": "python"
    },
    "accelerator": "TPU",
    "widgets": {
      "application/vnd.jupyter.widget-state+json": {
        "bf6f8064c5f1407fa098f1f448012d3e": {
          "model_module": "@jupyter-widgets/controls",
          "model_name": "HBoxModel",
          "model_module_version": "1.5.0",
          "state": {
            "_dom_classes": [],
            "_model_module": "@jupyter-widgets/controls",
            "_model_module_version": "1.5.0",
            "_model_name": "HBoxModel",
            "_view_count": null,
            "_view_module": "@jupyter-widgets/controls",
            "_view_module_version": "1.5.0",
            "_view_name": "HBoxView",
            "box_style": "",
            "children": [
              "IPY_MODEL_ba2522b38faf4150a48712b6238f41e1",
              "IPY_MODEL_b1413597b0c849a79b53326031f185e7",
              "IPY_MODEL_f568bd4374804dbfb490ddefffcdabbb"
            ],
            "layout": "IPY_MODEL_8e255b95649a4ece96f95cefe282af0b"
          }
        },
        "ba2522b38faf4150a48712b6238f41e1": {
          "model_module": "@jupyter-widgets/controls",
          "model_name": "HTMLModel",
          "model_module_version": "1.5.0",
          "state": {
            "_dom_classes": [],
            "_model_module": "@jupyter-widgets/controls",
            "_model_module_version": "1.5.0",
            "_model_name": "HTMLModel",
            "_view_count": null,
            "_view_module": "@jupyter-widgets/controls",
            "_view_module_version": "1.5.0",
            "_view_name": "HTMLView",
            "description": "",
            "description_tooltip": null,
            "layout": "IPY_MODEL_a65824c81e7546b185edf0db96b7b6a0",
            "placeholder": "​",
            "style": "IPY_MODEL_b6ce264a8e68458f98df4530b08cfce0",
            "value": "config.json: 100%"
          }
        },
        "b1413597b0c849a79b53326031f185e7": {
          "model_module": "@jupyter-widgets/controls",
          "model_name": "FloatProgressModel",
          "model_module_version": "1.5.0",
          "state": {
            "_dom_classes": [],
            "_model_module": "@jupyter-widgets/controls",
            "_model_module_version": "1.5.0",
            "_model_name": "FloatProgressModel",
            "_view_count": null,
            "_view_module": "@jupyter-widgets/controls",
            "_view_module_version": "1.5.0",
            "_view_name": "ProgressView",
            "bar_style": "success",
            "description": "",
            "description_tooltip": null,
            "layout": "IPY_MODEL_e9f0b6623e6c42c2909623a0fdf28e2d",
            "max": 3451,
            "min": 0,
            "orientation": "horizontal",
            "style": "IPY_MODEL_3333d290fe3a44d2a43c5d2bfa63794a",
            "value": 3451
          }
        },
        "f568bd4374804dbfb490ddefffcdabbb": {
          "model_module": "@jupyter-widgets/controls",
          "model_name": "HTMLModel",
          "model_module_version": "1.5.0",
          "state": {
            "_dom_classes": [],
            "_model_module": "@jupyter-widgets/controls",
            "_model_module_version": "1.5.0",
            "_model_name": "HTMLModel",
            "_view_count": null,
            "_view_module": "@jupyter-widgets/controls",
            "_view_module_version": "1.5.0",
            "_view_name": "HTMLView",
            "description": "",
            "description_tooltip": null,
            "layout": "IPY_MODEL_1ebcaf9a91324db2bd490fcc0838f775",
            "placeholder": "​",
            "style": "IPY_MODEL_60a4055586f4449cba39002bd269d193",
            "value": " 3.45k/3.45k [00:00&lt;00:00, 337kB/s]"
          }
        },
        "8e255b95649a4ece96f95cefe282af0b": {
          "model_module": "@jupyter-widgets/base",
          "model_name": "LayoutModel",
          "model_module_version": "1.2.0",
          "state": {
            "_model_module": "@jupyter-widgets/base",
            "_model_module_version": "1.2.0",
            "_model_name": "LayoutModel",
            "_view_count": null,
            "_view_module": "@jupyter-widgets/base",
            "_view_module_version": "1.2.0",
            "_view_name": "LayoutView",
            "align_content": null,
            "align_items": null,
            "align_self": null,
            "border": null,
            "bottom": null,
            "display": null,
            "flex": null,
            "flex_flow": null,
            "grid_area": null,
            "grid_auto_columns": null,
            "grid_auto_flow": null,
            "grid_auto_rows": null,
            "grid_column": null,
            "grid_gap": null,
            "grid_row": null,
            "grid_template_areas": null,
            "grid_template_columns": null,
            "grid_template_rows": null,
            "height": null,
            "justify_content": null,
            "justify_items": null,
            "left": null,
            "margin": null,
            "max_height": null,
            "max_width": null,
            "min_height": null,
            "min_width": null,
            "object_fit": null,
            "object_position": null,
            "order": null,
            "overflow": null,
            "overflow_x": null,
            "overflow_y": null,
            "padding": null,
            "right": null,
            "top": null,
            "visibility": null,
            "width": null
          }
        },
        "a65824c81e7546b185edf0db96b7b6a0": {
          "model_module": "@jupyter-widgets/base",
          "model_name": "LayoutModel",
          "model_module_version": "1.2.0",
          "state": {
            "_model_module": "@jupyter-widgets/base",
            "_model_module_version": "1.2.0",
            "_model_name": "LayoutModel",
            "_view_count": null,
            "_view_module": "@jupyter-widgets/base",
            "_view_module_version": "1.2.0",
            "_view_name": "LayoutView",
            "align_content": null,
            "align_items": null,
            "align_self": null,
            "border": null,
            "bottom": null,
            "display": null,
            "flex": null,
            "flex_flow": null,
            "grid_area": null,
            "grid_auto_columns": null,
            "grid_auto_flow": null,
            "grid_auto_rows": null,
            "grid_column": null,
            "grid_gap": null,
            "grid_row": null,
            "grid_template_areas": null,
            "grid_template_columns": null,
            "grid_template_rows": null,
            "height": null,
            "justify_content": null,
            "justify_items": null,
            "left": null,
            "margin": null,
            "max_height": null,
            "max_width": null,
            "min_height": null,
            "min_width": null,
            "object_fit": null,
            "object_position": null,
            "order": null,
            "overflow": null,
            "overflow_x": null,
            "overflow_y": null,
            "padding": null,
            "right": null,
            "top": null,
            "visibility": null,
            "width": null
          }
        },
        "b6ce264a8e68458f98df4530b08cfce0": {
          "model_module": "@jupyter-widgets/controls",
          "model_name": "DescriptionStyleModel",
          "model_module_version": "1.5.0",
          "state": {
            "_model_module": "@jupyter-widgets/controls",
            "_model_module_version": "1.5.0",
            "_model_name": "DescriptionStyleModel",
            "_view_count": null,
            "_view_module": "@jupyter-widgets/base",
            "_view_module_version": "1.2.0",
            "_view_name": "StyleView",
            "description_width": ""
          }
        },
        "e9f0b6623e6c42c2909623a0fdf28e2d": {
          "model_module": "@jupyter-widgets/base",
          "model_name": "LayoutModel",
          "model_module_version": "1.2.0",
          "state": {
            "_model_module": "@jupyter-widgets/base",
            "_model_module_version": "1.2.0",
            "_model_name": "LayoutModel",
            "_view_count": null,
            "_view_module": "@jupyter-widgets/base",
            "_view_module_version": "1.2.0",
            "_view_name": "LayoutView",
            "align_content": null,
            "align_items": null,
            "align_self": null,
            "border": null,
            "bottom": null,
            "display": null,
            "flex": null,
            "flex_flow": null,
            "grid_area": null,
            "grid_auto_columns": null,
            "grid_auto_flow": null,
            "grid_auto_rows": null,
            "grid_column": null,
            "grid_gap": null,
            "grid_row": null,
            "grid_template_areas": null,
            "grid_template_columns": null,
            "grid_template_rows": null,
            "height": null,
            "justify_content": null,
            "justify_items": null,
            "left": null,
            "margin": null,
            "max_height": null,
            "max_width": null,
            "min_height": null,
            "min_width": null,
            "object_fit": null,
            "object_position": null,
            "order": null,
            "overflow": null,
            "overflow_x": null,
            "overflow_y": null,
            "padding": null,
            "right": null,
            "top": null,
            "visibility": null,
            "width": null
          }
        },
        "3333d290fe3a44d2a43c5d2bfa63794a": {
          "model_module": "@jupyter-widgets/controls",
          "model_name": "ProgressStyleModel",
          "model_module_version": "1.5.0",
          "state": {
            "_model_module": "@jupyter-widgets/controls",
            "_model_module_version": "1.5.0",
            "_model_name": "ProgressStyleModel",
            "_view_count": null,
            "_view_module": "@jupyter-widgets/base",
            "_view_module_version": "1.2.0",
            "_view_name": "StyleView",
            "bar_color": null,
            "description_width": ""
          }
        },
        "1ebcaf9a91324db2bd490fcc0838f775": {
          "model_module": "@jupyter-widgets/base",
          "model_name": "LayoutModel",
          "model_module_version": "1.2.0",
          "state": {
            "_model_module": "@jupyter-widgets/base",
            "_model_module_version": "1.2.0",
            "_model_name": "LayoutModel",
            "_view_count": null,
            "_view_module": "@jupyter-widgets/base",
            "_view_module_version": "1.2.0",
            "_view_name": "LayoutView",
            "align_content": null,
            "align_items": null,
            "align_self": null,
            "border": null,
            "bottom": null,
            "display": null,
            "flex": null,
            "flex_flow": null,
            "grid_area": null,
            "grid_auto_columns": null,
            "grid_auto_flow": null,
            "grid_auto_rows": null,
            "grid_column": null,
            "grid_gap": null,
            "grid_row": null,
            "grid_template_areas": null,
            "grid_template_columns": null,
            "grid_template_rows": null,
            "height": null,
            "justify_content": null,
            "justify_items": null,
            "left": null,
            "margin": null,
            "max_height": null,
            "max_width": null,
            "min_height": null,
            "min_width": null,
            "object_fit": null,
            "object_position": null,
            "order": null,
            "overflow": null,
            "overflow_x": null,
            "overflow_y": null,
            "padding": null,
            "right": null,
            "top": null,
            "visibility": null,
            "width": null
          }
        },
        "60a4055586f4449cba39002bd269d193": {
          "model_module": "@jupyter-widgets/controls",
          "model_name": "DescriptionStyleModel",
          "model_module_version": "1.5.0",
          "state": {
            "_model_module": "@jupyter-widgets/controls",
            "_model_module_version": "1.5.0",
            "_model_name": "DescriptionStyleModel",
            "_view_count": null,
            "_view_module": "@jupyter-widgets/base",
            "_view_module_version": "1.2.0",
            "_view_name": "StyleView",
            "description_width": ""
          }
        },
        "ee2a3a865695483b8698c1a014714644": {
          "model_module": "@jupyter-widgets/controls",
          "model_name": "HBoxModel",
          "model_module_version": "1.5.0",
          "state": {
            "_dom_classes": [],
            "_model_module": "@jupyter-widgets/controls",
            "_model_module_version": "1.5.0",
            "_model_name": "HBoxModel",
            "_view_count": null,
            "_view_module": "@jupyter-widgets/controls",
            "_view_module_version": "1.5.0",
            "_view_name": "HBoxView",
            "box_style": "",
            "children": [
              "IPY_MODEL_96e53f8045ff48539855bc11a93b23e9",
              "IPY_MODEL_41ed0c0f0ced43c786171e1f974ae402",
              "IPY_MODEL_58c3297a938e486a844184c0d8a42c2c"
            ],
            "layout": "IPY_MODEL_59cb36213463491badfd3c7180223a9d"
          }
        },
        "96e53f8045ff48539855bc11a93b23e9": {
          "model_module": "@jupyter-widgets/controls",
          "model_name": "HTMLModel",
          "model_module_version": "1.5.0",
          "state": {
            "_dom_classes": [],
            "_model_module": "@jupyter-widgets/controls",
            "_model_module_version": "1.5.0",
            "_model_name": "HTMLModel",
            "_view_count": null,
            "_view_module": "@jupyter-widgets/controls",
            "_view_module_version": "1.5.0",
            "_view_name": "HTMLView",
            "description": "",
            "description_tooltip": null,
            "layout": "IPY_MODEL_b81daaaa85c74830a9cc7f8eb5269540",
            "placeholder": "​",
            "style": "IPY_MODEL_512f2f6f808c41cbb341cdda1f21f1db",
            "value": "model.safetensors.index.json: 100%"
          }
        },
        "41ed0c0f0ced43c786171e1f974ae402": {
          "model_module": "@jupyter-widgets/controls",
          "model_name": "FloatProgressModel",
          "model_module_version": "1.5.0",
          "state": {
            "_dom_classes": [],
            "_model_module": "@jupyter-widgets/controls",
            "_model_module_version": "1.5.0",
            "_model_name": "FloatProgressModel",
            "_view_count": null,
            "_view_module": "@jupyter-widgets/controls",
            "_view_module_version": "1.5.0",
            "_view_name": "ProgressView",
            "bar_style": "success",
            "description": "",
            "description_tooltip": null,
            "layout": "IPY_MODEL_c834497cf00549b9922b1a9c7fbd913b",
            "max": 16331,
            "min": 0,
            "orientation": "horizontal",
            "style": "IPY_MODEL_8cbc4f6751164bff975cf12d1d3e334c",
            "value": 16331
          }
        },
        "58c3297a938e486a844184c0d8a42c2c": {
          "model_module": "@jupyter-widgets/controls",
          "model_name": "HTMLModel",
          "model_module_version": "1.5.0",
          "state": {
            "_dom_classes": [],
            "_model_module": "@jupyter-widgets/controls",
            "_model_module_version": "1.5.0",
            "_model_name": "HTMLModel",
            "_view_count": null,
            "_view_module": "@jupyter-widgets/controls",
            "_view_module_version": "1.5.0",
            "_view_name": "HTMLView",
            "description": "",
            "description_tooltip": null,
            "layout": "IPY_MODEL_4e8b62f1d344484ea560831422fcf0eb",
            "placeholder": "​",
            "style": "IPY_MODEL_1c65e4f1e1984583bc9ddb521f1f621d",
            "value": " 16.3k/16.3k [00:00&lt;00:00, 1.17MB/s]"
          }
        },
        "59cb36213463491badfd3c7180223a9d": {
          "model_module": "@jupyter-widgets/base",
          "model_name": "LayoutModel",
          "model_module_version": "1.2.0",
          "state": {
            "_model_module": "@jupyter-widgets/base",
            "_model_module_version": "1.2.0",
            "_model_name": "LayoutModel",
            "_view_count": null,
            "_view_module": "@jupyter-widgets/base",
            "_view_module_version": "1.2.0",
            "_view_name": "LayoutView",
            "align_content": null,
            "align_items": null,
            "align_self": null,
            "border": null,
            "bottom": null,
            "display": null,
            "flex": null,
            "flex_flow": null,
            "grid_area": null,
            "grid_auto_columns": null,
            "grid_auto_flow": null,
            "grid_auto_rows": null,
            "grid_column": null,
            "grid_gap": null,
            "grid_row": null,
            "grid_template_areas": null,
            "grid_template_columns": null,
            "grid_template_rows": null,
            "height": null,
            "justify_content": null,
            "justify_items": null,
            "left": null,
            "margin": null,
            "max_height": null,
            "max_width": null,
            "min_height": null,
            "min_width": null,
            "object_fit": null,
            "object_position": null,
            "order": null,
            "overflow": null,
            "overflow_x": null,
            "overflow_y": null,
            "padding": null,
            "right": null,
            "top": null,
            "visibility": null,
            "width": null
          }
        },
        "b81daaaa85c74830a9cc7f8eb5269540": {
          "model_module": "@jupyter-widgets/base",
          "model_name": "LayoutModel",
          "model_module_version": "1.2.0",
          "state": {
            "_model_module": "@jupyter-widgets/base",
            "_model_module_version": "1.2.0",
            "_model_name": "LayoutModel",
            "_view_count": null,
            "_view_module": "@jupyter-widgets/base",
            "_view_module_version": "1.2.0",
            "_view_name": "LayoutView",
            "align_content": null,
            "align_items": null,
            "align_self": null,
            "border": null,
            "bottom": null,
            "display": null,
            "flex": null,
            "flex_flow": null,
            "grid_area": null,
            "grid_auto_columns": null,
            "grid_auto_flow": null,
            "grid_auto_rows": null,
            "grid_column": null,
            "grid_gap": null,
            "grid_row": null,
            "grid_template_areas": null,
            "grid_template_columns": null,
            "grid_template_rows": null,
            "height": null,
            "justify_content": null,
            "justify_items": null,
            "left": null,
            "margin": null,
            "max_height": null,
            "max_width": null,
            "min_height": null,
            "min_width": null,
            "object_fit": null,
            "object_position": null,
            "order": null,
            "overflow": null,
            "overflow_x": null,
            "overflow_y": null,
            "padding": null,
            "right": null,
            "top": null,
            "visibility": null,
            "width": null
          }
        },
        "512f2f6f808c41cbb341cdda1f21f1db": {
          "model_module": "@jupyter-widgets/controls",
          "model_name": "DescriptionStyleModel",
          "model_module_version": "1.5.0",
          "state": {
            "_model_module": "@jupyter-widgets/controls",
            "_model_module_version": "1.5.0",
            "_model_name": "DescriptionStyleModel",
            "_view_count": null,
            "_view_module": "@jupyter-widgets/base",
            "_view_module_version": "1.2.0",
            "_view_name": "StyleView",
            "description_width": ""
          }
        },
        "c834497cf00549b9922b1a9c7fbd913b": {
          "model_module": "@jupyter-widgets/base",
          "model_name": "LayoutModel",
          "model_module_version": "1.2.0",
          "state": {
            "_model_module": "@jupyter-widgets/base",
            "_model_module_version": "1.2.0",
            "_model_name": "LayoutModel",
            "_view_count": null,
            "_view_module": "@jupyter-widgets/base",
            "_view_module_version": "1.2.0",
            "_view_name": "LayoutView",
            "align_content": null,
            "align_items": null,
            "align_self": null,
            "border": null,
            "bottom": null,
            "display": null,
            "flex": null,
            "flex_flow": null,
            "grid_area": null,
            "grid_auto_columns": null,
            "grid_auto_flow": null,
            "grid_auto_rows": null,
            "grid_column": null,
            "grid_gap": null,
            "grid_row": null,
            "grid_template_areas": null,
            "grid_template_columns": null,
            "grid_template_rows": null,
            "height": null,
            "justify_content": null,
            "justify_items": null,
            "left": null,
            "margin": null,
            "max_height": null,
            "max_width": null,
            "min_height": null,
            "min_width": null,
            "object_fit": null,
            "object_position": null,
            "order": null,
            "overflow": null,
            "overflow_x": null,
            "overflow_y": null,
            "padding": null,
            "right": null,
            "top": null,
            "visibility": null,
            "width": null
          }
        },
        "8cbc4f6751164bff975cf12d1d3e334c": {
          "model_module": "@jupyter-widgets/controls",
          "model_name": "ProgressStyleModel",
          "model_module_version": "1.5.0",
          "state": {
            "_model_module": "@jupyter-widgets/controls",
            "_model_module_version": "1.5.0",
            "_model_name": "ProgressStyleModel",
            "_view_count": null,
            "_view_module": "@jupyter-widgets/base",
            "_view_module_version": "1.2.0",
            "_view_name": "StyleView",
            "bar_color": null,
            "description_width": ""
          }
        },
        "4e8b62f1d344484ea560831422fcf0eb": {
          "model_module": "@jupyter-widgets/base",
          "model_name": "LayoutModel",
          "model_module_version": "1.2.0",
          "state": {
            "_model_module": "@jupyter-widgets/base",
            "_model_module_version": "1.2.0",
            "_model_name": "LayoutModel",
            "_view_count": null,
            "_view_module": "@jupyter-widgets/base",
            "_view_module_version": "1.2.0",
            "_view_name": "LayoutView",
            "align_content": null,
            "align_items": null,
            "align_self": null,
            "border": null,
            "bottom": null,
            "display": null,
            "flex": null,
            "flex_flow": null,
            "grid_area": null,
            "grid_auto_columns": null,
            "grid_auto_flow": null,
            "grid_auto_rows": null,
            "grid_column": null,
            "grid_gap": null,
            "grid_row": null,
            "grid_template_areas": null,
            "grid_template_columns": null,
            "grid_template_rows": null,
            "height": null,
            "justify_content": null,
            "justify_items": null,
            "left": null,
            "margin": null,
            "max_height": null,
            "max_width": null,
            "min_height": null,
            "min_width": null,
            "object_fit": null,
            "object_position": null,
            "order": null,
            "overflow": null,
            "overflow_x": null,
            "overflow_y": null,
            "padding": null,
            "right": null,
            "top": null,
            "visibility": null,
            "width": null
          }
        },
        "1c65e4f1e1984583bc9ddb521f1f621d": {
          "model_module": "@jupyter-widgets/controls",
          "model_name": "DescriptionStyleModel",
          "model_module_version": "1.5.0",
          "state": {
            "_model_module": "@jupyter-widgets/controls",
            "_model_module_version": "1.5.0",
            "_model_name": "DescriptionStyleModel",
            "_view_count": null,
            "_view_module": "@jupyter-widgets/base",
            "_view_module_version": "1.2.0",
            "_view_name": "StyleView",
            "description_width": ""
          }
        },
        "db729e8085dd401cb5aac7d2c980b33b": {
          "model_module": "@jupyter-widgets/controls",
          "model_name": "HBoxModel",
          "model_module_version": "1.5.0",
          "state": {
            "_dom_classes": [],
            "_model_module": "@jupyter-widgets/controls",
            "_model_module_version": "1.5.0",
            "_model_name": "HBoxModel",
            "_view_count": null,
            "_view_module": "@jupyter-widgets/controls",
            "_view_module_version": "1.5.0",
            "_view_name": "HBoxView",
            "box_style": "",
            "children": [
              "IPY_MODEL_7175f456f95e4102b72591b678754127",
              "IPY_MODEL_f0176fe088834a7880caedaef4ab465f",
              "IPY_MODEL_221ca82fb6bc46399265887410abeb28"
            ],
            "layout": "IPY_MODEL_9c85e9e15b4140bc877b9a21a6ae243b"
          }
        },
        "7175f456f95e4102b72591b678754127": {
          "model_module": "@jupyter-widgets/controls",
          "model_name": "HTMLModel",
          "model_module_version": "1.5.0",
          "state": {
            "_dom_classes": [],
            "_model_module": "@jupyter-widgets/controls",
            "_model_module_version": "1.5.0",
            "_model_name": "HTMLModel",
            "_view_count": null,
            "_view_module": "@jupyter-widgets/controls",
            "_view_module_version": "1.5.0",
            "_view_name": "HTMLView",
            "description": "",
            "description_tooltip": null,
            "layout": "IPY_MODEL_9b361179542f45048ea640b3745f9b4e",
            "placeholder": "​",
            "style": "IPY_MODEL_d3ddcbdaa5e5492692e71094a233629e",
            "value": "Downloading shards: 100%"
          }
        },
        "f0176fe088834a7880caedaef4ab465f": {
          "model_module": "@jupyter-widgets/controls",
          "model_name": "FloatProgressModel",
          "model_module_version": "1.5.0",
          "state": {
            "_dom_classes": [],
            "_model_module": "@jupyter-widgets/controls",
            "_model_module_version": "1.5.0",
            "_model_name": "FloatProgressModel",
            "_view_count": null,
            "_view_module": "@jupyter-widgets/controls",
            "_view_module_version": "1.5.0",
            "_view_name": "ProgressView",
            "bar_style": "success",
            "description": "",
            "description_tooltip": null,
            "layout": "IPY_MODEL_bb14e3a3ece242dd882e5f480ada1703",
            "max": 2,
            "min": 0,
            "orientation": "horizontal",
            "style": "IPY_MODEL_c305ee0d4bab4810a61d89ee3d4ef069",
            "value": 2
          }
        },
        "221ca82fb6bc46399265887410abeb28": {
          "model_module": "@jupyter-widgets/controls",
          "model_name": "HTMLModel",
          "model_module_version": "1.5.0",
          "state": {
            "_dom_classes": [],
            "_model_module": "@jupyter-widgets/controls",
            "_model_module_version": "1.5.0",
            "_model_name": "HTMLModel",
            "_view_count": null,
            "_view_module": "@jupyter-widgets/controls",
            "_view_module_version": "1.5.0",
            "_view_name": "HTMLView",
            "description": "",
            "description_tooltip": null,
            "layout": "IPY_MODEL_29df58bf531c4fa8af7c21087d5d72fe",
            "placeholder": "​",
            "style": "IPY_MODEL_0d853b026d344369b889be4551d028f4",
            "value": " 2/2 [00:39&lt;00:00, 18.88s/it]"
          }
        },
        "9c85e9e15b4140bc877b9a21a6ae243b": {
          "model_module": "@jupyter-widgets/base",
          "model_name": "LayoutModel",
          "model_module_version": "1.2.0",
          "state": {
            "_model_module": "@jupyter-widgets/base",
            "_model_module_version": "1.2.0",
            "_model_name": "LayoutModel",
            "_view_count": null,
            "_view_module": "@jupyter-widgets/base",
            "_view_module_version": "1.2.0",
            "_view_name": "LayoutView",
            "align_content": null,
            "align_items": null,
            "align_self": null,
            "border": null,
            "bottom": null,
            "display": null,
            "flex": null,
            "flex_flow": null,
            "grid_area": null,
            "grid_auto_columns": null,
            "grid_auto_flow": null,
            "grid_auto_rows": null,
            "grid_column": null,
            "grid_gap": null,
            "grid_row": null,
            "grid_template_areas": null,
            "grid_template_columns": null,
            "grid_template_rows": null,
            "height": null,
            "justify_content": null,
            "justify_items": null,
            "left": null,
            "margin": null,
            "max_height": null,
            "max_width": null,
            "min_height": null,
            "min_width": null,
            "object_fit": null,
            "object_position": null,
            "order": null,
            "overflow": null,
            "overflow_x": null,
            "overflow_y": null,
            "padding": null,
            "right": null,
            "top": null,
            "visibility": null,
            "width": null
          }
        },
        "9b361179542f45048ea640b3745f9b4e": {
          "model_module": "@jupyter-widgets/base",
          "model_name": "LayoutModel",
          "model_module_version": "1.2.0",
          "state": {
            "_model_module": "@jupyter-widgets/base",
            "_model_module_version": "1.2.0",
            "_model_name": "LayoutModel",
            "_view_count": null,
            "_view_module": "@jupyter-widgets/base",
            "_view_module_version": "1.2.0",
            "_view_name": "LayoutView",
            "align_content": null,
            "align_items": null,
            "align_self": null,
            "border": null,
            "bottom": null,
            "display": null,
            "flex": null,
            "flex_flow": null,
            "grid_area": null,
            "grid_auto_columns": null,
            "grid_auto_flow": null,
            "grid_auto_rows": null,
            "grid_column": null,
            "grid_gap": null,
            "grid_row": null,
            "grid_template_areas": null,
            "grid_template_columns": null,
            "grid_template_rows": null,
            "height": null,
            "justify_content": null,
            "justify_items": null,
            "left": null,
            "margin": null,
            "max_height": null,
            "max_width": null,
            "min_height": null,
            "min_width": null,
            "object_fit": null,
            "object_position": null,
            "order": null,
            "overflow": null,
            "overflow_x": null,
            "overflow_y": null,
            "padding": null,
            "right": null,
            "top": null,
            "visibility": null,
            "width": null
          }
        },
        "d3ddcbdaa5e5492692e71094a233629e": {
          "model_module": "@jupyter-widgets/controls",
          "model_name": "DescriptionStyleModel",
          "model_module_version": "1.5.0",
          "state": {
            "_model_module": "@jupyter-widgets/controls",
            "_model_module_version": "1.5.0",
            "_model_name": "DescriptionStyleModel",
            "_view_count": null,
            "_view_module": "@jupyter-widgets/base",
            "_view_module_version": "1.2.0",
            "_view_name": "StyleView",
            "description_width": ""
          }
        },
        "bb14e3a3ece242dd882e5f480ada1703": {
          "model_module": "@jupyter-widgets/base",
          "model_name": "LayoutModel",
          "model_module_version": "1.2.0",
          "state": {
            "_model_module": "@jupyter-widgets/base",
            "_model_module_version": "1.2.0",
            "_model_name": "LayoutModel",
            "_view_count": null,
            "_view_module": "@jupyter-widgets/base",
            "_view_module_version": "1.2.0",
            "_view_name": "LayoutView",
            "align_content": null,
            "align_items": null,
            "align_self": null,
            "border": null,
            "bottom": null,
            "display": null,
            "flex": null,
            "flex_flow": null,
            "grid_area": null,
            "grid_auto_columns": null,
            "grid_auto_flow": null,
            "grid_auto_rows": null,
            "grid_column": null,
            "grid_gap": null,
            "grid_row": null,
            "grid_template_areas": null,
            "grid_template_columns": null,
            "grid_template_rows": null,
            "height": null,
            "justify_content": null,
            "justify_items": null,
            "left": null,
            "margin": null,
            "max_height": null,
            "max_width": null,
            "min_height": null,
            "min_width": null,
            "object_fit": null,
            "object_position": null,
            "order": null,
            "overflow": null,
            "overflow_x": null,
            "overflow_y": null,
            "padding": null,
            "right": null,
            "top": null,
            "visibility": null,
            "width": null
          }
        },
        "c305ee0d4bab4810a61d89ee3d4ef069": {
          "model_module": "@jupyter-widgets/controls",
          "model_name": "ProgressStyleModel",
          "model_module_version": "1.5.0",
          "state": {
            "_model_module": "@jupyter-widgets/controls",
            "_model_module_version": "1.5.0",
            "_model_name": "ProgressStyleModel",
            "_view_count": null,
            "_view_module": "@jupyter-widgets/base",
            "_view_module_version": "1.2.0",
            "_view_name": "StyleView",
            "bar_color": null,
            "description_width": ""
          }
        },
        "29df58bf531c4fa8af7c21087d5d72fe": {
          "model_module": "@jupyter-widgets/base",
          "model_name": "LayoutModel",
          "model_module_version": "1.2.0",
          "state": {
            "_model_module": "@jupyter-widgets/base",
            "_model_module_version": "1.2.0",
            "_model_name": "LayoutModel",
            "_view_count": null,
            "_view_module": "@jupyter-widgets/base",
            "_view_module_version": "1.2.0",
            "_view_name": "LayoutView",
            "align_content": null,
            "align_items": null,
            "align_self": null,
            "border": null,
            "bottom": null,
            "display": null,
            "flex": null,
            "flex_flow": null,
            "grid_area": null,
            "grid_auto_columns": null,
            "grid_auto_flow": null,
            "grid_auto_rows": null,
            "grid_column": null,
            "grid_gap": null,
            "grid_row": null,
            "grid_template_areas": null,
            "grid_template_columns": null,
            "grid_template_rows": null,
            "height": null,
            "justify_content": null,
            "justify_items": null,
            "left": null,
            "margin": null,
            "max_height": null,
            "max_width": null,
            "min_height": null,
            "min_width": null,
            "object_fit": null,
            "object_position": null,
            "order": null,
            "overflow": null,
            "overflow_x": null,
            "overflow_y": null,
            "padding": null,
            "right": null,
            "top": null,
            "visibility": null,
            "width": null
          }
        },
        "0d853b026d344369b889be4551d028f4": {
          "model_module": "@jupyter-widgets/controls",
          "model_name": "DescriptionStyleModel",
          "model_module_version": "1.5.0",
          "state": {
            "_model_module": "@jupyter-widgets/controls",
            "_model_module_version": "1.5.0",
            "_model_name": "DescriptionStyleModel",
            "_view_count": null,
            "_view_module": "@jupyter-widgets/base",
            "_view_module_version": "1.2.0",
            "_view_name": "StyleView",
            "description_width": ""
          }
        },
        "3d72ced024a34406a2771b271c489618": {
          "model_module": "@jupyter-widgets/controls",
          "model_name": "HBoxModel",
          "model_module_version": "1.5.0",
          "state": {
            "_dom_classes": [],
            "_model_module": "@jupyter-widgets/controls",
            "_model_module_version": "1.5.0",
            "_model_name": "HBoxModel",
            "_view_count": null,
            "_view_module": "@jupyter-widgets/controls",
            "_view_module_version": "1.5.0",
            "_view_name": "HBoxView",
            "box_style": "",
            "children": [
              "IPY_MODEL_a2fe8c91ef974e45bdb61e54ef0b6ace",
              "IPY_MODEL_dc2dc455cb414c698ec4a74a36821505",
              "IPY_MODEL_0efa5c886cdb4c13bf70ba309da67a58"
            ],
            "layout": "IPY_MODEL_045740169d884398bd2213f0d5ce6f82"
          }
        },
        "a2fe8c91ef974e45bdb61e54ef0b6ace": {
          "model_module": "@jupyter-widgets/controls",
          "model_name": "HTMLModel",
          "model_module_version": "1.5.0",
          "state": {
            "_dom_classes": [],
            "_model_module": "@jupyter-widgets/controls",
            "_model_module_version": "1.5.0",
            "_model_name": "HTMLModel",
            "_view_count": null,
            "_view_module": "@jupyter-widgets/controls",
            "_view_module_version": "1.5.0",
            "_view_name": "HTMLView",
            "description": "",
            "description_tooltip": null,
            "layout": "IPY_MODEL_0d477d7ea1594959bbe7bca5fd9ea37a",
            "placeholder": "​",
            "style": "IPY_MODEL_8adae5d2be704b8994002aae0be846f1",
            "value": "model-00001-of-00002.safetensors: 100%"
          }
        },
        "dc2dc455cb414c698ec4a74a36821505": {
          "model_module": "@jupyter-widgets/controls",
          "model_name": "FloatProgressModel",
          "model_module_version": "1.5.0",
          "state": {
            "_dom_classes": [],
            "_model_module": "@jupyter-widgets/controls",
            "_model_module_version": "1.5.0",
            "_model_name": "FloatProgressModel",
            "_view_count": null,
            "_view_module": "@jupyter-widgets/controls",
            "_view_module_version": "1.5.0",
            "_view_name": "ProgressView",
            "bar_style": "success",
            "description": "",
            "description_tooltip": null,
            "layout": "IPY_MODEL_83e35806bd6f48a48480317103c6edee",
            "max": 4972489328,
            "min": 0,
            "orientation": "horizontal",
            "style": "IPY_MODEL_c3432506a8654274b91ffb7151eb7d2b",
            "value": 4972489328
          }
        },
        "0efa5c886cdb4c13bf70ba309da67a58": {
          "model_module": "@jupyter-widgets/controls",
          "model_name": "HTMLModel",
          "model_module_version": "1.5.0",
          "state": {
            "_dom_classes": [],
            "_model_module": "@jupyter-widgets/controls",
            "_model_module_version": "1.5.0",
            "_model_name": "HTMLModel",
            "_view_count": null,
            "_view_module": "@jupyter-widgets/controls",
            "_view_module_version": "1.5.0",
            "_view_name": "HTMLView",
            "description": "",
            "description_tooltip": null,
            "layout": "IPY_MODEL_9d56f751e32b4d9c961103ef5bd1a67c",
            "placeholder": "​",
            "style": "IPY_MODEL_fe8674d8381045e4836c48cacc1e8a75",
            "value": " 4.97G/4.97G [00:23&lt;00:00, 244MB/s]"
          }
        },
        "045740169d884398bd2213f0d5ce6f82": {
          "model_module": "@jupyter-widgets/base",
          "model_name": "LayoutModel",
          "model_module_version": "1.2.0",
          "state": {
            "_model_module": "@jupyter-widgets/base",
            "_model_module_version": "1.2.0",
            "_model_name": "LayoutModel",
            "_view_count": null,
            "_view_module": "@jupyter-widgets/base",
            "_view_module_version": "1.2.0",
            "_view_name": "LayoutView",
            "align_content": null,
            "align_items": null,
            "align_self": null,
            "border": null,
            "bottom": null,
            "display": null,
            "flex": null,
            "flex_flow": null,
            "grid_area": null,
            "grid_auto_columns": null,
            "grid_auto_flow": null,
            "grid_auto_rows": null,
            "grid_column": null,
            "grid_gap": null,
            "grid_row": null,
            "grid_template_areas": null,
            "grid_template_columns": null,
            "grid_template_rows": null,
            "height": null,
            "justify_content": null,
            "justify_items": null,
            "left": null,
            "margin": null,
            "max_height": null,
            "max_width": null,
            "min_height": null,
            "min_width": null,
            "object_fit": null,
            "object_position": null,
            "order": null,
            "overflow": null,
            "overflow_x": null,
            "overflow_y": null,
            "padding": null,
            "right": null,
            "top": null,
            "visibility": null,
            "width": null
          }
        },
        "0d477d7ea1594959bbe7bca5fd9ea37a": {
          "model_module": "@jupyter-widgets/base",
          "model_name": "LayoutModel",
          "model_module_version": "1.2.0",
          "state": {
            "_model_module": "@jupyter-widgets/base",
            "_model_module_version": "1.2.0",
            "_model_name": "LayoutModel",
            "_view_count": null,
            "_view_module": "@jupyter-widgets/base",
            "_view_module_version": "1.2.0",
            "_view_name": "LayoutView",
            "align_content": null,
            "align_items": null,
            "align_self": null,
            "border": null,
            "bottom": null,
            "display": null,
            "flex": null,
            "flex_flow": null,
            "grid_area": null,
            "grid_auto_columns": null,
            "grid_auto_flow": null,
            "grid_auto_rows": null,
            "grid_column": null,
            "grid_gap": null,
            "grid_row": null,
            "grid_template_areas": null,
            "grid_template_columns": null,
            "grid_template_rows": null,
            "height": null,
            "justify_content": null,
            "justify_items": null,
            "left": null,
            "margin": null,
            "max_height": null,
            "max_width": null,
            "min_height": null,
            "min_width": null,
            "object_fit": null,
            "object_position": null,
            "order": null,
            "overflow": null,
            "overflow_x": null,
            "overflow_y": null,
            "padding": null,
            "right": null,
            "top": null,
            "visibility": null,
            "width": null
          }
        },
        "8adae5d2be704b8994002aae0be846f1": {
          "model_module": "@jupyter-widgets/controls",
          "model_name": "DescriptionStyleModel",
          "model_module_version": "1.5.0",
          "state": {
            "_model_module": "@jupyter-widgets/controls",
            "_model_module_version": "1.5.0",
            "_model_name": "DescriptionStyleModel",
            "_view_count": null,
            "_view_module": "@jupyter-widgets/base",
            "_view_module_version": "1.2.0",
            "_view_name": "StyleView",
            "description_width": ""
          }
        },
        "83e35806bd6f48a48480317103c6edee": {
          "model_module": "@jupyter-widgets/base",
          "model_name": "LayoutModel",
          "model_module_version": "1.2.0",
          "state": {
            "_model_module": "@jupyter-widgets/base",
            "_model_module_version": "1.2.0",
            "_model_name": "LayoutModel",
            "_view_count": null,
            "_view_module": "@jupyter-widgets/base",
            "_view_module_version": "1.2.0",
            "_view_name": "LayoutView",
            "align_content": null,
            "align_items": null,
            "align_self": null,
            "border": null,
            "bottom": null,
            "display": null,
            "flex": null,
            "flex_flow": null,
            "grid_area": null,
            "grid_auto_columns": null,
            "grid_auto_flow": null,
            "grid_auto_rows": null,
            "grid_column": null,
            "grid_gap": null,
            "grid_row": null,
            "grid_template_areas": null,
            "grid_template_columns": null,
            "grid_template_rows": null,
            "height": null,
            "justify_content": null,
            "justify_items": null,
            "left": null,
            "margin": null,
            "max_height": null,
            "max_width": null,
            "min_height": null,
            "min_width": null,
            "object_fit": null,
            "object_position": null,
            "order": null,
            "overflow": null,
            "overflow_x": null,
            "overflow_y": null,
            "padding": null,
            "right": null,
            "top": null,
            "visibility": null,
            "width": null
          }
        },
        "c3432506a8654274b91ffb7151eb7d2b": {
          "model_module": "@jupyter-widgets/controls",
          "model_name": "ProgressStyleModel",
          "model_module_version": "1.5.0",
          "state": {
            "_model_module": "@jupyter-widgets/controls",
            "_model_module_version": "1.5.0",
            "_model_name": "ProgressStyleModel",
            "_view_count": null,
            "_view_module": "@jupyter-widgets/base",
            "_view_module_version": "1.2.0",
            "_view_name": "StyleView",
            "bar_color": null,
            "description_width": ""
          }
        },
        "9d56f751e32b4d9c961103ef5bd1a67c": {
          "model_module": "@jupyter-widgets/base",
          "model_name": "LayoutModel",
          "model_module_version": "1.2.0",
          "state": {
            "_model_module": "@jupyter-widgets/base",
            "_model_module_version": "1.2.0",
            "_model_name": "LayoutModel",
            "_view_count": null,
            "_view_module": "@jupyter-widgets/base",
            "_view_module_version": "1.2.0",
            "_view_name": "LayoutView",
            "align_content": null,
            "align_items": null,
            "align_self": null,
            "border": null,
            "bottom": null,
            "display": null,
            "flex": null,
            "flex_flow": null,
            "grid_area": null,
            "grid_auto_columns": null,
            "grid_auto_flow": null,
            "grid_auto_rows": null,
            "grid_column": null,
            "grid_gap": null,
            "grid_row": null,
            "grid_template_areas": null,
            "grid_template_columns": null,
            "grid_template_rows": null,
            "height": null,
            "justify_content": null,
            "justify_items": null,
            "left": null,
            "margin": null,
            "max_height": null,
            "max_width": null,
            "min_height": null,
            "min_width": null,
            "object_fit": null,
            "object_position": null,
            "order": null,
            "overflow": null,
            "overflow_x": null,
            "overflow_y": null,
            "padding": null,
            "right": null,
            "top": null,
            "visibility": null,
            "width": null
          }
        },
        "fe8674d8381045e4836c48cacc1e8a75": {
          "model_module": "@jupyter-widgets/controls",
          "model_name": "DescriptionStyleModel",
          "model_module_version": "1.5.0",
          "state": {
            "_model_module": "@jupyter-widgets/controls",
            "_model_module_version": "1.5.0",
            "_model_name": "DescriptionStyleModel",
            "_view_count": null,
            "_view_module": "@jupyter-widgets/base",
            "_view_module_version": "1.2.0",
            "_view_name": "StyleView",
            "description_width": ""
          }
        },
        "98f158fb853d45ac9ee9f1ad6c1c6883": {
          "model_module": "@jupyter-widgets/controls",
          "model_name": "HBoxModel",
          "model_module_version": "1.5.0",
          "state": {
            "_dom_classes": [],
            "_model_module": "@jupyter-widgets/controls",
            "_model_module_version": "1.5.0",
            "_model_name": "HBoxModel",
            "_view_count": null,
            "_view_module": "@jupyter-widgets/controls",
            "_view_module_version": "1.5.0",
            "_view_name": "HBoxView",
            "box_style": "",
            "children": [
              "IPY_MODEL_8b3d741628774789b44452136509339f",
              "IPY_MODEL_c3309c1df8e94c5bb7ca095d69b073df",
              "IPY_MODEL_63b5f31a7b304834ab0a603ea01fdb59"
            ],
            "layout": "IPY_MODEL_f9ca6010a1dc4b12b3f9e30ba51246d9"
          }
        },
        "8b3d741628774789b44452136509339f": {
          "model_module": "@jupyter-widgets/controls",
          "model_name": "HTMLModel",
          "model_module_version": "1.5.0",
          "state": {
            "_dom_classes": [],
            "_model_module": "@jupyter-widgets/controls",
            "_model_module_version": "1.5.0",
            "_model_name": "HTMLModel",
            "_view_count": null,
            "_view_module": "@jupyter-widgets/controls",
            "_view_module_version": "1.5.0",
            "_view_name": "HTMLView",
            "description": "",
            "description_tooltip": null,
            "layout": "IPY_MODEL_2a644b7c21c64f98b0d6c6e6fbaab01c",
            "placeholder": "​",
            "style": "IPY_MODEL_8cc0d068f8d84dd0b40cdfb501834f97",
            "value": "model-00002-of-00002.safetensors: 100%"
          }
        },
        "c3309c1df8e94c5bb7ca095d69b073df": {
          "model_module": "@jupyter-widgets/controls",
          "model_name": "FloatProgressModel",
          "model_module_version": "1.5.0",
          "state": {
            "_dom_classes": [],
            "_model_module": "@jupyter-widgets/controls",
            "_model_module_version": "1.5.0",
            "_model_name": "FloatProgressModel",
            "_view_count": null,
            "_view_module": "@jupyter-widgets/controls",
            "_view_module_version": "1.5.0",
            "_view_name": "ProgressView",
            "bar_style": "success",
            "description": "",
            "description_tooltip": null,
            "layout": "IPY_MODEL_6086bb1c95744c53b00d5977fc81c80d",
            "max": 2669692552,
            "min": 0,
            "orientation": "horizontal",
            "style": "IPY_MODEL_ee16826fed9d4e37854f540c28811dde",
            "value": 2669692552
          }
        },
        "63b5f31a7b304834ab0a603ea01fdb59": {
          "model_module": "@jupyter-widgets/controls",
          "model_name": "HTMLModel",
          "model_module_version": "1.5.0",
          "state": {
            "_dom_classes": [],
            "_model_module": "@jupyter-widgets/controls",
            "_model_module_version": "1.5.0",
            "_model_name": "HTMLModel",
            "_view_count": null,
            "_view_module": "@jupyter-widgets/controls",
            "_view_module_version": "1.5.0",
            "_view_name": "HTMLView",
            "description": "",
            "description_tooltip": null,
            "layout": "IPY_MODEL_a47364775d9443c5a3e84b76bef3edbf",
            "placeholder": "​",
            "style": "IPY_MODEL_0db232962ffd46a68b5f3dfa90f04100",
            "value": " 2.67G/2.67G [00:15&lt;00:00, 118MB/s]"
          }
        },
        "f9ca6010a1dc4b12b3f9e30ba51246d9": {
          "model_module": "@jupyter-widgets/base",
          "model_name": "LayoutModel",
          "model_module_version": "1.2.0",
          "state": {
            "_model_module": "@jupyter-widgets/base",
            "_model_module_version": "1.2.0",
            "_model_name": "LayoutModel",
            "_view_count": null,
            "_view_module": "@jupyter-widgets/base",
            "_view_module_version": "1.2.0",
            "_view_name": "LayoutView",
            "align_content": null,
            "align_items": null,
            "align_self": null,
            "border": null,
            "bottom": null,
            "display": null,
            "flex": null,
            "flex_flow": null,
            "grid_area": null,
            "grid_auto_columns": null,
            "grid_auto_flow": null,
            "grid_auto_rows": null,
            "grid_column": null,
            "grid_gap": null,
            "grid_row": null,
            "grid_template_areas": null,
            "grid_template_columns": null,
            "grid_template_rows": null,
            "height": null,
            "justify_content": null,
            "justify_items": null,
            "left": null,
            "margin": null,
            "max_height": null,
            "max_width": null,
            "min_height": null,
            "min_width": null,
            "object_fit": null,
            "object_position": null,
            "order": null,
            "overflow": null,
            "overflow_x": null,
            "overflow_y": null,
            "padding": null,
            "right": null,
            "top": null,
            "visibility": null,
            "width": null
          }
        },
        "2a644b7c21c64f98b0d6c6e6fbaab01c": {
          "model_module": "@jupyter-widgets/base",
          "model_name": "LayoutModel",
          "model_module_version": "1.2.0",
          "state": {
            "_model_module": "@jupyter-widgets/base",
            "_model_module_version": "1.2.0",
            "_model_name": "LayoutModel",
            "_view_count": null,
            "_view_module": "@jupyter-widgets/base",
            "_view_module_version": "1.2.0",
            "_view_name": "LayoutView",
            "align_content": null,
            "align_items": null,
            "align_self": null,
            "border": null,
            "bottom": null,
            "display": null,
            "flex": null,
            "flex_flow": null,
            "grid_area": null,
            "grid_auto_columns": null,
            "grid_auto_flow": null,
            "grid_auto_rows": null,
            "grid_column": null,
            "grid_gap": null,
            "grid_row": null,
            "grid_template_areas": null,
            "grid_template_columns": null,
            "grid_template_rows": null,
            "height": null,
            "justify_content": null,
            "justify_items": null,
            "left": null,
            "margin": null,
            "max_height": null,
            "max_width": null,
            "min_height": null,
            "min_width": null,
            "object_fit": null,
            "object_position": null,
            "order": null,
            "overflow": null,
            "overflow_x": null,
            "overflow_y": null,
            "padding": null,
            "right": null,
            "top": null,
            "visibility": null,
            "width": null
          }
        },
        "8cc0d068f8d84dd0b40cdfb501834f97": {
          "model_module": "@jupyter-widgets/controls",
          "model_name": "DescriptionStyleModel",
          "model_module_version": "1.5.0",
          "state": {
            "_model_module": "@jupyter-widgets/controls",
            "_model_module_version": "1.5.0",
            "_model_name": "DescriptionStyleModel",
            "_view_count": null,
            "_view_module": "@jupyter-widgets/base",
            "_view_module_version": "1.2.0",
            "_view_name": "StyleView",
            "description_width": ""
          }
        },
        "6086bb1c95744c53b00d5977fc81c80d": {
          "model_module": "@jupyter-widgets/base",
          "model_name": "LayoutModel",
          "model_module_version": "1.2.0",
          "state": {
            "_model_module": "@jupyter-widgets/base",
            "_model_module_version": "1.2.0",
            "_model_name": "LayoutModel",
            "_view_count": null,
            "_view_module": "@jupyter-widgets/base",
            "_view_module_version": "1.2.0",
            "_view_name": "LayoutView",
            "align_content": null,
            "align_items": null,
            "align_self": null,
            "border": null,
            "bottom": null,
            "display": null,
            "flex": null,
            "flex_flow": null,
            "grid_area": null,
            "grid_auto_columns": null,
            "grid_auto_flow": null,
            "grid_auto_rows": null,
            "grid_column": null,
            "grid_gap": null,
            "grid_row": null,
            "grid_template_areas": null,
            "grid_template_columns": null,
            "grid_template_rows": null,
            "height": null,
            "justify_content": null,
            "justify_items": null,
            "left": null,
            "margin": null,
            "max_height": null,
            "max_width": null,
            "min_height": null,
            "min_width": null,
            "object_fit": null,
            "object_position": null,
            "order": null,
            "overflow": null,
            "overflow_x": null,
            "overflow_y": null,
            "padding": null,
            "right": null,
            "top": null,
            "visibility": null,
            "width": null
          }
        },
        "ee16826fed9d4e37854f540c28811dde": {
          "model_module": "@jupyter-widgets/controls",
          "model_name": "ProgressStyleModel",
          "model_module_version": "1.5.0",
          "state": {
            "_model_module": "@jupyter-widgets/controls",
            "_model_module_version": "1.5.0",
            "_model_name": "ProgressStyleModel",
            "_view_count": null,
            "_view_module": "@jupyter-widgets/base",
            "_view_module_version": "1.2.0",
            "_view_name": "StyleView",
            "bar_color": null,
            "description_width": ""
          }
        },
        "a47364775d9443c5a3e84b76bef3edbf": {
          "model_module": "@jupyter-widgets/base",
          "model_name": "LayoutModel",
          "model_module_version": "1.2.0",
          "state": {
            "_model_module": "@jupyter-widgets/base",
            "_model_module_version": "1.2.0",
            "_model_name": "LayoutModel",
            "_view_count": null,
            "_view_module": "@jupyter-widgets/base",
            "_view_module_version": "1.2.0",
            "_view_name": "LayoutView",
            "align_content": null,
            "align_items": null,
            "align_self": null,
            "border": null,
            "bottom": null,
            "display": null,
            "flex": null,
            "flex_flow": null,
            "grid_area": null,
            "grid_auto_columns": null,
            "grid_auto_flow": null,
            "grid_auto_rows": null,
            "grid_column": null,
            "grid_gap": null,
            "grid_row": null,
            "grid_template_areas": null,
            "grid_template_columns": null,
            "grid_template_rows": null,
            "height": null,
            "justify_content": null,
            "justify_items": null,
            "left": null,
            "margin": null,
            "max_height": null,
            "max_width": null,
            "min_height": null,
            "min_width": null,
            "object_fit": null,
            "object_position": null,
            "order": null,
            "overflow": null,
            "overflow_x": null,
            "overflow_y": null,
            "padding": null,
            "right": null,
            "top": null,
            "visibility": null,
            "width": null
          }
        },
        "0db232962ffd46a68b5f3dfa90f04100": {
          "model_module": "@jupyter-widgets/controls",
          "model_name": "DescriptionStyleModel",
          "model_module_version": "1.5.0",
          "state": {
            "_model_module": "@jupyter-widgets/controls",
            "_model_module_version": "1.5.0",
            "_model_name": "DescriptionStyleModel",
            "_view_count": null,
            "_view_module": "@jupyter-widgets/base",
            "_view_module_version": "1.2.0",
            "_view_name": "StyleView",
            "description_width": ""
          }
        },
        "0ff12b20a55541279110a2fcd4c17fcf": {
          "model_module": "@jupyter-widgets/controls",
          "model_name": "HBoxModel",
          "model_module_version": "1.5.0",
          "state": {
            "_dom_classes": [],
            "_model_module": "@jupyter-widgets/controls",
            "_model_module_version": "1.5.0",
            "_model_name": "HBoxModel",
            "_view_count": null,
            "_view_module": "@jupyter-widgets/controls",
            "_view_module_version": "1.5.0",
            "_view_name": "HBoxView",
            "box_style": "",
            "children": [
              "IPY_MODEL_ad3b5045ba4d42eab9ffebbee79fc3ad",
              "IPY_MODEL_7fafbd46b3b243a5a7418cfe9dedae03",
              "IPY_MODEL_ec8146e89c9f4c9baa6874d1c65d6761"
            ],
            "layout": "IPY_MODEL_28f4167be77144569783adae60f463ca"
          }
        },
        "ad3b5045ba4d42eab9ffebbee79fc3ad": {
          "model_module": "@jupyter-widgets/controls",
          "model_name": "HTMLModel",
          "model_module_version": "1.5.0",
          "state": {
            "_dom_classes": [],
            "_model_module": "@jupyter-widgets/controls",
            "_model_module_version": "1.5.0",
            "_model_name": "HTMLModel",
            "_view_count": null,
            "_view_module": "@jupyter-widgets/controls",
            "_view_module_version": "1.5.0",
            "_view_name": "HTMLView",
            "description": "",
            "description_tooltip": null,
            "layout": "IPY_MODEL_11d3b9f1512c41cea8dc11d66fb19bfc",
            "placeholder": "​",
            "style": "IPY_MODEL_9a9ceecdbd3648d3a88b642d389b937a",
            "value": "Loading checkpoint shards: 100%"
          }
        },
        "7fafbd46b3b243a5a7418cfe9dedae03": {
          "model_module": "@jupyter-widgets/controls",
          "model_name": "FloatProgressModel",
          "model_module_version": "1.5.0",
          "state": {
            "_dom_classes": [],
            "_model_module": "@jupyter-widgets/controls",
            "_model_module_version": "1.5.0",
            "_model_name": "FloatProgressModel",
            "_view_count": null,
            "_view_module": "@jupyter-widgets/controls",
            "_view_module_version": "1.5.0",
            "_view_name": "ProgressView",
            "bar_style": "success",
            "description": "",
            "description_tooltip": null,
            "layout": "IPY_MODEL_678d852086274029b3880bd216313df8",
            "max": 2,
            "min": 0,
            "orientation": "horizontal",
            "style": "IPY_MODEL_fbae88ec53b8494f8de12a56a9230903",
            "value": 2
          }
        },
        "ec8146e89c9f4c9baa6874d1c65d6761": {
          "model_module": "@jupyter-widgets/controls",
          "model_name": "HTMLModel",
          "model_module_version": "1.5.0",
          "state": {
            "_dom_classes": [],
            "_model_module": "@jupyter-widgets/controls",
            "_model_module_version": "1.5.0",
            "_model_name": "HTMLModel",
            "_view_count": null,
            "_view_module": "@jupyter-widgets/controls",
            "_view_module_version": "1.5.0",
            "_view_name": "HTMLView",
            "description": "",
            "description_tooltip": null,
            "layout": "IPY_MODEL_a54124479e1a41b58b372c71cb82b8ca",
            "placeholder": "​",
            "style": "IPY_MODEL_9f8eab11b9d845af93d6c822001f2d11",
            "value": " 2/2 [00:01&lt;00:00,  1.16it/s]"
          }
        },
        "28f4167be77144569783adae60f463ca": {
          "model_module": "@jupyter-widgets/base",
          "model_name": "LayoutModel",
          "model_module_version": "1.2.0",
          "state": {
            "_model_module": "@jupyter-widgets/base",
            "_model_module_version": "1.2.0",
            "_model_name": "LayoutModel",
            "_view_count": null,
            "_view_module": "@jupyter-widgets/base",
            "_view_module_version": "1.2.0",
            "_view_name": "LayoutView",
            "align_content": null,
            "align_items": null,
            "align_self": null,
            "border": null,
            "bottom": null,
            "display": null,
            "flex": null,
            "flex_flow": null,
            "grid_area": null,
            "grid_auto_columns": null,
            "grid_auto_flow": null,
            "grid_auto_rows": null,
            "grid_column": null,
            "grid_gap": null,
            "grid_row": null,
            "grid_template_areas": null,
            "grid_template_columns": null,
            "grid_template_rows": null,
            "height": null,
            "justify_content": null,
            "justify_items": null,
            "left": null,
            "margin": null,
            "max_height": null,
            "max_width": null,
            "min_height": null,
            "min_width": null,
            "object_fit": null,
            "object_position": null,
            "order": null,
            "overflow": null,
            "overflow_x": null,
            "overflow_y": null,
            "padding": null,
            "right": null,
            "top": null,
            "visibility": null,
            "width": null
          }
        },
        "11d3b9f1512c41cea8dc11d66fb19bfc": {
          "model_module": "@jupyter-widgets/base",
          "model_name": "LayoutModel",
          "model_module_version": "1.2.0",
          "state": {
            "_model_module": "@jupyter-widgets/base",
            "_model_module_version": "1.2.0",
            "_model_name": "LayoutModel",
            "_view_count": null,
            "_view_module": "@jupyter-widgets/base",
            "_view_module_version": "1.2.0",
            "_view_name": "LayoutView",
            "align_content": null,
            "align_items": null,
            "align_self": null,
            "border": null,
            "bottom": null,
            "display": null,
            "flex": null,
            "flex_flow": null,
            "grid_area": null,
            "grid_auto_columns": null,
            "grid_auto_flow": null,
            "grid_auto_rows": null,
            "grid_column": null,
            "grid_gap": null,
            "grid_row": null,
            "grid_template_areas": null,
            "grid_template_columns": null,
            "grid_template_rows": null,
            "height": null,
            "justify_content": null,
            "justify_items": null,
            "left": null,
            "margin": null,
            "max_height": null,
            "max_width": null,
            "min_height": null,
            "min_width": null,
            "object_fit": null,
            "object_position": null,
            "order": null,
            "overflow": null,
            "overflow_x": null,
            "overflow_y": null,
            "padding": null,
            "right": null,
            "top": null,
            "visibility": null,
            "width": null
          }
        },
        "9a9ceecdbd3648d3a88b642d389b937a": {
          "model_module": "@jupyter-widgets/controls",
          "model_name": "DescriptionStyleModel",
          "model_module_version": "1.5.0",
          "state": {
            "_model_module": "@jupyter-widgets/controls",
            "_model_module_version": "1.5.0",
            "_model_name": "DescriptionStyleModel",
            "_view_count": null,
            "_view_module": "@jupyter-widgets/base",
            "_view_module_version": "1.2.0",
            "_view_name": "StyleView",
            "description_width": ""
          }
        },
        "678d852086274029b3880bd216313df8": {
          "model_module": "@jupyter-widgets/base",
          "model_name": "LayoutModel",
          "model_module_version": "1.2.0",
          "state": {
            "_model_module": "@jupyter-widgets/base",
            "_model_module_version": "1.2.0",
            "_model_name": "LayoutModel",
            "_view_count": null,
            "_view_module": "@jupyter-widgets/base",
            "_view_module_version": "1.2.0",
            "_view_name": "LayoutView",
            "align_content": null,
            "align_items": null,
            "align_self": null,
            "border": null,
            "bottom": null,
            "display": null,
            "flex": null,
            "flex_flow": null,
            "grid_area": null,
            "grid_auto_columns": null,
            "grid_auto_flow": null,
            "grid_auto_rows": null,
            "grid_column": null,
            "grid_gap": null,
            "grid_row": null,
            "grid_template_areas": null,
            "grid_template_columns": null,
            "grid_template_rows": null,
            "height": null,
            "justify_content": null,
            "justify_items": null,
            "left": null,
            "margin": null,
            "max_height": null,
            "max_width": null,
            "min_height": null,
            "min_width": null,
            "object_fit": null,
            "object_position": null,
            "order": null,
            "overflow": null,
            "overflow_x": null,
            "overflow_y": null,
            "padding": null,
            "right": null,
            "top": null,
            "visibility": null,
            "width": null
          }
        },
        "fbae88ec53b8494f8de12a56a9230903": {
          "model_module": "@jupyter-widgets/controls",
          "model_name": "ProgressStyleModel",
          "model_module_version": "1.5.0",
          "state": {
            "_model_module": "@jupyter-widgets/controls",
            "_model_module_version": "1.5.0",
            "_model_name": "ProgressStyleModel",
            "_view_count": null,
            "_view_module": "@jupyter-widgets/base",
            "_view_module_version": "1.2.0",
            "_view_name": "StyleView",
            "bar_color": null,
            "description_width": ""
          }
        },
        "a54124479e1a41b58b372c71cb82b8ca": {
          "model_module": "@jupyter-widgets/base",
          "model_name": "LayoutModel",
          "model_module_version": "1.2.0",
          "state": {
            "_model_module": "@jupyter-widgets/base",
            "_model_module_version": "1.2.0",
            "_model_name": "LayoutModel",
            "_view_count": null,
            "_view_module": "@jupyter-widgets/base",
            "_view_module_version": "1.2.0",
            "_view_name": "LayoutView",
            "align_content": null,
            "align_items": null,
            "align_self": null,
            "border": null,
            "bottom": null,
            "display": null,
            "flex": null,
            "flex_flow": null,
            "grid_area": null,
            "grid_auto_columns": null,
            "grid_auto_flow": null,
            "grid_auto_rows": null,
            "grid_column": null,
            "grid_gap": null,
            "grid_row": null,
            "grid_template_areas": null,
            "grid_template_columns": null,
            "grid_template_rows": null,
            "height": null,
            "justify_content": null,
            "justify_items": null,
            "left": null,
            "margin": null,
            "max_height": null,
            "max_width": null,
            "min_height": null,
            "min_width": null,
            "object_fit": null,
            "object_position": null,
            "order": null,
            "overflow": null,
            "overflow_x": null,
            "overflow_y": null,
            "padding": null,
            "right": null,
            "top": null,
            "visibility": null,
            "width": null
          }
        },
        "9f8eab11b9d845af93d6c822001f2d11": {
          "model_module": "@jupyter-widgets/controls",
          "model_name": "DescriptionStyleModel",
          "model_module_version": "1.5.0",
          "state": {
            "_model_module": "@jupyter-widgets/controls",
            "_model_module_version": "1.5.0",
            "_model_name": "DescriptionStyleModel",
            "_view_count": null,
            "_view_module": "@jupyter-widgets/base",
            "_view_module_version": "1.2.0",
            "_view_name": "StyleView",
            "description_width": ""
          }
        },
        "b6b20ca9287444849a5ad1dad521904f": {
          "model_module": "@jupyter-widgets/controls",
          "model_name": "HBoxModel",
          "model_module_version": "1.5.0",
          "state": {
            "_dom_classes": [],
            "_model_module": "@jupyter-widgets/controls",
            "_model_module_version": "1.5.0",
            "_model_name": "HBoxModel",
            "_view_count": null,
            "_view_module": "@jupyter-widgets/controls",
            "_view_module_version": "1.5.0",
            "_view_name": "HBoxView",
            "box_style": "",
            "children": [
              "IPY_MODEL_0d25fc1c4c2a4f6e813e25be3b33a6a7",
              "IPY_MODEL_dd84b1c6a7b84a458826dacc67145291",
              "IPY_MODEL_4fd94459bc344b6d91b48579a731f772"
            ],
            "layout": "IPY_MODEL_8b08b369593c42759acc0ea5e8c35355"
          }
        },
        "0d25fc1c4c2a4f6e813e25be3b33a6a7": {
          "model_module": "@jupyter-widgets/controls",
          "model_name": "HTMLModel",
          "model_module_version": "1.5.0",
          "state": {
            "_dom_classes": [],
            "_model_module": "@jupyter-widgets/controls",
            "_model_module_version": "1.5.0",
            "_model_name": "HTMLModel",
            "_view_count": null,
            "_view_module": "@jupyter-widgets/controls",
            "_view_module_version": "1.5.0",
            "_view_name": "HTMLView",
            "description": "",
            "description_tooltip": null,
            "layout": "IPY_MODEL_02230f987c14415eb717138bd5c5ce16",
            "placeholder": "​",
            "style": "IPY_MODEL_5ca09b0a26264c4b853c4ab60a27c6aa",
            "value": "generation_config.json: 100%"
          }
        },
        "dd84b1c6a7b84a458826dacc67145291": {
          "model_module": "@jupyter-widgets/controls",
          "model_name": "FloatProgressModel",
          "model_module_version": "1.5.0",
          "state": {
            "_dom_classes": [],
            "_model_module": "@jupyter-widgets/controls",
            "_model_module_version": "1.5.0",
            "_model_name": "FloatProgressModel",
            "_view_count": null,
            "_view_module": "@jupyter-widgets/controls",
            "_view_module_version": "1.5.0",
            "_view_name": "ProgressView",
            "bar_style": "success",
            "description": "",
            "description_tooltip": null,
            "layout": "IPY_MODEL_e02b939aa730470ea15a50424bae527f",
            "max": 195,
            "min": 0,
            "orientation": "horizontal",
            "style": "IPY_MODEL_e00abe728fda4f9794c26c91d3ce1310",
            "value": 195
          }
        },
        "4fd94459bc344b6d91b48579a731f772": {
          "model_module": "@jupyter-widgets/controls",
          "model_name": "HTMLModel",
          "model_module_version": "1.5.0",
          "state": {
            "_dom_classes": [],
            "_model_module": "@jupyter-widgets/controls",
            "_model_module_version": "1.5.0",
            "_model_name": "HTMLModel",
            "_view_count": null,
            "_view_module": "@jupyter-widgets/controls",
            "_view_module_version": "1.5.0",
            "_view_name": "HTMLView",
            "description": "",
            "description_tooltip": null,
            "layout": "IPY_MODEL_6adc8cb6c0aa4d81ac4997c720854150",
            "placeholder": "​",
            "style": "IPY_MODEL_b1647b3e0c4f4674b1f73daf15cb91a2",
            "value": " 195/195 [00:00&lt;00:00, 16.7kB/s]"
          }
        },
        "8b08b369593c42759acc0ea5e8c35355": {
          "model_module": "@jupyter-widgets/base",
          "model_name": "LayoutModel",
          "model_module_version": "1.2.0",
          "state": {
            "_model_module": "@jupyter-widgets/base",
            "_model_module_version": "1.2.0",
            "_model_name": "LayoutModel",
            "_view_count": null,
            "_view_module": "@jupyter-widgets/base",
            "_view_module_version": "1.2.0",
            "_view_name": "LayoutView",
            "align_content": null,
            "align_items": null,
            "align_self": null,
            "border": null,
            "bottom": null,
            "display": null,
            "flex": null,
            "flex_flow": null,
            "grid_area": null,
            "grid_auto_columns": null,
            "grid_auto_flow": null,
            "grid_auto_rows": null,
            "grid_column": null,
            "grid_gap": null,
            "grid_row": null,
            "grid_template_areas": null,
            "grid_template_columns": null,
            "grid_template_rows": null,
            "height": null,
            "justify_content": null,
            "justify_items": null,
            "left": null,
            "margin": null,
            "max_height": null,
            "max_width": null,
            "min_height": null,
            "min_width": null,
            "object_fit": null,
            "object_position": null,
            "order": null,
            "overflow": null,
            "overflow_x": null,
            "overflow_y": null,
            "padding": null,
            "right": null,
            "top": null,
            "visibility": null,
            "width": null
          }
        },
        "02230f987c14415eb717138bd5c5ce16": {
          "model_module": "@jupyter-widgets/base",
          "model_name": "LayoutModel",
          "model_module_version": "1.2.0",
          "state": {
            "_model_module": "@jupyter-widgets/base",
            "_model_module_version": "1.2.0",
            "_model_name": "LayoutModel",
            "_view_count": null,
            "_view_module": "@jupyter-widgets/base",
            "_view_module_version": "1.2.0",
            "_view_name": "LayoutView",
            "align_content": null,
            "align_items": null,
            "align_self": null,
            "border": null,
            "bottom": null,
            "display": null,
            "flex": null,
            "flex_flow": null,
            "grid_area": null,
            "grid_auto_columns": null,
            "grid_auto_flow": null,
            "grid_auto_rows": null,
            "grid_column": null,
            "grid_gap": null,
            "grid_row": null,
            "grid_template_areas": null,
            "grid_template_columns": null,
            "grid_template_rows": null,
            "height": null,
            "justify_content": null,
            "justify_items": null,
            "left": null,
            "margin": null,
            "max_height": null,
            "max_width": null,
            "min_height": null,
            "min_width": null,
            "object_fit": null,
            "object_position": null,
            "order": null,
            "overflow": null,
            "overflow_x": null,
            "overflow_y": null,
            "padding": null,
            "right": null,
            "top": null,
            "visibility": null,
            "width": null
          }
        },
        "5ca09b0a26264c4b853c4ab60a27c6aa": {
          "model_module": "@jupyter-widgets/controls",
          "model_name": "DescriptionStyleModel",
          "model_module_version": "1.5.0",
          "state": {
            "_model_module": "@jupyter-widgets/controls",
            "_model_module_version": "1.5.0",
            "_model_name": "DescriptionStyleModel",
            "_view_count": null,
            "_view_module": "@jupyter-widgets/base",
            "_view_module_version": "1.2.0",
            "_view_name": "StyleView",
            "description_width": ""
          }
        },
        "e02b939aa730470ea15a50424bae527f": {
          "model_module": "@jupyter-widgets/base",
          "model_name": "LayoutModel",
          "model_module_version": "1.2.0",
          "state": {
            "_model_module": "@jupyter-widgets/base",
            "_model_module_version": "1.2.0",
            "_model_name": "LayoutModel",
            "_view_count": null,
            "_view_module": "@jupyter-widgets/base",
            "_view_module_version": "1.2.0",
            "_view_name": "LayoutView",
            "align_content": null,
            "align_items": null,
            "align_self": null,
            "border": null,
            "bottom": null,
            "display": null,
            "flex": null,
            "flex_flow": null,
            "grid_area": null,
            "grid_auto_columns": null,
            "grid_auto_flow": null,
            "grid_auto_rows": null,
            "grid_column": null,
            "grid_gap": null,
            "grid_row": null,
            "grid_template_areas": null,
            "grid_template_columns": null,
            "grid_template_rows": null,
            "height": null,
            "justify_content": null,
            "justify_items": null,
            "left": null,
            "margin": null,
            "max_height": null,
            "max_width": null,
            "min_height": null,
            "min_width": null,
            "object_fit": null,
            "object_position": null,
            "order": null,
            "overflow": null,
            "overflow_x": null,
            "overflow_y": null,
            "padding": null,
            "right": null,
            "top": null,
            "visibility": null,
            "width": null
          }
        },
        "e00abe728fda4f9794c26c91d3ce1310": {
          "model_module": "@jupyter-widgets/controls",
          "model_name": "ProgressStyleModel",
          "model_module_version": "1.5.0",
          "state": {
            "_model_module": "@jupyter-widgets/controls",
            "_model_module_version": "1.5.0",
            "_model_name": "ProgressStyleModel",
            "_view_count": null,
            "_view_module": "@jupyter-widgets/base",
            "_view_module_version": "1.2.0",
            "_view_name": "StyleView",
            "bar_color": null,
            "description_width": ""
          }
        },
        "6adc8cb6c0aa4d81ac4997c720854150": {
          "model_module": "@jupyter-widgets/base",
          "model_name": "LayoutModel",
          "model_module_version": "1.2.0",
          "state": {
            "_model_module": "@jupyter-widgets/base",
            "_model_module_version": "1.2.0",
            "_model_name": "LayoutModel",
            "_view_count": null,
            "_view_module": "@jupyter-widgets/base",
            "_view_module_version": "1.2.0",
            "_view_name": "LayoutView",
            "align_content": null,
            "align_items": null,
            "align_self": null,
            "border": null,
            "bottom": null,
            "display": null,
            "flex": null,
            "flex_flow": null,
            "grid_area": null,
            "grid_auto_columns": null,
            "grid_auto_flow": null,
            "grid_auto_rows": null,
            "grid_column": null,
            "grid_gap": null,
            "grid_row": null,
            "grid_template_areas": null,
            "grid_template_columns": null,
            "grid_template_rows": null,
            "height": null,
            "justify_content": null,
            "justify_items": null,
            "left": null,
            "margin": null,
            "max_height": null,
            "max_width": null,
            "min_height": null,
            "min_width": null,
            "object_fit": null,
            "object_position": null,
            "order": null,
            "overflow": null,
            "overflow_x": null,
            "overflow_y": null,
            "padding": null,
            "right": null,
            "top": null,
            "visibility": null,
            "width": null
          }
        },
        "b1647b3e0c4f4674b1f73daf15cb91a2": {
          "model_module": "@jupyter-widgets/controls",
          "model_name": "DescriptionStyleModel",
          "model_module_version": "1.5.0",
          "state": {
            "_model_module": "@jupyter-widgets/controls",
            "_model_module_version": "1.5.0",
            "_model_name": "DescriptionStyleModel",
            "_view_count": null,
            "_view_module": "@jupyter-widgets/base",
            "_view_module_version": "1.2.0",
            "_view_name": "StyleView",
            "description_width": ""
          }
        },
        "9644b95f1ab8467ab2f9582b77b97465": {
          "model_module": "@jupyter-widgets/controls",
          "model_name": "HBoxModel",
          "model_module_version": "1.5.0",
          "state": {
            "_dom_classes": [],
            "_model_module": "@jupyter-widgets/controls",
            "_model_module_version": "1.5.0",
            "_model_name": "HBoxModel",
            "_view_count": null,
            "_view_module": "@jupyter-widgets/controls",
            "_view_module_version": "1.5.0",
            "_view_name": "HBoxView",
            "box_style": "",
            "children": [
              "IPY_MODEL_08f60fa8f87f4353bafa715355be2ec2",
              "IPY_MODEL_da151f1d33c546739ff1e0c62ea9b694",
              "IPY_MODEL_812be1e5d14d42ef99955e2bcdaf46b8"
            ],
            "layout": "IPY_MODEL_4ad7be9960344bef84edecfd59443ebe"
          }
        },
        "08f60fa8f87f4353bafa715355be2ec2": {
          "model_module": "@jupyter-widgets/controls",
          "model_name": "HTMLModel",
          "model_module_version": "1.5.0",
          "state": {
            "_dom_classes": [],
            "_model_module": "@jupyter-widgets/controls",
            "_model_module_version": "1.5.0",
            "_model_name": "HTMLModel",
            "_view_count": null,
            "_view_module": "@jupyter-widgets/controls",
            "_view_module_version": "1.5.0",
            "_view_name": "HTMLView",
            "description": "",
            "description_tooltip": null,
            "layout": "IPY_MODEL_fc6d875fb0054306ba49115453a06eb1",
            "placeholder": "​",
            "style": "IPY_MODEL_6ea934420967498aaa16526da2a355c9",
            "value": "tokenizer_config.json: 100%"
          }
        },
        "da151f1d33c546739ff1e0c62ea9b694": {
          "model_module": "@jupyter-widgets/controls",
          "model_name": "FloatProgressModel",
          "model_module_version": "1.5.0",
          "state": {
            "_dom_classes": [],
            "_model_module": "@jupyter-widgets/controls",
            "_model_module_version": "1.5.0",
            "_model_name": "FloatProgressModel",
            "_view_count": null,
            "_view_module": "@jupyter-widgets/controls",
            "_view_module_version": "1.5.0",
            "_view_name": "ProgressView",
            "bar_style": "success",
            "description": "",
            "description_tooltip": null,
            "layout": "IPY_MODEL_dd537d6fccff41b69cbd6750a21ef5cc",
            "max": 3984,
            "min": 0,
            "orientation": "horizontal",
            "style": "IPY_MODEL_48aa6393aca447e7a18db98662e23e6f",
            "value": 3984
          }
        },
        "812be1e5d14d42ef99955e2bcdaf46b8": {
          "model_module": "@jupyter-widgets/controls",
          "model_name": "HTMLModel",
          "model_module_version": "1.5.0",
          "state": {
            "_dom_classes": [],
            "_model_module": "@jupyter-widgets/controls",
            "_model_module_version": "1.5.0",
            "_model_name": "HTMLModel",
            "_view_count": null,
            "_view_module": "@jupyter-widgets/controls",
            "_view_module_version": "1.5.0",
            "_view_name": "HTMLView",
            "description": "",
            "description_tooltip": null,
            "layout": "IPY_MODEL_59d02eb01d69463f932df6bf6940b009",
            "placeholder": "​",
            "style": "IPY_MODEL_08052605555646ac9971a3ef19e1fd4b",
            "value": " 3.98k/3.98k [00:00&lt;00:00, 350kB/s]"
          }
        },
        "4ad7be9960344bef84edecfd59443ebe": {
          "model_module": "@jupyter-widgets/base",
          "model_name": "LayoutModel",
          "model_module_version": "1.2.0",
          "state": {
            "_model_module": "@jupyter-widgets/base",
            "_model_module_version": "1.2.0",
            "_model_name": "LayoutModel",
            "_view_count": null,
            "_view_module": "@jupyter-widgets/base",
            "_view_module_version": "1.2.0",
            "_view_name": "LayoutView",
            "align_content": null,
            "align_items": null,
            "align_self": null,
            "border": null,
            "bottom": null,
            "display": null,
            "flex": null,
            "flex_flow": null,
            "grid_area": null,
            "grid_auto_columns": null,
            "grid_auto_flow": null,
            "grid_auto_rows": null,
            "grid_column": null,
            "grid_gap": null,
            "grid_row": null,
            "grid_template_areas": null,
            "grid_template_columns": null,
            "grid_template_rows": null,
            "height": null,
            "justify_content": null,
            "justify_items": null,
            "left": null,
            "margin": null,
            "max_height": null,
            "max_width": null,
            "min_height": null,
            "min_width": null,
            "object_fit": null,
            "object_position": null,
            "order": null,
            "overflow": null,
            "overflow_x": null,
            "overflow_y": null,
            "padding": null,
            "right": null,
            "top": null,
            "visibility": null,
            "width": null
          }
        },
        "fc6d875fb0054306ba49115453a06eb1": {
          "model_module": "@jupyter-widgets/base",
          "model_name": "LayoutModel",
          "model_module_version": "1.2.0",
          "state": {
            "_model_module": "@jupyter-widgets/base",
            "_model_module_version": "1.2.0",
            "_model_name": "LayoutModel",
            "_view_count": null,
            "_view_module": "@jupyter-widgets/base",
            "_view_module_version": "1.2.0",
            "_view_name": "LayoutView",
            "align_content": null,
            "align_items": null,
            "align_self": null,
            "border": null,
            "bottom": null,
            "display": null,
            "flex": null,
            "flex_flow": null,
            "grid_area": null,
            "grid_auto_columns": null,
            "grid_auto_flow": null,
            "grid_auto_rows": null,
            "grid_column": null,
            "grid_gap": null,
            "grid_row": null,
            "grid_template_areas": null,
            "grid_template_columns": null,
            "grid_template_rows": null,
            "height": null,
            "justify_content": null,
            "justify_items": null,
            "left": null,
            "margin": null,
            "max_height": null,
            "max_width": null,
            "min_height": null,
            "min_width": null,
            "object_fit": null,
            "object_position": null,
            "order": null,
            "overflow": null,
            "overflow_x": null,
            "overflow_y": null,
            "padding": null,
            "right": null,
            "top": null,
            "visibility": null,
            "width": null
          }
        },
        "6ea934420967498aaa16526da2a355c9": {
          "model_module": "@jupyter-widgets/controls",
          "model_name": "DescriptionStyleModel",
          "model_module_version": "1.5.0",
          "state": {
            "_model_module": "@jupyter-widgets/controls",
            "_model_module_version": "1.5.0",
            "_model_name": "DescriptionStyleModel",
            "_view_count": null,
            "_view_module": "@jupyter-widgets/base",
            "_view_module_version": "1.2.0",
            "_view_name": "StyleView",
            "description_width": ""
          }
        },
        "dd537d6fccff41b69cbd6750a21ef5cc": {
          "model_module": "@jupyter-widgets/base",
          "model_name": "LayoutModel",
          "model_module_version": "1.2.0",
          "state": {
            "_model_module": "@jupyter-widgets/base",
            "_model_module_version": "1.2.0",
            "_model_name": "LayoutModel",
            "_view_count": null,
            "_view_module": "@jupyter-widgets/base",
            "_view_module_version": "1.2.0",
            "_view_name": "LayoutView",
            "align_content": null,
            "align_items": null,
            "align_self": null,
            "border": null,
            "bottom": null,
            "display": null,
            "flex": null,
            "flex_flow": null,
            "grid_area": null,
            "grid_auto_columns": null,
            "grid_auto_flow": null,
            "grid_auto_rows": null,
            "grid_column": null,
            "grid_gap": null,
            "grid_row": null,
            "grid_template_areas": null,
            "grid_template_columns": null,
            "grid_template_rows": null,
            "height": null,
            "justify_content": null,
            "justify_items": null,
            "left": null,
            "margin": null,
            "max_height": null,
            "max_width": null,
            "min_height": null,
            "min_width": null,
            "object_fit": null,
            "object_position": null,
            "order": null,
            "overflow": null,
            "overflow_x": null,
            "overflow_y": null,
            "padding": null,
            "right": null,
            "top": null,
            "visibility": null,
            "width": null
          }
        },
        "48aa6393aca447e7a18db98662e23e6f": {
          "model_module": "@jupyter-widgets/controls",
          "model_name": "ProgressStyleModel",
          "model_module_version": "1.5.0",
          "state": {
            "_model_module": "@jupyter-widgets/controls",
            "_model_module_version": "1.5.0",
            "_model_name": "ProgressStyleModel",
            "_view_count": null,
            "_view_module": "@jupyter-widgets/base",
            "_view_module_version": "1.2.0",
            "_view_name": "StyleView",
            "bar_color": null,
            "description_width": ""
          }
        },
        "59d02eb01d69463f932df6bf6940b009": {
          "model_module": "@jupyter-widgets/base",
          "model_name": "LayoutModel",
          "model_module_version": "1.2.0",
          "state": {
            "_model_module": "@jupyter-widgets/base",
            "_model_module_version": "1.2.0",
            "_model_name": "LayoutModel",
            "_view_count": null,
            "_view_module": "@jupyter-widgets/base",
            "_view_module_version": "1.2.0",
            "_view_name": "LayoutView",
            "align_content": null,
            "align_items": null,
            "align_self": null,
            "border": null,
            "bottom": null,
            "display": null,
            "flex": null,
            "flex_flow": null,
            "grid_area": null,
            "grid_auto_columns": null,
            "grid_auto_flow": null,
            "grid_auto_rows": null,
            "grid_column": null,
            "grid_gap": null,
            "grid_row": null,
            "grid_template_areas": null,
            "grid_template_columns": null,
            "grid_template_rows": null,
            "height": null,
            "justify_content": null,
            "justify_items": null,
            "left": null,
            "margin": null,
            "max_height": null,
            "max_width": null,
            "min_height": null,
            "min_width": null,
            "object_fit": null,
            "object_position": null,
            "order": null,
            "overflow": null,
            "overflow_x": null,
            "overflow_y": null,
            "padding": null,
            "right": null,
            "top": null,
            "visibility": null,
            "width": null
          }
        },
        "08052605555646ac9971a3ef19e1fd4b": {
          "model_module": "@jupyter-widgets/controls",
          "model_name": "DescriptionStyleModel",
          "model_module_version": "1.5.0",
          "state": {
            "_model_module": "@jupyter-widgets/controls",
            "_model_module_version": "1.5.0",
            "_model_name": "DescriptionStyleModel",
            "_view_count": null,
            "_view_module": "@jupyter-widgets/base",
            "_view_module_version": "1.2.0",
            "_view_name": "StyleView",
            "description_width": ""
          }
        },
        "c7d66c54f0774d60910217924c082413": {
          "model_module": "@jupyter-widgets/controls",
          "model_name": "HBoxModel",
          "model_module_version": "1.5.0",
          "state": {
            "_dom_classes": [],
            "_model_module": "@jupyter-widgets/controls",
            "_model_module_version": "1.5.0",
            "_model_name": "HBoxModel",
            "_view_count": null,
            "_view_module": "@jupyter-widgets/controls",
            "_view_module_version": "1.5.0",
            "_view_name": "HBoxView",
            "box_style": "",
            "children": [
              "IPY_MODEL_5aab5e1a2d2243e383e47e09118f2332",
              "IPY_MODEL_6dfd10e1e95f419f9181a82119aa9c10",
              "IPY_MODEL_69dbd48345e34ed98a37c77a8162f871"
            ],
            "layout": "IPY_MODEL_76c4abb275734dff9e565cfeebb0a71d"
          }
        },
        "5aab5e1a2d2243e383e47e09118f2332": {
          "model_module": "@jupyter-widgets/controls",
          "model_name": "HTMLModel",
          "model_module_version": "1.5.0",
          "state": {
            "_dom_classes": [],
            "_model_module": "@jupyter-widgets/controls",
            "_model_module_version": "1.5.0",
            "_model_name": "HTMLModel",
            "_view_count": null,
            "_view_module": "@jupyter-widgets/controls",
            "_view_module_version": "1.5.0",
            "_view_name": "HTMLView",
            "description": "",
            "description_tooltip": null,
            "layout": "IPY_MODEL_17443a95123f430b83b4b1f4453e8ec9",
            "placeholder": "​",
            "style": "IPY_MODEL_2d98cb4f95f0420d99e90ce9b4119dd0",
            "value": "tokenizer.model: 100%"
          }
        },
        "6dfd10e1e95f419f9181a82119aa9c10": {
          "model_module": "@jupyter-widgets/controls",
          "model_name": "FloatProgressModel",
          "model_module_version": "1.5.0",
          "state": {
            "_dom_classes": [],
            "_model_module": "@jupyter-widgets/controls",
            "_model_module_version": "1.5.0",
            "_model_name": "FloatProgressModel",
            "_view_count": null,
            "_view_module": "@jupyter-widgets/controls",
            "_view_module_version": "1.5.0",
            "_view_name": "ProgressView",
            "bar_style": "success",
            "description": "",
            "description_tooltip": null,
            "layout": "IPY_MODEL_67d0f0c4bfba48618ea62f296cf0b5be",
            "max": 499723,
            "min": 0,
            "orientation": "horizontal",
            "style": "IPY_MODEL_8153349b435e4e9e8271a1435f55b1a5",
            "value": 499723
          }
        },
        "69dbd48345e34ed98a37c77a8162f871": {
          "model_module": "@jupyter-widgets/controls",
          "model_name": "HTMLModel",
          "model_module_version": "1.5.0",
          "state": {
            "_dom_classes": [],
            "_model_module": "@jupyter-widgets/controls",
            "_model_module_version": "1.5.0",
            "_model_name": "HTMLModel",
            "_view_count": null,
            "_view_module": "@jupyter-widgets/controls",
            "_view_module_version": "1.5.0",
            "_view_name": "HTMLView",
            "description": "",
            "description_tooltip": null,
            "layout": "IPY_MODEL_a2044987070c4bdeae3ed6b3b3850366",
            "placeholder": "​",
            "style": "IPY_MODEL_7932fddb5a4e4baf953fb99a7688f5b5",
            "value": " 500k/500k [00:00&lt;00:00, 39.5MB/s]"
          }
        },
        "76c4abb275734dff9e565cfeebb0a71d": {
          "model_module": "@jupyter-widgets/base",
          "model_name": "LayoutModel",
          "model_module_version": "1.2.0",
          "state": {
            "_model_module": "@jupyter-widgets/base",
            "_model_module_version": "1.2.0",
            "_model_name": "LayoutModel",
            "_view_count": null,
            "_view_module": "@jupyter-widgets/base",
            "_view_module_version": "1.2.0",
            "_view_name": "LayoutView",
            "align_content": null,
            "align_items": null,
            "align_self": null,
            "border": null,
            "bottom": null,
            "display": null,
            "flex": null,
            "flex_flow": null,
            "grid_area": null,
            "grid_auto_columns": null,
            "grid_auto_flow": null,
            "grid_auto_rows": null,
            "grid_column": null,
            "grid_gap": null,
            "grid_row": null,
            "grid_template_areas": null,
            "grid_template_columns": null,
            "grid_template_rows": null,
            "height": null,
            "justify_content": null,
            "justify_items": null,
            "left": null,
            "margin": null,
            "max_height": null,
            "max_width": null,
            "min_height": null,
            "min_width": null,
            "object_fit": null,
            "object_position": null,
            "order": null,
            "overflow": null,
            "overflow_x": null,
            "overflow_y": null,
            "padding": null,
            "right": null,
            "top": null,
            "visibility": null,
            "width": null
          }
        },
        "17443a95123f430b83b4b1f4453e8ec9": {
          "model_module": "@jupyter-widgets/base",
          "model_name": "LayoutModel",
          "model_module_version": "1.2.0",
          "state": {
            "_model_module": "@jupyter-widgets/base",
            "_model_module_version": "1.2.0",
            "_model_name": "LayoutModel",
            "_view_count": null,
            "_view_module": "@jupyter-widgets/base",
            "_view_module_version": "1.2.0",
            "_view_name": "LayoutView",
            "align_content": null,
            "align_items": null,
            "align_self": null,
            "border": null,
            "bottom": null,
            "display": null,
            "flex": null,
            "flex_flow": null,
            "grid_area": null,
            "grid_auto_columns": null,
            "grid_auto_flow": null,
            "grid_auto_rows": null,
            "grid_column": null,
            "grid_gap": null,
            "grid_row": null,
            "grid_template_areas": null,
            "grid_template_columns": null,
            "grid_template_rows": null,
            "height": null,
            "justify_content": null,
            "justify_items": null,
            "left": null,
            "margin": null,
            "max_height": null,
            "max_width": null,
            "min_height": null,
            "min_width": null,
            "object_fit": null,
            "object_position": null,
            "order": null,
            "overflow": null,
            "overflow_x": null,
            "overflow_y": null,
            "padding": null,
            "right": null,
            "top": null,
            "visibility": null,
            "width": null
          }
        },
        "2d98cb4f95f0420d99e90ce9b4119dd0": {
          "model_module": "@jupyter-widgets/controls",
          "model_name": "DescriptionStyleModel",
          "model_module_version": "1.5.0",
          "state": {
            "_model_module": "@jupyter-widgets/controls",
            "_model_module_version": "1.5.0",
            "_model_name": "DescriptionStyleModel",
            "_view_count": null,
            "_view_module": "@jupyter-widgets/base",
            "_view_module_version": "1.2.0",
            "_view_name": "StyleView",
            "description_width": ""
          }
        },
        "67d0f0c4bfba48618ea62f296cf0b5be": {
          "model_module": "@jupyter-widgets/base",
          "model_name": "LayoutModel",
          "model_module_version": "1.2.0",
          "state": {
            "_model_module": "@jupyter-widgets/base",
            "_model_module_version": "1.2.0",
            "_model_name": "LayoutModel",
            "_view_count": null,
            "_view_module": "@jupyter-widgets/base",
            "_view_module_version": "1.2.0",
            "_view_name": "LayoutView",
            "align_content": null,
            "align_items": null,
            "align_self": null,
            "border": null,
            "bottom": null,
            "display": null,
            "flex": null,
            "flex_flow": null,
            "grid_area": null,
            "grid_auto_columns": null,
            "grid_auto_flow": null,
            "grid_auto_rows": null,
            "grid_column": null,
            "grid_gap": null,
            "grid_row": null,
            "grid_template_areas": null,
            "grid_template_columns": null,
            "grid_template_rows": null,
            "height": null,
            "justify_content": null,
            "justify_items": null,
            "left": null,
            "margin": null,
            "max_height": null,
            "max_width": null,
            "min_height": null,
            "min_width": null,
            "object_fit": null,
            "object_position": null,
            "order": null,
            "overflow": null,
            "overflow_x": null,
            "overflow_y": null,
            "padding": null,
            "right": null,
            "top": null,
            "visibility": null,
            "width": null
          }
        },
        "8153349b435e4e9e8271a1435f55b1a5": {
          "model_module": "@jupyter-widgets/controls",
          "model_name": "ProgressStyleModel",
          "model_module_version": "1.5.0",
          "state": {
            "_model_module": "@jupyter-widgets/controls",
            "_model_module_version": "1.5.0",
            "_model_name": "ProgressStyleModel",
            "_view_count": null,
            "_view_module": "@jupyter-widgets/base",
            "_view_module_version": "1.2.0",
            "_view_name": "StyleView",
            "bar_color": null,
            "description_width": ""
          }
        },
        "a2044987070c4bdeae3ed6b3b3850366": {
          "model_module": "@jupyter-widgets/base",
          "model_name": "LayoutModel",
          "model_module_version": "1.2.0",
          "state": {
            "_model_module": "@jupyter-widgets/base",
            "_model_module_version": "1.2.0",
            "_model_name": "LayoutModel",
            "_view_count": null,
            "_view_module": "@jupyter-widgets/base",
            "_view_module_version": "1.2.0",
            "_view_name": "LayoutView",
            "align_content": null,
            "align_items": null,
            "align_self": null,
            "border": null,
            "bottom": null,
            "display": null,
            "flex": null,
            "flex_flow": null,
            "grid_area": null,
            "grid_auto_columns": null,
            "grid_auto_flow": null,
            "grid_auto_rows": null,
            "grid_column": null,
            "grid_gap": null,
            "grid_row": null,
            "grid_template_areas": null,
            "grid_template_columns": null,
            "grid_template_rows": null,
            "height": null,
            "justify_content": null,
            "justify_items": null,
            "left": null,
            "margin": null,
            "max_height": null,
            "max_width": null,
            "min_height": null,
            "min_width": null,
            "object_fit": null,
            "object_position": null,
            "order": null,
            "overflow": null,
            "overflow_x": null,
            "overflow_y": null,
            "padding": null,
            "right": null,
            "top": null,
            "visibility": null,
            "width": null
          }
        },
        "7932fddb5a4e4baf953fb99a7688f5b5": {
          "model_module": "@jupyter-widgets/controls",
          "model_name": "DescriptionStyleModel",
          "model_module_version": "1.5.0",
          "state": {
            "_model_module": "@jupyter-widgets/controls",
            "_model_module_version": "1.5.0",
            "_model_name": "DescriptionStyleModel",
            "_view_count": null,
            "_view_module": "@jupyter-widgets/base",
            "_view_module_version": "1.2.0",
            "_view_name": "StyleView",
            "description_width": ""
          }
        },
        "9601407f0b1546a0ade2b2944195d1df": {
          "model_module": "@jupyter-widgets/controls",
          "model_name": "HBoxModel",
          "model_module_version": "1.5.0",
          "state": {
            "_dom_classes": [],
            "_model_module": "@jupyter-widgets/controls",
            "_model_module_version": "1.5.0",
            "_model_name": "HBoxModel",
            "_view_count": null,
            "_view_module": "@jupyter-widgets/controls",
            "_view_module_version": "1.5.0",
            "_view_name": "HBoxView",
            "box_style": "",
            "children": [
              "IPY_MODEL_ada588d8e95c4c5686f2c3fe6020268d",
              "IPY_MODEL_309d6ea5133d4977bb55adfca9278e27",
              "IPY_MODEL_88ddb8d2a590460080310c816a4aa4bf"
            ],
            "layout": "IPY_MODEL_e740b17fbf964cbab54c38230ea355a6"
          }
        },
        "ada588d8e95c4c5686f2c3fe6020268d": {
          "model_module": "@jupyter-widgets/controls",
          "model_name": "HTMLModel",
          "model_module_version": "1.5.0",
          "state": {
            "_dom_classes": [],
            "_model_module": "@jupyter-widgets/controls",
            "_model_module_version": "1.5.0",
            "_model_name": "HTMLModel",
            "_view_count": null,
            "_view_module": "@jupyter-widgets/controls",
            "_view_module_version": "1.5.0",
            "_view_name": "HTMLView",
            "description": "",
            "description_tooltip": null,
            "layout": "IPY_MODEL_08def2b56e8843159757153e63188701",
            "placeholder": "​",
            "style": "IPY_MODEL_d3f80e3c8c594f5fb6e23f653deeb3af",
            "value": "tokenizer.json: 100%"
          }
        },
        "309d6ea5133d4977bb55adfca9278e27": {
          "model_module": "@jupyter-widgets/controls",
          "model_name": "FloatProgressModel",
          "model_module_version": "1.5.0",
          "state": {
            "_dom_classes": [],
            "_model_module": "@jupyter-widgets/controls",
            "_model_module_version": "1.5.0",
            "_model_name": "FloatProgressModel",
            "_view_count": null,
            "_view_module": "@jupyter-widgets/controls",
            "_view_module_version": "1.5.0",
            "_view_name": "ProgressView",
            "bar_style": "success",
            "description": "",
            "description_tooltip": null,
            "layout": "IPY_MODEL_6248d724958c44a2958e846cff46ae6d",
            "max": 1844408,
            "min": 0,
            "orientation": "horizontal",
            "style": "IPY_MODEL_869ef4f670d14c9aafc9b08b1a65a055",
            "value": 1844408
          }
        },
        "88ddb8d2a590460080310c816a4aa4bf": {
          "model_module": "@jupyter-widgets/controls",
          "model_name": "HTMLModel",
          "model_module_version": "1.5.0",
          "state": {
            "_dom_classes": [],
            "_model_module": "@jupyter-widgets/controls",
            "_model_module_version": "1.5.0",
            "_model_name": "HTMLModel",
            "_view_count": null,
            "_view_module": "@jupyter-widgets/controls",
            "_view_module_version": "1.5.0",
            "_view_name": "HTMLView",
            "description": "",
            "description_tooltip": null,
            "layout": "IPY_MODEL_cacbb06ed2ed4ac29b94c3df513cfd8c",
            "placeholder": "​",
            "style": "IPY_MODEL_2aa68ad5cb5d48a795e13ac2e8f4f725",
            "value": " 1.84M/1.84M [00:00&lt;00:00, 8.33MB/s]"
          }
        },
        "e740b17fbf964cbab54c38230ea355a6": {
          "model_module": "@jupyter-widgets/base",
          "model_name": "LayoutModel",
          "model_module_version": "1.2.0",
          "state": {
            "_model_module": "@jupyter-widgets/base",
            "_model_module_version": "1.2.0",
            "_model_name": "LayoutModel",
            "_view_count": null,
            "_view_module": "@jupyter-widgets/base",
            "_view_module_version": "1.2.0",
            "_view_name": "LayoutView",
            "align_content": null,
            "align_items": null,
            "align_self": null,
            "border": null,
            "bottom": null,
            "display": null,
            "flex": null,
            "flex_flow": null,
            "grid_area": null,
            "grid_auto_columns": null,
            "grid_auto_flow": null,
            "grid_auto_rows": null,
            "grid_column": null,
            "grid_gap": null,
            "grid_row": null,
            "grid_template_areas": null,
            "grid_template_columns": null,
            "grid_template_rows": null,
            "height": null,
            "justify_content": null,
            "justify_items": null,
            "left": null,
            "margin": null,
            "max_height": null,
            "max_width": null,
            "min_height": null,
            "min_width": null,
            "object_fit": null,
            "object_position": null,
            "order": null,
            "overflow": null,
            "overflow_x": null,
            "overflow_y": null,
            "padding": null,
            "right": null,
            "top": null,
            "visibility": null,
            "width": null
          }
        },
        "08def2b56e8843159757153e63188701": {
          "model_module": "@jupyter-widgets/base",
          "model_name": "LayoutModel",
          "model_module_version": "1.2.0",
          "state": {
            "_model_module": "@jupyter-widgets/base",
            "_model_module_version": "1.2.0",
            "_model_name": "LayoutModel",
            "_view_count": null,
            "_view_module": "@jupyter-widgets/base",
            "_view_module_version": "1.2.0",
            "_view_name": "LayoutView",
            "align_content": null,
            "align_items": null,
            "align_self": null,
            "border": null,
            "bottom": null,
            "display": null,
            "flex": null,
            "flex_flow": null,
            "grid_area": null,
            "grid_auto_columns": null,
            "grid_auto_flow": null,
            "grid_auto_rows": null,
            "grid_column": null,
            "grid_gap": null,
            "grid_row": null,
            "grid_template_areas": null,
            "grid_template_columns": null,
            "grid_template_rows": null,
            "height": null,
            "justify_content": null,
            "justify_items": null,
            "left": null,
            "margin": null,
            "max_height": null,
            "max_width": null,
            "min_height": null,
            "min_width": null,
            "object_fit": null,
            "object_position": null,
            "order": null,
            "overflow": null,
            "overflow_x": null,
            "overflow_y": null,
            "padding": null,
            "right": null,
            "top": null,
            "visibility": null,
            "width": null
          }
        },
        "d3f80e3c8c594f5fb6e23f653deeb3af": {
          "model_module": "@jupyter-widgets/controls",
          "model_name": "DescriptionStyleModel",
          "model_module_version": "1.5.0",
          "state": {
            "_model_module": "@jupyter-widgets/controls",
            "_model_module_version": "1.5.0",
            "_model_name": "DescriptionStyleModel",
            "_view_count": null,
            "_view_module": "@jupyter-widgets/base",
            "_view_module_version": "1.2.0",
            "_view_name": "StyleView",
            "description_width": ""
          }
        },
        "6248d724958c44a2958e846cff46ae6d": {
          "model_module": "@jupyter-widgets/base",
          "model_name": "LayoutModel",
          "model_module_version": "1.2.0",
          "state": {
            "_model_module": "@jupyter-widgets/base",
            "_model_module_version": "1.2.0",
            "_model_name": "LayoutModel",
            "_view_count": null,
            "_view_module": "@jupyter-widgets/base",
            "_view_module_version": "1.2.0",
            "_view_name": "LayoutView",
            "align_content": null,
            "align_items": null,
            "align_self": null,
            "border": null,
            "bottom": null,
            "display": null,
            "flex": null,
            "flex_flow": null,
            "grid_area": null,
            "grid_auto_columns": null,
            "grid_auto_flow": null,
            "grid_auto_rows": null,
            "grid_column": null,
            "grid_gap": null,
            "grid_row": null,
            "grid_template_areas": null,
            "grid_template_columns": null,
            "grid_template_rows": null,
            "height": null,
            "justify_content": null,
            "justify_items": null,
            "left": null,
            "margin": null,
            "max_height": null,
            "max_width": null,
            "min_height": null,
            "min_width": null,
            "object_fit": null,
            "object_position": null,
            "order": null,
            "overflow": null,
            "overflow_x": null,
            "overflow_y": null,
            "padding": null,
            "right": null,
            "top": null,
            "visibility": null,
            "width": null
          }
        },
        "869ef4f670d14c9aafc9b08b1a65a055": {
          "model_module": "@jupyter-widgets/controls",
          "model_name": "ProgressStyleModel",
          "model_module_version": "1.5.0",
          "state": {
            "_model_module": "@jupyter-widgets/controls",
            "_model_module_version": "1.5.0",
            "_model_name": "ProgressStyleModel",
            "_view_count": null,
            "_view_module": "@jupyter-widgets/base",
            "_view_module_version": "1.2.0",
            "_view_name": "StyleView",
            "bar_color": null,
            "description_width": ""
          }
        },
        "cacbb06ed2ed4ac29b94c3df513cfd8c": {
          "model_module": "@jupyter-widgets/base",
          "model_name": "LayoutModel",
          "model_module_version": "1.2.0",
          "state": {
            "_model_module": "@jupyter-widgets/base",
            "_model_module_version": "1.2.0",
            "_model_name": "LayoutModel",
            "_view_count": null,
            "_view_module": "@jupyter-widgets/base",
            "_view_module_version": "1.2.0",
            "_view_name": "LayoutView",
            "align_content": null,
            "align_items": null,
            "align_self": null,
            "border": null,
            "bottom": null,
            "display": null,
            "flex": null,
            "flex_flow": null,
            "grid_area": null,
            "grid_auto_columns": null,
            "grid_auto_flow": null,
            "grid_auto_rows": null,
            "grid_column": null,
            "grid_gap": null,
            "grid_row": null,
            "grid_template_areas": null,
            "grid_template_columns": null,
            "grid_template_rows": null,
            "height": null,
            "justify_content": null,
            "justify_items": null,
            "left": null,
            "margin": null,
            "max_height": null,
            "max_width": null,
            "min_height": null,
            "min_width": null,
            "object_fit": null,
            "object_position": null,
            "order": null,
            "overflow": null,
            "overflow_x": null,
            "overflow_y": null,
            "padding": null,
            "right": null,
            "top": null,
            "visibility": null,
            "width": null
          }
        },
        "2aa68ad5cb5d48a795e13ac2e8f4f725": {
          "model_module": "@jupyter-widgets/controls",
          "model_name": "DescriptionStyleModel",
          "model_module_version": "1.5.0",
          "state": {
            "_model_module": "@jupyter-widgets/controls",
            "_model_module_version": "1.5.0",
            "_model_name": "DescriptionStyleModel",
            "_view_count": null,
            "_view_module": "@jupyter-widgets/base",
            "_view_module_version": "1.2.0",
            "_view_name": "StyleView",
            "description_width": ""
          }
        },
        "c89c93fffdea4904a3dc533c1f829ceb": {
          "model_module": "@jupyter-widgets/controls",
          "model_name": "HBoxModel",
          "model_module_version": "1.5.0",
          "state": {
            "_dom_classes": [],
            "_model_module": "@jupyter-widgets/controls",
            "_model_module_version": "1.5.0",
            "_model_name": "HBoxModel",
            "_view_count": null,
            "_view_module": "@jupyter-widgets/controls",
            "_view_module_version": "1.5.0",
            "_view_name": "HBoxView",
            "box_style": "",
            "children": [
              "IPY_MODEL_5ed3f74dbfe143a18e702f462f76edc8",
              "IPY_MODEL_60534ef12732459a8ef88bf2c25c4afa",
              "IPY_MODEL_f43c48803038442bbc4ad7883c4f64bc"
            ],
            "layout": "IPY_MODEL_3e3f73f009d04215a013324cca8e4e13"
          }
        },
        "5ed3f74dbfe143a18e702f462f76edc8": {
          "model_module": "@jupyter-widgets/controls",
          "model_name": "HTMLModel",
          "model_module_version": "1.5.0",
          "state": {
            "_dom_classes": [],
            "_model_module": "@jupyter-widgets/controls",
            "_model_module_version": "1.5.0",
            "_model_name": "HTMLModel",
            "_view_count": null,
            "_view_module": "@jupyter-widgets/controls",
            "_view_module_version": "1.5.0",
            "_view_name": "HTMLView",
            "description": "",
            "description_tooltip": null,
            "layout": "IPY_MODEL_9d6586b2dec14d7eb2636df68d0d55da",
            "placeholder": "​",
            "style": "IPY_MODEL_97958878879b4603955cc7e102378dd4",
            "value": "added_tokens.json: 100%"
          }
        },
        "60534ef12732459a8ef88bf2c25c4afa": {
          "model_module": "@jupyter-widgets/controls",
          "model_name": "FloatProgressModel",
          "model_module_version": "1.5.0",
          "state": {
            "_dom_classes": [],
            "_model_module": "@jupyter-widgets/controls",
            "_model_module_version": "1.5.0",
            "_model_name": "FloatProgressModel",
            "_view_count": null,
            "_view_module": "@jupyter-widgets/controls",
            "_view_module_version": "1.5.0",
            "_view_name": "ProgressView",
            "bar_style": "success",
            "description": "",
            "description_tooltip": null,
            "layout": "IPY_MODEL_d3b108b3dec84e529cb835814f855ccd",
            "max": 306,
            "min": 0,
            "orientation": "horizontal",
            "style": "IPY_MODEL_be7afb31eec946cab4f833ae0cec9bb1",
            "value": 306
          }
        },
        "f43c48803038442bbc4ad7883c4f64bc": {
          "model_module": "@jupyter-widgets/controls",
          "model_name": "HTMLModel",
          "model_module_version": "1.5.0",
          "state": {
            "_dom_classes": [],
            "_model_module": "@jupyter-widgets/controls",
            "_model_module_version": "1.5.0",
            "_model_name": "HTMLModel",
            "_view_count": null,
            "_view_module": "@jupyter-widgets/controls",
            "_view_module_version": "1.5.0",
            "_view_name": "HTMLView",
            "description": "",
            "description_tooltip": null,
            "layout": "IPY_MODEL_0256a5e062374b379b05118090d277a8",
            "placeholder": "​",
            "style": "IPY_MODEL_aa91a89d795341c2a335f6be3addfc24",
            "value": " 306/306 [00:00&lt;00:00, 31.0kB/s]"
          }
        },
        "3e3f73f009d04215a013324cca8e4e13": {
          "model_module": "@jupyter-widgets/base",
          "model_name": "LayoutModel",
          "model_module_version": "1.2.0",
          "state": {
            "_model_module": "@jupyter-widgets/base",
            "_model_module_version": "1.2.0",
            "_model_name": "LayoutModel",
            "_view_count": null,
            "_view_module": "@jupyter-widgets/base",
            "_view_module_version": "1.2.0",
            "_view_name": "LayoutView",
            "align_content": null,
            "align_items": null,
            "align_self": null,
            "border": null,
            "bottom": null,
            "display": null,
            "flex": null,
            "flex_flow": null,
            "grid_area": null,
            "grid_auto_columns": null,
            "grid_auto_flow": null,
            "grid_auto_rows": null,
            "grid_column": null,
            "grid_gap": null,
            "grid_row": null,
            "grid_template_areas": null,
            "grid_template_columns": null,
            "grid_template_rows": null,
            "height": null,
            "justify_content": null,
            "justify_items": null,
            "left": null,
            "margin": null,
            "max_height": null,
            "max_width": null,
            "min_height": null,
            "min_width": null,
            "object_fit": null,
            "object_position": null,
            "order": null,
            "overflow": null,
            "overflow_x": null,
            "overflow_y": null,
            "padding": null,
            "right": null,
            "top": null,
            "visibility": null,
            "width": null
          }
        },
        "9d6586b2dec14d7eb2636df68d0d55da": {
          "model_module": "@jupyter-widgets/base",
          "model_name": "LayoutModel",
          "model_module_version": "1.2.0",
          "state": {
            "_model_module": "@jupyter-widgets/base",
            "_model_module_version": "1.2.0",
            "_model_name": "LayoutModel",
            "_view_count": null,
            "_view_module": "@jupyter-widgets/base",
            "_view_module_version": "1.2.0",
            "_view_name": "LayoutView",
            "align_content": null,
            "align_items": null,
            "align_self": null,
            "border": null,
            "bottom": null,
            "display": null,
            "flex": null,
            "flex_flow": null,
            "grid_area": null,
            "grid_auto_columns": null,
            "grid_auto_flow": null,
            "grid_auto_rows": null,
            "grid_column": null,
            "grid_gap": null,
            "grid_row": null,
            "grid_template_areas": null,
            "grid_template_columns": null,
            "grid_template_rows": null,
            "height": null,
            "justify_content": null,
            "justify_items": null,
            "left": null,
            "margin": null,
            "max_height": null,
            "max_width": null,
            "min_height": null,
            "min_width": null,
            "object_fit": null,
            "object_position": null,
            "order": null,
            "overflow": null,
            "overflow_x": null,
            "overflow_y": null,
            "padding": null,
            "right": null,
            "top": null,
            "visibility": null,
            "width": null
          }
        },
        "97958878879b4603955cc7e102378dd4": {
          "model_module": "@jupyter-widgets/controls",
          "model_name": "DescriptionStyleModel",
          "model_module_version": "1.5.0",
          "state": {
            "_model_module": "@jupyter-widgets/controls",
            "_model_module_version": "1.5.0",
            "_model_name": "DescriptionStyleModel",
            "_view_count": null,
            "_view_module": "@jupyter-widgets/base",
            "_view_module_version": "1.2.0",
            "_view_name": "StyleView",
            "description_width": ""
          }
        },
        "d3b108b3dec84e529cb835814f855ccd": {
          "model_module": "@jupyter-widgets/base",
          "model_name": "LayoutModel",
          "model_module_version": "1.2.0",
          "state": {
            "_model_module": "@jupyter-widgets/base",
            "_model_module_version": "1.2.0",
            "_model_name": "LayoutModel",
            "_view_count": null,
            "_view_module": "@jupyter-widgets/base",
            "_view_module_version": "1.2.0",
            "_view_name": "LayoutView",
            "align_content": null,
            "align_items": null,
            "align_self": null,
            "border": null,
            "bottom": null,
            "display": null,
            "flex": null,
            "flex_flow": null,
            "grid_area": null,
            "grid_auto_columns": null,
            "grid_auto_flow": null,
            "grid_auto_rows": null,
            "grid_column": null,
            "grid_gap": null,
            "grid_row": null,
            "grid_template_areas": null,
            "grid_template_columns": null,
            "grid_template_rows": null,
            "height": null,
            "justify_content": null,
            "justify_items": null,
            "left": null,
            "margin": null,
            "max_height": null,
            "max_width": null,
            "min_height": null,
            "min_width": null,
            "object_fit": null,
            "object_position": null,
            "order": null,
            "overflow": null,
            "overflow_x": null,
            "overflow_y": null,
            "padding": null,
            "right": null,
            "top": null,
            "visibility": null,
            "width": null
          }
        },
        "be7afb31eec946cab4f833ae0cec9bb1": {
          "model_module": "@jupyter-widgets/controls",
          "model_name": "ProgressStyleModel",
          "model_module_version": "1.5.0",
          "state": {
            "_model_module": "@jupyter-widgets/controls",
            "_model_module_version": "1.5.0",
            "_model_name": "ProgressStyleModel",
            "_view_count": null,
            "_view_module": "@jupyter-widgets/base",
            "_view_module_version": "1.2.0",
            "_view_name": "StyleView",
            "bar_color": null,
            "description_width": ""
          }
        },
        "0256a5e062374b379b05118090d277a8": {
          "model_module": "@jupyter-widgets/base",
          "model_name": "LayoutModel",
          "model_module_version": "1.2.0",
          "state": {
            "_model_module": "@jupyter-widgets/base",
            "_model_module_version": "1.2.0",
            "_model_name": "LayoutModel",
            "_view_count": null,
            "_view_module": "@jupyter-widgets/base",
            "_view_module_version": "1.2.0",
            "_view_name": "LayoutView",
            "align_content": null,
            "align_items": null,
            "align_self": null,
            "border": null,
            "bottom": null,
            "display": null,
            "flex": null,
            "flex_flow": null,
            "grid_area": null,
            "grid_auto_columns": null,
            "grid_auto_flow": null,
            "grid_auto_rows": null,
            "grid_column": null,
            "grid_gap": null,
            "grid_row": null,
            "grid_template_areas": null,
            "grid_template_columns": null,
            "grid_template_rows": null,
            "height": null,
            "justify_content": null,
            "justify_items": null,
            "left": null,
            "margin": null,
            "max_height": null,
            "max_width": null,
            "min_height": null,
            "min_width": null,
            "object_fit": null,
            "object_position": null,
            "order": null,
            "overflow": null,
            "overflow_x": null,
            "overflow_y": null,
            "padding": null,
            "right": null,
            "top": null,
            "visibility": null,
            "width": null
          }
        },
        "aa91a89d795341c2a335f6be3addfc24": {
          "model_module": "@jupyter-widgets/controls",
          "model_name": "DescriptionStyleModel",
          "model_module_version": "1.5.0",
          "state": {
            "_model_module": "@jupyter-widgets/controls",
            "_model_module_version": "1.5.0",
            "_model_name": "DescriptionStyleModel",
            "_view_count": null,
            "_view_module": "@jupyter-widgets/base",
            "_view_module_version": "1.2.0",
            "_view_name": "StyleView",
            "description_width": ""
          }
        },
        "c21a22bc87ee4597a39dd6c6330fa735": {
          "model_module": "@jupyter-widgets/controls",
          "model_name": "HBoxModel",
          "model_module_version": "1.5.0",
          "state": {
            "_dom_classes": [],
            "_model_module": "@jupyter-widgets/controls",
            "_model_module_version": "1.5.0",
            "_model_name": "HBoxModel",
            "_view_count": null,
            "_view_module": "@jupyter-widgets/controls",
            "_view_module_version": "1.5.0",
            "_view_name": "HBoxView",
            "box_style": "",
            "children": [
              "IPY_MODEL_41a92ae8c8904a84b349055f118efe1a",
              "IPY_MODEL_406cc7158fcb4f3588df46274cfdf010",
              "IPY_MODEL_a5d9a644cad94b2b97cf1be2c4a62bce"
            ],
            "layout": "IPY_MODEL_0e6d3c4d504e4a72b29c431d10e4b734"
          }
        },
        "41a92ae8c8904a84b349055f118efe1a": {
          "model_module": "@jupyter-widgets/controls",
          "model_name": "HTMLModel",
          "model_module_version": "1.5.0",
          "state": {
            "_dom_classes": [],
            "_model_module": "@jupyter-widgets/controls",
            "_model_module_version": "1.5.0",
            "_model_name": "HTMLModel",
            "_view_count": null,
            "_view_module": "@jupyter-widgets/controls",
            "_view_module_version": "1.5.0",
            "_view_name": "HTMLView",
            "description": "",
            "description_tooltip": null,
            "layout": "IPY_MODEL_cba357073ba348b3a834af299a81b792",
            "placeholder": "​",
            "style": "IPY_MODEL_4649d9cdee9e458f8bcccadae87b16c1",
            "value": "special_tokens_map.json: 100%"
          }
        },
        "406cc7158fcb4f3588df46274cfdf010": {
          "model_module": "@jupyter-widgets/controls",
          "model_name": "FloatProgressModel",
          "model_module_version": "1.5.0",
          "state": {
            "_dom_classes": [],
            "_model_module": "@jupyter-widgets/controls",
            "_model_module_version": "1.5.0",
            "_model_name": "FloatProgressModel",
            "_view_count": null,
            "_view_module": "@jupyter-widgets/controls",
            "_view_module_version": "1.5.0",
            "_view_name": "ProgressView",
            "bar_style": "success",
            "description": "",
            "description_tooltip": null,
            "layout": "IPY_MODEL_da0e7b0fd88f4cb8ab936f1c80fee3f2",
            "max": 665,
            "min": 0,
            "orientation": "horizontal",
            "style": "IPY_MODEL_b7b9e38c786d4b8ab1f65c6c86fe65aa",
            "value": 665
          }
        },
        "a5d9a644cad94b2b97cf1be2c4a62bce": {
          "model_module": "@jupyter-widgets/controls",
          "model_name": "HTMLModel",
          "model_module_version": "1.5.0",
          "state": {
            "_dom_classes": [],
            "_model_module": "@jupyter-widgets/controls",
            "_model_module_version": "1.5.0",
            "_model_name": "HTMLModel",
            "_view_count": null,
            "_view_module": "@jupyter-widgets/controls",
            "_view_module_version": "1.5.0",
            "_view_name": "HTMLView",
            "description": "",
            "description_tooltip": null,
            "layout": "IPY_MODEL_d762e2664f7e4d11af28475aee6f44e0",
            "placeholder": "​",
            "style": "IPY_MODEL_1e58b3e496d24057b571aacf9d45cd78",
            "value": " 665/665 [00:00&lt;00:00, 66.5kB/s]"
          }
        },
        "0e6d3c4d504e4a72b29c431d10e4b734": {
          "model_module": "@jupyter-widgets/base",
          "model_name": "LayoutModel",
          "model_module_version": "1.2.0",
          "state": {
            "_model_module": "@jupyter-widgets/base",
            "_model_module_version": "1.2.0",
            "_model_name": "LayoutModel",
            "_view_count": null,
            "_view_module": "@jupyter-widgets/base",
            "_view_module_version": "1.2.0",
            "_view_name": "LayoutView",
            "align_content": null,
            "align_items": null,
            "align_self": null,
            "border": null,
            "bottom": null,
            "display": null,
            "flex": null,
            "flex_flow": null,
            "grid_area": null,
            "grid_auto_columns": null,
            "grid_auto_flow": null,
            "grid_auto_rows": null,
            "grid_column": null,
            "grid_gap": null,
            "grid_row": null,
            "grid_template_areas": null,
            "grid_template_columns": null,
            "grid_template_rows": null,
            "height": null,
            "justify_content": null,
            "justify_items": null,
            "left": null,
            "margin": null,
            "max_height": null,
            "max_width": null,
            "min_height": null,
            "min_width": null,
            "object_fit": null,
            "object_position": null,
            "order": null,
            "overflow": null,
            "overflow_x": null,
            "overflow_y": null,
            "padding": null,
            "right": null,
            "top": null,
            "visibility": null,
            "width": null
          }
        },
        "cba357073ba348b3a834af299a81b792": {
          "model_module": "@jupyter-widgets/base",
          "model_name": "LayoutModel",
          "model_module_version": "1.2.0",
          "state": {
            "_model_module": "@jupyter-widgets/base",
            "_model_module_version": "1.2.0",
            "_model_name": "LayoutModel",
            "_view_count": null,
            "_view_module": "@jupyter-widgets/base",
            "_view_module_version": "1.2.0",
            "_view_name": "LayoutView",
            "align_content": null,
            "align_items": null,
            "align_self": null,
            "border": null,
            "bottom": null,
            "display": null,
            "flex": null,
            "flex_flow": null,
            "grid_area": null,
            "grid_auto_columns": null,
            "grid_auto_flow": null,
            "grid_auto_rows": null,
            "grid_column": null,
            "grid_gap": null,
            "grid_row": null,
            "grid_template_areas": null,
            "grid_template_columns": null,
            "grid_template_rows": null,
            "height": null,
            "justify_content": null,
            "justify_items": null,
            "left": null,
            "margin": null,
            "max_height": null,
            "max_width": null,
            "min_height": null,
            "min_width": null,
            "object_fit": null,
            "object_position": null,
            "order": null,
            "overflow": null,
            "overflow_x": null,
            "overflow_y": null,
            "padding": null,
            "right": null,
            "top": null,
            "visibility": null,
            "width": null
          }
        },
        "4649d9cdee9e458f8bcccadae87b16c1": {
          "model_module": "@jupyter-widgets/controls",
          "model_name": "DescriptionStyleModel",
          "model_module_version": "1.5.0",
          "state": {
            "_model_module": "@jupyter-widgets/controls",
            "_model_module_version": "1.5.0",
            "_model_name": "DescriptionStyleModel",
            "_view_count": null,
            "_view_module": "@jupyter-widgets/base",
            "_view_module_version": "1.2.0",
            "_view_name": "StyleView",
            "description_width": ""
          }
        },
        "da0e7b0fd88f4cb8ab936f1c80fee3f2": {
          "model_module": "@jupyter-widgets/base",
          "model_name": "LayoutModel",
          "model_module_version": "1.2.0",
          "state": {
            "_model_module": "@jupyter-widgets/base",
            "_model_module_version": "1.2.0",
            "_model_name": "LayoutModel",
            "_view_count": null,
            "_view_module": "@jupyter-widgets/base",
            "_view_module_version": "1.2.0",
            "_view_name": "LayoutView",
            "align_content": null,
            "align_items": null,
            "align_self": null,
            "border": null,
            "bottom": null,
            "display": null,
            "flex": null,
            "flex_flow": null,
            "grid_area": null,
            "grid_auto_columns": null,
            "grid_auto_flow": null,
            "grid_auto_rows": null,
            "grid_column": null,
            "grid_gap": null,
            "grid_row": null,
            "grid_template_areas": null,
            "grid_template_columns": null,
            "grid_template_rows": null,
            "height": null,
            "justify_content": null,
            "justify_items": null,
            "left": null,
            "margin": null,
            "max_height": null,
            "max_width": null,
            "min_height": null,
            "min_width": null,
            "object_fit": null,
            "object_position": null,
            "order": null,
            "overflow": null,
            "overflow_x": null,
            "overflow_y": null,
            "padding": null,
            "right": null,
            "top": null,
            "visibility": null,
            "width": null
          }
        },
        "b7b9e38c786d4b8ab1f65c6c86fe65aa": {
          "model_module": "@jupyter-widgets/controls",
          "model_name": "ProgressStyleModel",
          "model_module_version": "1.5.0",
          "state": {
            "_model_module": "@jupyter-widgets/controls",
            "_model_module_version": "1.5.0",
            "_model_name": "ProgressStyleModel",
            "_view_count": null,
            "_view_module": "@jupyter-widgets/base",
            "_view_module_version": "1.2.0",
            "_view_name": "StyleView",
            "bar_color": null,
            "description_width": ""
          }
        },
        "d762e2664f7e4d11af28475aee6f44e0": {
          "model_module": "@jupyter-widgets/base",
          "model_name": "LayoutModel",
          "model_module_version": "1.2.0",
          "state": {
            "_model_module": "@jupyter-widgets/base",
            "_model_module_version": "1.2.0",
            "_model_name": "LayoutModel",
            "_view_count": null,
            "_view_module": "@jupyter-widgets/base",
            "_view_module_version": "1.2.0",
            "_view_name": "LayoutView",
            "align_content": null,
            "align_items": null,
            "align_self": null,
            "border": null,
            "bottom": null,
            "display": null,
            "flex": null,
            "flex_flow": null,
            "grid_area": null,
            "grid_auto_columns": null,
            "grid_auto_flow": null,
            "grid_auto_rows": null,
            "grid_column": null,
            "grid_gap": null,
            "grid_row": null,
            "grid_template_areas": null,
            "grid_template_columns": null,
            "grid_template_rows": null,
            "height": null,
            "justify_content": null,
            "justify_items": null,
            "left": null,
            "margin": null,
            "max_height": null,
            "max_width": null,
            "min_height": null,
            "min_width": null,
            "object_fit": null,
            "object_position": null,
            "order": null,
            "overflow": null,
            "overflow_x": null,
            "overflow_y": null,
            "padding": null,
            "right": null,
            "top": null,
            "visibility": null,
            "width": null
          }
        },
        "1e58b3e496d24057b571aacf9d45cd78": {
          "model_module": "@jupyter-widgets/controls",
          "model_name": "DescriptionStyleModel",
          "model_module_version": "1.5.0",
          "state": {
            "_model_module": "@jupyter-widgets/controls",
            "_model_module_version": "1.5.0",
            "_model_name": "DescriptionStyleModel",
            "_view_count": null,
            "_view_module": "@jupyter-widgets/base",
            "_view_module_version": "1.2.0",
            "_view_name": "StyleView",
            "description_width": ""
          }
        },
        "335d1d5bcd2c4038be448fac90aac9a7": {
          "model_module": "@jupyter-widgets/controls",
          "model_name": "HBoxModel",
          "model_module_version": "1.5.0",
          "state": {
            "_dom_classes": [],
            "_model_module": "@jupyter-widgets/controls",
            "_model_module_version": "1.5.0",
            "_model_name": "HBoxModel",
            "_view_count": null,
            "_view_module": "@jupyter-widgets/controls",
            "_view_module_version": "1.5.0",
            "_view_name": "HBoxView",
            "box_style": "",
            "children": [
              "IPY_MODEL_f2807d9f907d499f8d99682c1b7c17be",
              "IPY_MODEL_abfcae128f8d44109a96f69d7df8905f",
              "IPY_MODEL_71aed79eb38b4a0da627485cc4439220"
            ],
            "layout": "IPY_MODEL_7d70de531eaf4443b8ed7d68ef015bb4"
          }
        },
        "f2807d9f907d499f8d99682c1b7c17be": {
          "model_module": "@jupyter-widgets/controls",
          "model_name": "HTMLModel",
          "model_module_version": "1.5.0",
          "state": {
            "_dom_classes": [],
            "_model_module": "@jupyter-widgets/controls",
            "_model_module_version": "1.5.0",
            "_model_name": "HTMLModel",
            "_view_count": null,
            "_view_module": "@jupyter-widgets/controls",
            "_view_module_version": "1.5.0",
            "_view_name": "HTMLView",
            "description": "",
            "description_tooltip": null,
            "layout": "IPY_MODEL_386bc21638184b4db1804eddd1cef640",
            "placeholder": "​",
            "style": "IPY_MODEL_e1c689ffd0d34f0c8350508c180239fc",
            "value": "README.md: 100%"
          }
        },
        "abfcae128f8d44109a96f69d7df8905f": {
          "model_module": "@jupyter-widgets/controls",
          "model_name": "FloatProgressModel",
          "model_module_version": "1.5.0",
          "state": {
            "_dom_classes": [],
            "_model_module": "@jupyter-widgets/controls",
            "_model_module_version": "1.5.0",
            "_model_name": "FloatProgressModel",
            "_view_count": null,
            "_view_module": "@jupyter-widgets/controls",
            "_view_module_version": "1.5.0",
            "_view_name": "ProgressView",
            "bar_style": "success",
            "description": "",
            "description_tooltip": null,
            "layout": "IPY_MODEL_0ff20e40e2234e44b5a7a50de7572b6c",
            "max": 654,
            "min": 0,
            "orientation": "horizontal",
            "style": "IPY_MODEL_2b64c9fd98ca4c17b01d502d9db8a7e2",
            "value": 654
          }
        },
        "71aed79eb38b4a0da627485cc4439220": {
          "model_module": "@jupyter-widgets/controls",
          "model_name": "HTMLModel",
          "model_module_version": "1.5.0",
          "state": {
            "_dom_classes": [],
            "_model_module": "@jupyter-widgets/controls",
            "_model_module_version": "1.5.0",
            "_model_name": "HTMLModel",
            "_view_count": null,
            "_view_module": "@jupyter-widgets/controls",
            "_view_module_version": "1.5.0",
            "_view_name": "HTMLView",
            "description": "",
            "description_tooltip": null,
            "layout": "IPY_MODEL_d111b2fc24484b628cb02a7eafecdf08",
            "placeholder": "​",
            "style": "IPY_MODEL_cda3b8cae29948a99cd76c3d2866a0e0",
            "value": " 654/654 [00:00&lt;00:00, 63.0kB/s]"
          }
        },
        "7d70de531eaf4443b8ed7d68ef015bb4": {
          "model_module": "@jupyter-widgets/base",
          "model_name": "LayoutModel",
          "model_module_version": "1.2.0",
          "state": {
            "_model_module": "@jupyter-widgets/base",
            "_model_module_version": "1.2.0",
            "_model_name": "LayoutModel",
            "_view_count": null,
            "_view_module": "@jupyter-widgets/base",
            "_view_module_version": "1.2.0",
            "_view_name": "LayoutView",
            "align_content": null,
            "align_items": null,
            "align_self": null,
            "border": null,
            "bottom": null,
            "display": null,
            "flex": null,
            "flex_flow": null,
            "grid_area": null,
            "grid_auto_columns": null,
            "grid_auto_flow": null,
            "grid_auto_rows": null,
            "grid_column": null,
            "grid_gap": null,
            "grid_row": null,
            "grid_template_areas": null,
            "grid_template_columns": null,
            "grid_template_rows": null,
            "height": null,
            "justify_content": null,
            "justify_items": null,
            "left": null,
            "margin": null,
            "max_height": null,
            "max_width": null,
            "min_height": null,
            "min_width": null,
            "object_fit": null,
            "object_position": null,
            "order": null,
            "overflow": null,
            "overflow_x": null,
            "overflow_y": null,
            "padding": null,
            "right": null,
            "top": null,
            "visibility": null,
            "width": null
          }
        },
        "386bc21638184b4db1804eddd1cef640": {
          "model_module": "@jupyter-widgets/base",
          "model_name": "LayoutModel",
          "model_module_version": "1.2.0",
          "state": {
            "_model_module": "@jupyter-widgets/base",
            "_model_module_version": "1.2.0",
            "_model_name": "LayoutModel",
            "_view_count": null,
            "_view_module": "@jupyter-widgets/base",
            "_view_module_version": "1.2.0",
            "_view_name": "LayoutView",
            "align_content": null,
            "align_items": null,
            "align_self": null,
            "border": null,
            "bottom": null,
            "display": null,
            "flex": null,
            "flex_flow": null,
            "grid_area": null,
            "grid_auto_columns": null,
            "grid_auto_flow": null,
            "grid_auto_rows": null,
            "grid_column": null,
            "grid_gap": null,
            "grid_row": null,
            "grid_template_areas": null,
            "grid_template_columns": null,
            "grid_template_rows": null,
            "height": null,
            "justify_content": null,
            "justify_items": null,
            "left": null,
            "margin": null,
            "max_height": null,
            "max_width": null,
            "min_height": null,
            "min_width": null,
            "object_fit": null,
            "object_position": null,
            "order": null,
            "overflow": null,
            "overflow_x": null,
            "overflow_y": null,
            "padding": null,
            "right": null,
            "top": null,
            "visibility": null,
            "width": null
          }
        },
        "e1c689ffd0d34f0c8350508c180239fc": {
          "model_module": "@jupyter-widgets/controls",
          "model_name": "DescriptionStyleModel",
          "model_module_version": "1.5.0",
          "state": {
            "_model_module": "@jupyter-widgets/controls",
            "_model_module_version": "1.5.0",
            "_model_name": "DescriptionStyleModel",
            "_view_count": null,
            "_view_module": "@jupyter-widgets/base",
            "_view_module_version": "1.2.0",
            "_view_name": "StyleView",
            "description_width": ""
          }
        },
        "0ff20e40e2234e44b5a7a50de7572b6c": {
          "model_module": "@jupyter-widgets/base",
          "model_name": "LayoutModel",
          "model_module_version": "1.2.0",
          "state": {
            "_model_module": "@jupyter-widgets/base",
            "_model_module_version": "1.2.0",
            "_model_name": "LayoutModel",
            "_view_count": null,
            "_view_module": "@jupyter-widgets/base",
            "_view_module_version": "1.2.0",
            "_view_name": "LayoutView",
            "align_content": null,
            "align_items": null,
            "align_self": null,
            "border": null,
            "bottom": null,
            "display": null,
            "flex": null,
            "flex_flow": null,
            "grid_area": null,
            "grid_auto_columns": null,
            "grid_auto_flow": null,
            "grid_auto_rows": null,
            "grid_column": null,
            "grid_gap": null,
            "grid_row": null,
            "grid_template_areas": null,
            "grid_template_columns": null,
            "grid_template_rows": null,
            "height": null,
            "justify_content": null,
            "justify_items": null,
            "left": null,
            "margin": null,
            "max_height": null,
            "max_width": null,
            "min_height": null,
            "min_width": null,
            "object_fit": null,
            "object_position": null,
            "order": null,
            "overflow": null,
            "overflow_x": null,
            "overflow_y": null,
            "padding": null,
            "right": null,
            "top": null,
            "visibility": null,
            "width": null
          }
        },
        "2b64c9fd98ca4c17b01d502d9db8a7e2": {
          "model_module": "@jupyter-widgets/controls",
          "model_name": "ProgressStyleModel",
          "model_module_version": "1.5.0",
          "state": {
            "_model_module": "@jupyter-widgets/controls",
            "_model_module_version": "1.5.0",
            "_model_name": "ProgressStyleModel",
            "_view_count": null,
            "_view_module": "@jupyter-widgets/base",
            "_view_module_version": "1.2.0",
            "_view_name": "StyleView",
            "bar_color": null,
            "description_width": ""
          }
        },
        "d111b2fc24484b628cb02a7eafecdf08": {
          "model_module": "@jupyter-widgets/base",
          "model_name": "LayoutModel",
          "model_module_version": "1.2.0",
          "state": {
            "_model_module": "@jupyter-widgets/base",
            "_model_module_version": "1.2.0",
            "_model_name": "LayoutModel",
            "_view_count": null,
            "_view_module": "@jupyter-widgets/base",
            "_view_module_version": "1.2.0",
            "_view_name": "LayoutView",
            "align_content": null,
            "align_items": null,
            "align_self": null,
            "border": null,
            "bottom": null,
            "display": null,
            "flex": null,
            "flex_flow": null,
            "grid_area": null,
            "grid_auto_columns": null,
            "grid_auto_flow": null,
            "grid_auto_rows": null,
            "grid_column": null,
            "grid_gap": null,
            "grid_row": null,
            "grid_template_areas": null,
            "grid_template_columns": null,
            "grid_template_rows": null,
            "height": null,
            "justify_content": null,
            "justify_items": null,
            "left": null,
            "margin": null,
            "max_height": null,
            "max_width": null,
            "min_height": null,
            "min_width": null,
            "object_fit": null,
            "object_position": null,
            "order": null,
            "overflow": null,
            "overflow_x": null,
            "overflow_y": null,
            "padding": null,
            "right": null,
            "top": null,
            "visibility": null,
            "width": null
          }
        },
        "cda3b8cae29948a99cd76c3d2866a0e0": {
          "model_module": "@jupyter-widgets/controls",
          "model_name": "DescriptionStyleModel",
          "model_module_version": "1.5.0",
          "state": {
            "_model_module": "@jupyter-widgets/controls",
            "_model_module_version": "1.5.0",
            "_model_name": "DescriptionStyleModel",
            "_view_count": null,
            "_view_module": "@jupyter-widgets/base",
            "_view_module_version": "1.2.0",
            "_view_name": "StyleView",
            "description_width": ""
          }
        },
        "3e820d22b1da4906bed0dce808c36cd0": {
          "model_module": "@jupyter-widgets/controls",
          "model_name": "HBoxModel",
          "model_module_version": "1.5.0",
          "state": {
            "_dom_classes": [],
            "_model_module": "@jupyter-widgets/controls",
            "_model_module_version": "1.5.0",
            "_model_name": "HBoxModel",
            "_view_count": null,
            "_view_module": "@jupyter-widgets/controls",
            "_view_module_version": "1.5.0",
            "_view_name": "HBoxView",
            "box_style": "",
            "children": [
              "IPY_MODEL_718c6e79cf2d42cc8ccf3c653b9e619f",
              "IPY_MODEL_3754897666a04e528e02ea2d147f77a9",
              "IPY_MODEL_08d33d4957184ae0ac813d0b6aa244ba"
            ],
            "layout": "IPY_MODEL_8a84426884224262b6b75772ec9ab74e"
          }
        },
        "718c6e79cf2d42cc8ccf3c653b9e619f": {
          "model_module": "@jupyter-widgets/controls",
          "model_name": "HTMLModel",
          "model_module_version": "1.5.0",
          "state": {
            "_dom_classes": [],
            "_model_module": "@jupyter-widgets/controls",
            "_model_module_version": "1.5.0",
            "_model_name": "HTMLModel",
            "_view_count": null,
            "_view_module": "@jupyter-widgets/controls",
            "_view_module_version": "1.5.0",
            "_view_name": "HTMLView",
            "description": "",
            "description_tooltip": null,
            "layout": "IPY_MODEL_80b5033c834348a8aaff418e0256ef39",
            "placeholder": "​",
            "style": "IPY_MODEL_3ad20432637c48548bd76a93b3c66750",
            "value": "phrases_no_exclude_train.jsonl: 100%"
          }
        },
        "3754897666a04e528e02ea2d147f77a9": {
          "model_module": "@jupyter-widgets/controls",
          "model_name": "FloatProgressModel",
          "model_module_version": "1.5.0",
          "state": {
            "_dom_classes": [],
            "_model_module": "@jupyter-widgets/controls",
            "_model_module_version": "1.5.0",
            "_model_name": "FloatProgressModel",
            "_view_count": null,
            "_view_module": "@jupyter-widgets/controls",
            "_view_module_version": "1.5.0",
            "_view_name": "ProgressView",
            "bar_style": "success",
            "description": "",
            "description_tooltip": null,
            "layout": "IPY_MODEL_6d4566dfadef4fbfbb0e07d8b5b2d09e",
            "max": 16211077,
            "min": 0,
            "orientation": "horizontal",
            "style": "IPY_MODEL_49ed27121c5643a0abfa660b8d821467",
            "value": 16211077
          }
        },
        "08d33d4957184ae0ac813d0b6aa244ba": {
          "model_module": "@jupyter-widgets/controls",
          "model_name": "HTMLModel",
          "model_module_version": "1.5.0",
          "state": {
            "_dom_classes": [],
            "_model_module": "@jupyter-widgets/controls",
            "_model_module_version": "1.5.0",
            "_model_name": "HTMLModel",
            "_view_count": null,
            "_view_module": "@jupyter-widgets/controls",
            "_view_module_version": "1.5.0",
            "_view_name": "HTMLView",
            "description": "",
            "description_tooltip": null,
            "layout": "IPY_MODEL_1e2721073cf94f4b8127ff760f68f77e",
            "placeholder": "​",
            "style": "IPY_MODEL_0757321a7bb24feaa65593440dcd04d7",
            "value": " 16.2M/16.2M [00:00&lt;00:00, 35.7MB/s]"
          }
        },
        "8a84426884224262b6b75772ec9ab74e": {
          "model_module": "@jupyter-widgets/base",
          "model_name": "LayoutModel",
          "model_module_version": "1.2.0",
          "state": {
            "_model_module": "@jupyter-widgets/base",
            "_model_module_version": "1.2.0",
            "_model_name": "LayoutModel",
            "_view_count": null,
            "_view_module": "@jupyter-widgets/base",
            "_view_module_version": "1.2.0",
            "_view_name": "LayoutView",
            "align_content": null,
            "align_items": null,
            "align_self": null,
            "border": null,
            "bottom": null,
            "display": null,
            "flex": null,
            "flex_flow": null,
            "grid_area": null,
            "grid_auto_columns": null,
            "grid_auto_flow": null,
            "grid_auto_rows": null,
            "grid_column": null,
            "grid_gap": null,
            "grid_row": null,
            "grid_template_areas": null,
            "grid_template_columns": null,
            "grid_template_rows": null,
            "height": null,
            "justify_content": null,
            "justify_items": null,
            "left": null,
            "margin": null,
            "max_height": null,
            "max_width": null,
            "min_height": null,
            "min_width": null,
            "object_fit": null,
            "object_position": null,
            "order": null,
            "overflow": null,
            "overflow_x": null,
            "overflow_y": null,
            "padding": null,
            "right": null,
            "top": null,
            "visibility": null,
            "width": null
          }
        },
        "80b5033c834348a8aaff418e0256ef39": {
          "model_module": "@jupyter-widgets/base",
          "model_name": "LayoutModel",
          "model_module_version": "1.2.0",
          "state": {
            "_model_module": "@jupyter-widgets/base",
            "_model_module_version": "1.2.0",
            "_model_name": "LayoutModel",
            "_view_count": null,
            "_view_module": "@jupyter-widgets/base",
            "_view_module_version": "1.2.0",
            "_view_name": "LayoutView",
            "align_content": null,
            "align_items": null,
            "align_self": null,
            "border": null,
            "bottom": null,
            "display": null,
            "flex": null,
            "flex_flow": null,
            "grid_area": null,
            "grid_auto_columns": null,
            "grid_auto_flow": null,
            "grid_auto_rows": null,
            "grid_column": null,
            "grid_gap": null,
            "grid_row": null,
            "grid_template_areas": null,
            "grid_template_columns": null,
            "grid_template_rows": null,
            "height": null,
            "justify_content": null,
            "justify_items": null,
            "left": null,
            "margin": null,
            "max_height": null,
            "max_width": null,
            "min_height": null,
            "min_width": null,
            "object_fit": null,
            "object_position": null,
            "order": null,
            "overflow": null,
            "overflow_x": null,
            "overflow_y": null,
            "padding": null,
            "right": null,
            "top": null,
            "visibility": null,
            "width": null
          }
        },
        "3ad20432637c48548bd76a93b3c66750": {
          "model_module": "@jupyter-widgets/controls",
          "model_name": "DescriptionStyleModel",
          "model_module_version": "1.5.0",
          "state": {
            "_model_module": "@jupyter-widgets/controls",
            "_model_module_version": "1.5.0",
            "_model_name": "DescriptionStyleModel",
            "_view_count": null,
            "_view_module": "@jupyter-widgets/base",
            "_view_module_version": "1.2.0",
            "_view_name": "StyleView",
            "description_width": ""
          }
        },
        "6d4566dfadef4fbfbb0e07d8b5b2d09e": {
          "model_module": "@jupyter-widgets/base",
          "model_name": "LayoutModel",
          "model_module_version": "1.2.0",
          "state": {
            "_model_module": "@jupyter-widgets/base",
            "_model_module_version": "1.2.0",
            "_model_name": "LayoutModel",
            "_view_count": null,
            "_view_module": "@jupyter-widgets/base",
            "_view_module_version": "1.2.0",
            "_view_name": "LayoutView",
            "align_content": null,
            "align_items": null,
            "align_self": null,
            "border": null,
            "bottom": null,
            "display": null,
            "flex": null,
            "flex_flow": null,
            "grid_area": null,
            "grid_auto_columns": null,
            "grid_auto_flow": null,
            "grid_auto_rows": null,
            "grid_column": null,
            "grid_gap": null,
            "grid_row": null,
            "grid_template_areas": null,
            "grid_template_columns": null,
            "grid_template_rows": null,
            "height": null,
            "justify_content": null,
            "justify_items": null,
            "left": null,
            "margin": null,
            "max_height": null,
            "max_width": null,
            "min_height": null,
            "min_width": null,
            "object_fit": null,
            "object_position": null,
            "order": null,
            "overflow": null,
            "overflow_x": null,
            "overflow_y": null,
            "padding": null,
            "right": null,
            "top": null,
            "visibility": null,
            "width": null
          }
        },
        "49ed27121c5643a0abfa660b8d821467": {
          "model_module": "@jupyter-widgets/controls",
          "model_name": "ProgressStyleModel",
          "model_module_version": "1.5.0",
          "state": {
            "_model_module": "@jupyter-widgets/controls",
            "_model_module_version": "1.5.0",
            "_model_name": "ProgressStyleModel",
            "_view_count": null,
            "_view_module": "@jupyter-widgets/base",
            "_view_module_version": "1.2.0",
            "_view_name": "StyleView",
            "bar_color": null,
            "description_width": ""
          }
        },
        "1e2721073cf94f4b8127ff760f68f77e": {
          "model_module": "@jupyter-widgets/base",
          "model_name": "LayoutModel",
          "model_module_version": "1.2.0",
          "state": {
            "_model_module": "@jupyter-widgets/base",
            "_model_module_version": "1.2.0",
            "_model_name": "LayoutModel",
            "_view_count": null,
            "_view_module": "@jupyter-widgets/base",
            "_view_module_version": "1.2.0",
            "_view_name": "LayoutView",
            "align_content": null,
            "align_items": null,
            "align_self": null,
            "border": null,
            "bottom": null,
            "display": null,
            "flex": null,
            "flex_flow": null,
            "grid_area": null,
            "grid_auto_columns": null,
            "grid_auto_flow": null,
            "grid_auto_rows": null,
            "grid_column": null,
            "grid_gap": null,
            "grid_row": null,
            "grid_template_areas": null,
            "grid_template_columns": null,
            "grid_template_rows": null,
            "height": null,
            "justify_content": null,
            "justify_items": null,
            "left": null,
            "margin": null,
            "max_height": null,
            "max_width": null,
            "min_height": null,
            "min_width": null,
            "object_fit": null,
            "object_position": null,
            "order": null,
            "overflow": null,
            "overflow_x": null,
            "overflow_y": null,
            "padding": null,
            "right": null,
            "top": null,
            "visibility": null,
            "width": null
          }
        },
        "0757321a7bb24feaa65593440dcd04d7": {
          "model_module": "@jupyter-widgets/controls",
          "model_name": "DescriptionStyleModel",
          "model_module_version": "1.5.0",
          "state": {
            "_model_module": "@jupyter-widgets/controls",
            "_model_module_version": "1.5.0",
            "_model_name": "DescriptionStyleModel",
            "_view_count": null,
            "_view_module": "@jupyter-widgets/base",
            "_view_module_version": "1.2.0",
            "_view_name": "StyleView",
            "description_width": ""
          }
        },
        "5caef36b61c644d0ba762c6535059e04": {
          "model_module": "@jupyter-widgets/controls",
          "model_name": "HBoxModel",
          "model_module_version": "1.5.0",
          "state": {
            "_dom_classes": [],
            "_model_module": "@jupyter-widgets/controls",
            "_model_module_version": "1.5.0",
            "_model_name": "HBoxModel",
            "_view_count": null,
            "_view_module": "@jupyter-widgets/controls",
            "_view_module_version": "1.5.0",
            "_view_name": "HBoxView",
            "box_style": "",
            "children": [
              "IPY_MODEL_90db98147fdf427fa253afd4ef782efd",
              "IPY_MODEL_73dbd1b7f9bd4940a1e4845e131c9e8d",
              "IPY_MODEL_a9e2fa6023254cac9700541f655dd3f8"
            ],
            "layout": "IPY_MODEL_bb79f261d74540fd8d74387b83712cf9"
          }
        },
        "90db98147fdf427fa253afd4ef782efd": {
          "model_module": "@jupyter-widgets/controls",
          "model_name": "HTMLModel",
          "model_module_version": "1.5.0",
          "state": {
            "_dom_classes": [],
            "_model_module": "@jupyter-widgets/controls",
            "_model_module_version": "1.5.0",
            "_model_name": "HTMLModel",
            "_view_count": null,
            "_view_module": "@jupyter-widgets/controls",
            "_view_module_version": "1.5.0",
            "_view_name": "HTMLView",
            "description": "",
            "description_tooltip": null,
            "layout": "IPY_MODEL_446c49f1649940a39ebdf51d42a1695b",
            "placeholder": "​",
            "style": "IPY_MODEL_ae5d743dd8a04c3599fa15be57ecb3a7",
            "value": "phrases_no_exclude_test.jsonl: 100%"
          }
        },
        "73dbd1b7f9bd4940a1e4845e131c9e8d": {
          "model_module": "@jupyter-widgets/controls",
          "model_name": "FloatProgressModel",
          "model_module_version": "1.5.0",
          "state": {
            "_dom_classes": [],
            "_model_module": "@jupyter-widgets/controls",
            "_model_module_version": "1.5.0",
            "_model_name": "FloatProgressModel",
            "_view_count": null,
            "_view_module": "@jupyter-widgets/controls",
            "_view_module_version": "1.5.0",
            "_view_name": "ProgressView",
            "bar_style": "success",
            "description": "",
            "description_tooltip": null,
            "layout": "IPY_MODEL_d85629f48b8f4f089fee80a41116cbe1",
            "max": 2075679,
            "min": 0,
            "orientation": "horizontal",
            "style": "IPY_MODEL_dee0ac0ee5ad4c3687786aa420fb4b04",
            "value": 2075679
          }
        },
        "a9e2fa6023254cac9700541f655dd3f8": {
          "model_module": "@jupyter-widgets/controls",
          "model_name": "HTMLModel",
          "model_module_version": "1.5.0",
          "state": {
            "_dom_classes": [],
            "_model_module": "@jupyter-widgets/controls",
            "_model_module_version": "1.5.0",
            "_model_name": "HTMLModel",
            "_view_count": null,
            "_view_module": "@jupyter-widgets/controls",
            "_view_module_version": "1.5.0",
            "_view_name": "HTMLView",
            "description": "",
            "description_tooltip": null,
            "layout": "IPY_MODEL_d0f298a8b8894bd4b8312481419729c4",
            "placeholder": "​",
            "style": "IPY_MODEL_9f726ba6623142759192c30761856e4a",
            "value": " 2.08M/2.08M [00:00&lt;00:00, 9.47MB/s]"
          }
        },
        "bb79f261d74540fd8d74387b83712cf9": {
          "model_module": "@jupyter-widgets/base",
          "model_name": "LayoutModel",
          "model_module_version": "1.2.0",
          "state": {
            "_model_module": "@jupyter-widgets/base",
            "_model_module_version": "1.2.0",
            "_model_name": "LayoutModel",
            "_view_count": null,
            "_view_module": "@jupyter-widgets/base",
            "_view_module_version": "1.2.0",
            "_view_name": "LayoutView",
            "align_content": null,
            "align_items": null,
            "align_self": null,
            "border": null,
            "bottom": null,
            "display": null,
            "flex": null,
            "flex_flow": null,
            "grid_area": null,
            "grid_auto_columns": null,
            "grid_auto_flow": null,
            "grid_auto_rows": null,
            "grid_column": null,
            "grid_gap": null,
            "grid_row": null,
            "grid_template_areas": null,
            "grid_template_columns": null,
            "grid_template_rows": null,
            "height": null,
            "justify_content": null,
            "justify_items": null,
            "left": null,
            "margin": null,
            "max_height": null,
            "max_width": null,
            "min_height": null,
            "min_width": null,
            "object_fit": null,
            "object_position": null,
            "order": null,
            "overflow": null,
            "overflow_x": null,
            "overflow_y": null,
            "padding": null,
            "right": null,
            "top": null,
            "visibility": null,
            "width": null
          }
        },
        "446c49f1649940a39ebdf51d42a1695b": {
          "model_module": "@jupyter-widgets/base",
          "model_name": "LayoutModel",
          "model_module_version": "1.2.0",
          "state": {
            "_model_module": "@jupyter-widgets/base",
            "_model_module_version": "1.2.0",
            "_model_name": "LayoutModel",
            "_view_count": null,
            "_view_module": "@jupyter-widgets/base",
            "_view_module_version": "1.2.0",
            "_view_name": "LayoutView",
            "align_content": null,
            "align_items": null,
            "align_self": null,
            "border": null,
            "bottom": null,
            "display": null,
            "flex": null,
            "flex_flow": null,
            "grid_area": null,
            "grid_auto_columns": null,
            "grid_auto_flow": null,
            "grid_auto_rows": null,
            "grid_column": null,
            "grid_gap": null,
            "grid_row": null,
            "grid_template_areas": null,
            "grid_template_columns": null,
            "grid_template_rows": null,
            "height": null,
            "justify_content": null,
            "justify_items": null,
            "left": null,
            "margin": null,
            "max_height": null,
            "max_width": null,
            "min_height": null,
            "min_width": null,
            "object_fit": null,
            "object_position": null,
            "order": null,
            "overflow": null,
            "overflow_x": null,
            "overflow_y": null,
            "padding": null,
            "right": null,
            "top": null,
            "visibility": null,
            "width": null
          }
        },
        "ae5d743dd8a04c3599fa15be57ecb3a7": {
          "model_module": "@jupyter-widgets/controls",
          "model_name": "DescriptionStyleModel",
          "model_module_version": "1.5.0",
          "state": {
            "_model_module": "@jupyter-widgets/controls",
            "_model_module_version": "1.5.0",
            "_model_name": "DescriptionStyleModel",
            "_view_count": null,
            "_view_module": "@jupyter-widgets/base",
            "_view_module_version": "1.2.0",
            "_view_name": "StyleView",
            "description_width": ""
          }
        },
        "d85629f48b8f4f089fee80a41116cbe1": {
          "model_module": "@jupyter-widgets/base",
          "model_name": "LayoutModel",
          "model_module_version": "1.2.0",
          "state": {
            "_model_module": "@jupyter-widgets/base",
            "_model_module_version": "1.2.0",
            "_model_name": "LayoutModel",
            "_view_count": null,
            "_view_module": "@jupyter-widgets/base",
            "_view_module_version": "1.2.0",
            "_view_name": "LayoutView",
            "align_content": null,
            "align_items": null,
            "align_self": null,
            "border": null,
            "bottom": null,
            "display": null,
            "flex": null,
            "flex_flow": null,
            "grid_area": null,
            "grid_auto_columns": null,
            "grid_auto_flow": null,
            "grid_auto_rows": null,
            "grid_column": null,
            "grid_gap": null,
            "grid_row": null,
            "grid_template_areas": null,
            "grid_template_columns": null,
            "grid_template_rows": null,
            "height": null,
            "justify_content": null,
            "justify_items": null,
            "left": null,
            "margin": null,
            "max_height": null,
            "max_width": null,
            "min_height": null,
            "min_width": null,
            "object_fit": null,
            "object_position": null,
            "order": null,
            "overflow": null,
            "overflow_x": null,
            "overflow_y": null,
            "padding": null,
            "right": null,
            "top": null,
            "visibility": null,
            "width": null
          }
        },
        "dee0ac0ee5ad4c3687786aa420fb4b04": {
          "model_module": "@jupyter-widgets/controls",
          "model_name": "ProgressStyleModel",
          "model_module_version": "1.5.0",
          "state": {
            "_model_module": "@jupyter-widgets/controls",
            "_model_module_version": "1.5.0",
            "_model_name": "ProgressStyleModel",
            "_view_count": null,
            "_view_module": "@jupyter-widgets/base",
            "_view_module_version": "1.2.0",
            "_view_name": "StyleView",
            "bar_color": null,
            "description_width": ""
          }
        },
        "d0f298a8b8894bd4b8312481419729c4": {
          "model_module": "@jupyter-widgets/base",
          "model_name": "LayoutModel",
          "model_module_version": "1.2.0",
          "state": {
            "_model_module": "@jupyter-widgets/base",
            "_model_module_version": "1.2.0",
            "_model_name": "LayoutModel",
            "_view_count": null,
            "_view_module": "@jupyter-widgets/base",
            "_view_module_version": "1.2.0",
            "_view_name": "LayoutView",
            "align_content": null,
            "align_items": null,
            "align_self": null,
            "border": null,
            "bottom": null,
            "display": null,
            "flex": null,
            "flex_flow": null,
            "grid_area": null,
            "grid_auto_columns": null,
            "grid_auto_flow": null,
            "grid_auto_rows": null,
            "grid_column": null,
            "grid_gap": null,
            "grid_row": null,
            "grid_template_areas": null,
            "grid_template_columns": null,
            "grid_template_rows": null,
            "height": null,
            "justify_content": null,
            "justify_items": null,
            "left": null,
            "margin": null,
            "max_height": null,
            "max_width": null,
            "min_height": null,
            "min_width": null,
            "object_fit": null,
            "object_position": null,
            "order": null,
            "overflow": null,
            "overflow_x": null,
            "overflow_y": null,
            "padding": null,
            "right": null,
            "top": null,
            "visibility": null,
            "width": null
          }
        },
        "9f726ba6623142759192c30761856e4a": {
          "model_module": "@jupyter-widgets/controls",
          "model_name": "DescriptionStyleModel",
          "model_module_version": "1.5.0",
          "state": {
            "_model_module": "@jupyter-widgets/controls",
            "_model_module_version": "1.5.0",
            "_model_name": "DescriptionStyleModel",
            "_view_count": null,
            "_view_module": "@jupyter-widgets/base",
            "_view_module_version": "1.2.0",
            "_view_name": "StyleView",
            "description_width": ""
          }
        },
        "4491e1da00a44f0bbd44583a32e64692": {
          "model_module": "@jupyter-widgets/controls",
          "model_name": "HBoxModel",
          "model_module_version": "1.5.0",
          "state": {
            "_dom_classes": [],
            "_model_module": "@jupyter-widgets/controls",
            "_model_module_version": "1.5.0",
            "_model_name": "HBoxModel",
            "_view_count": null,
            "_view_module": "@jupyter-widgets/controls",
            "_view_module_version": "1.5.0",
            "_view_name": "HBoxView",
            "box_style": "",
            "children": [
              "IPY_MODEL_843c1d28d74c454da32b1f877f64b90f",
              "IPY_MODEL_6424b1e21b0d4f80b773b0909d1ab720",
              "IPY_MODEL_56786f506551408d8ff0e1fef6ec01fa"
            ],
            "layout": "IPY_MODEL_049c6fb307694faca96021112b4a789d"
          }
        },
        "843c1d28d74c454da32b1f877f64b90f": {
          "model_module": "@jupyter-widgets/controls",
          "model_name": "HTMLModel",
          "model_module_version": "1.5.0",
          "state": {
            "_dom_classes": [],
            "_model_module": "@jupyter-widgets/controls",
            "_model_module_version": "1.5.0",
            "_model_name": "HTMLModel",
            "_view_count": null,
            "_view_module": "@jupyter-widgets/controls",
            "_view_module_version": "1.5.0",
            "_view_name": "HTMLView",
            "description": "",
            "description_tooltip": null,
            "layout": "IPY_MODEL_8fbeba608ee04a5bb8af8f788c41c280",
            "placeholder": "​",
            "style": "IPY_MODEL_14a9721c11f14b9fb4a7a449ee171488",
            "value": "Generating train split: 100%"
          }
        },
        "6424b1e21b0d4f80b773b0909d1ab720": {
          "model_module": "@jupyter-widgets/controls",
          "model_name": "FloatProgressModel",
          "model_module_version": "1.5.0",
          "state": {
            "_dom_classes": [],
            "_model_module": "@jupyter-widgets/controls",
            "_model_module_version": "1.5.0",
            "_model_name": "FloatProgressModel",
            "_view_count": null,
            "_view_module": "@jupyter-widgets/controls",
            "_view_module_version": "1.5.0",
            "_view_name": "ProgressView",
            "bar_style": "success",
            "description": "",
            "description_tooltip": null,
            "layout": "IPY_MODEL_43de53a72f9a4ee0b762608a9086d11a",
            "max": 10178,
            "min": 0,
            "orientation": "horizontal",
            "style": "IPY_MODEL_8a085aebfb2e4f728249e5bcb68d9e54",
            "value": 10178
          }
        },
        "56786f506551408d8ff0e1fef6ec01fa": {
          "model_module": "@jupyter-widgets/controls",
          "model_name": "HTMLModel",
          "model_module_version": "1.5.0",
          "state": {
            "_dom_classes": [],
            "_model_module": "@jupyter-widgets/controls",
            "_model_module_version": "1.5.0",
            "_model_name": "HTMLModel",
            "_view_count": null,
            "_view_module": "@jupyter-widgets/controls",
            "_view_module_version": "1.5.0",
            "_view_name": "HTMLView",
            "description": "",
            "description_tooltip": null,
            "layout": "IPY_MODEL_820e7b478b304280a9e1d7412e180c30",
            "placeholder": "​",
            "style": "IPY_MODEL_330a643170174fba90d6bf587789df8d",
            "value": " 10178/10178 [00:00&lt;00:00, 120884.47 examples/s]"
          }
        },
        "049c6fb307694faca96021112b4a789d": {
          "model_module": "@jupyter-widgets/base",
          "model_name": "LayoutModel",
          "model_module_version": "1.2.0",
          "state": {
            "_model_module": "@jupyter-widgets/base",
            "_model_module_version": "1.2.0",
            "_model_name": "LayoutModel",
            "_view_count": null,
            "_view_module": "@jupyter-widgets/base",
            "_view_module_version": "1.2.0",
            "_view_name": "LayoutView",
            "align_content": null,
            "align_items": null,
            "align_self": null,
            "border": null,
            "bottom": null,
            "display": null,
            "flex": null,
            "flex_flow": null,
            "grid_area": null,
            "grid_auto_columns": null,
            "grid_auto_flow": null,
            "grid_auto_rows": null,
            "grid_column": null,
            "grid_gap": null,
            "grid_row": null,
            "grid_template_areas": null,
            "grid_template_columns": null,
            "grid_template_rows": null,
            "height": null,
            "justify_content": null,
            "justify_items": null,
            "left": null,
            "margin": null,
            "max_height": null,
            "max_width": null,
            "min_height": null,
            "min_width": null,
            "object_fit": null,
            "object_position": null,
            "order": null,
            "overflow": null,
            "overflow_x": null,
            "overflow_y": null,
            "padding": null,
            "right": null,
            "top": null,
            "visibility": null,
            "width": null
          }
        },
        "8fbeba608ee04a5bb8af8f788c41c280": {
          "model_module": "@jupyter-widgets/base",
          "model_name": "LayoutModel",
          "model_module_version": "1.2.0",
          "state": {
            "_model_module": "@jupyter-widgets/base",
            "_model_module_version": "1.2.0",
            "_model_name": "LayoutModel",
            "_view_count": null,
            "_view_module": "@jupyter-widgets/base",
            "_view_module_version": "1.2.0",
            "_view_name": "LayoutView",
            "align_content": null,
            "align_items": null,
            "align_self": null,
            "border": null,
            "bottom": null,
            "display": null,
            "flex": null,
            "flex_flow": null,
            "grid_area": null,
            "grid_auto_columns": null,
            "grid_auto_flow": null,
            "grid_auto_rows": null,
            "grid_column": null,
            "grid_gap": null,
            "grid_row": null,
            "grid_template_areas": null,
            "grid_template_columns": null,
            "grid_template_rows": null,
            "height": null,
            "justify_content": null,
            "justify_items": null,
            "left": null,
            "margin": null,
            "max_height": null,
            "max_width": null,
            "min_height": null,
            "min_width": null,
            "object_fit": null,
            "object_position": null,
            "order": null,
            "overflow": null,
            "overflow_x": null,
            "overflow_y": null,
            "padding": null,
            "right": null,
            "top": null,
            "visibility": null,
            "width": null
          }
        },
        "14a9721c11f14b9fb4a7a449ee171488": {
          "model_module": "@jupyter-widgets/controls",
          "model_name": "DescriptionStyleModel",
          "model_module_version": "1.5.0",
          "state": {
            "_model_module": "@jupyter-widgets/controls",
            "_model_module_version": "1.5.0",
            "_model_name": "DescriptionStyleModel",
            "_view_count": null,
            "_view_module": "@jupyter-widgets/base",
            "_view_module_version": "1.2.0",
            "_view_name": "StyleView",
            "description_width": ""
          }
        },
        "43de53a72f9a4ee0b762608a9086d11a": {
          "model_module": "@jupyter-widgets/base",
          "model_name": "LayoutModel",
          "model_module_version": "1.2.0",
          "state": {
            "_model_module": "@jupyter-widgets/base",
            "_model_module_version": "1.2.0",
            "_model_name": "LayoutModel",
            "_view_count": null,
            "_view_module": "@jupyter-widgets/base",
            "_view_module_version": "1.2.0",
            "_view_name": "LayoutView",
            "align_content": null,
            "align_items": null,
            "align_self": null,
            "border": null,
            "bottom": null,
            "display": null,
            "flex": null,
            "flex_flow": null,
            "grid_area": null,
            "grid_auto_columns": null,
            "grid_auto_flow": null,
            "grid_auto_rows": null,
            "grid_column": null,
            "grid_gap": null,
            "grid_row": null,
            "grid_template_areas": null,
            "grid_template_columns": null,
            "grid_template_rows": null,
            "height": null,
            "justify_content": null,
            "justify_items": null,
            "left": null,
            "margin": null,
            "max_height": null,
            "max_width": null,
            "min_height": null,
            "min_width": null,
            "object_fit": null,
            "object_position": null,
            "order": null,
            "overflow": null,
            "overflow_x": null,
            "overflow_y": null,
            "padding": null,
            "right": null,
            "top": null,
            "visibility": null,
            "width": null
          }
        },
        "8a085aebfb2e4f728249e5bcb68d9e54": {
          "model_module": "@jupyter-widgets/controls",
          "model_name": "ProgressStyleModel",
          "model_module_version": "1.5.0",
          "state": {
            "_model_module": "@jupyter-widgets/controls",
            "_model_module_version": "1.5.0",
            "_model_name": "ProgressStyleModel",
            "_view_count": null,
            "_view_module": "@jupyter-widgets/base",
            "_view_module_version": "1.2.0",
            "_view_name": "StyleView",
            "bar_color": null,
            "description_width": ""
          }
        },
        "820e7b478b304280a9e1d7412e180c30": {
          "model_module": "@jupyter-widgets/base",
          "model_name": "LayoutModel",
          "model_module_version": "1.2.0",
          "state": {
            "_model_module": "@jupyter-widgets/base",
            "_model_module_version": "1.2.0",
            "_model_name": "LayoutModel",
            "_view_count": null,
            "_view_module": "@jupyter-widgets/base",
            "_view_module_version": "1.2.0",
            "_view_name": "LayoutView",
            "align_content": null,
            "align_items": null,
            "align_self": null,
            "border": null,
            "bottom": null,
            "display": null,
            "flex": null,
            "flex_flow": null,
            "grid_area": null,
            "grid_auto_columns": null,
            "grid_auto_flow": null,
            "grid_auto_rows": null,
            "grid_column": null,
            "grid_gap": null,
            "grid_row": null,
            "grid_template_areas": null,
            "grid_template_columns": null,
            "grid_template_rows": null,
            "height": null,
            "justify_content": null,
            "justify_items": null,
            "left": null,
            "margin": null,
            "max_height": null,
            "max_width": null,
            "min_height": null,
            "min_width": null,
            "object_fit": null,
            "object_position": null,
            "order": null,
            "overflow": null,
            "overflow_x": null,
            "overflow_y": null,
            "padding": null,
            "right": null,
            "top": null,
            "visibility": null,
            "width": null
          }
        },
        "330a643170174fba90d6bf587789df8d": {
          "model_module": "@jupyter-widgets/controls",
          "model_name": "DescriptionStyleModel",
          "model_module_version": "1.5.0",
          "state": {
            "_model_module": "@jupyter-widgets/controls",
            "_model_module_version": "1.5.0",
            "_model_name": "DescriptionStyleModel",
            "_view_count": null,
            "_view_module": "@jupyter-widgets/base",
            "_view_module_version": "1.2.0",
            "_view_name": "StyleView",
            "description_width": ""
          }
        },
        "9b89778215db47699a6deadb3fd2ad50": {
          "model_module": "@jupyter-widgets/controls",
          "model_name": "HBoxModel",
          "model_module_version": "1.5.0",
          "state": {
            "_dom_classes": [],
            "_model_module": "@jupyter-widgets/controls",
            "_model_module_version": "1.5.0",
            "_model_name": "HBoxModel",
            "_view_count": null,
            "_view_module": "@jupyter-widgets/controls",
            "_view_module_version": "1.5.0",
            "_view_name": "HBoxView",
            "box_style": "",
            "children": [
              "IPY_MODEL_7c881e8adaed4b428bf5e3ab01e8a529",
              "IPY_MODEL_d21654c0a9374daa9732e040146fd298",
              "IPY_MODEL_d087bed954e8436a97859c0e7fcf21cd"
            ],
            "layout": "IPY_MODEL_6097e49c23404df8a601fc41775556e8"
          }
        },
        "7c881e8adaed4b428bf5e3ab01e8a529": {
          "model_module": "@jupyter-widgets/controls",
          "model_name": "HTMLModel",
          "model_module_version": "1.5.0",
          "state": {
            "_dom_classes": [],
            "_model_module": "@jupyter-widgets/controls",
            "_model_module_version": "1.5.0",
            "_model_name": "HTMLModel",
            "_view_count": null,
            "_view_module": "@jupyter-widgets/controls",
            "_view_module_version": "1.5.0",
            "_view_name": "HTMLView",
            "description": "",
            "description_tooltip": null,
            "layout": "IPY_MODEL_c8d3d48997f44847bd6d5d983dd8b193",
            "placeholder": "​",
            "style": "IPY_MODEL_fac582af29804552a00cad6ac921a11e",
            "value": "Generating test split: 100%"
          }
        },
        "d21654c0a9374daa9732e040146fd298": {
          "model_module": "@jupyter-widgets/controls",
          "model_name": "FloatProgressModel",
          "model_module_version": "1.5.0",
          "state": {
            "_dom_classes": [],
            "_model_module": "@jupyter-widgets/controls",
            "_model_module_version": "1.5.0",
            "_model_name": "FloatProgressModel",
            "_view_count": null,
            "_view_module": "@jupyter-widgets/controls",
            "_view_module_version": "1.5.0",
            "_view_name": "ProgressView",
            "bar_style": "success",
            "description": "",
            "description_tooltip": null,
            "layout": "IPY_MODEL_5873daf696f54b89bbd0a27f40c16e0f",
            "max": 1273,
            "min": 0,
            "orientation": "horizontal",
            "style": "IPY_MODEL_edc38749fde6405c9c090bddf5332054",
            "value": 1273
          }
        },
        "d087bed954e8436a97859c0e7fcf21cd": {
          "model_module": "@jupyter-widgets/controls",
          "model_name": "HTMLModel",
          "model_module_version": "1.5.0",
          "state": {
            "_dom_classes": [],
            "_model_module": "@jupyter-widgets/controls",
            "_model_module_version": "1.5.0",
            "_model_name": "HTMLModel",
            "_view_count": null,
            "_view_module": "@jupyter-widgets/controls",
            "_view_module_version": "1.5.0",
            "_view_name": "HTMLView",
            "description": "",
            "description_tooltip": null,
            "layout": "IPY_MODEL_4e2d5d7324354b4fa481fac202895737",
            "placeholder": "​",
            "style": "IPY_MODEL_9c32b4de8274415a95bdafb4635fe3c8",
            "value": " 1273/1273 [00:00&lt;00:00, 69137.48 examples/s]"
          }
        },
        "6097e49c23404df8a601fc41775556e8": {
          "model_module": "@jupyter-widgets/base",
          "model_name": "LayoutModel",
          "model_module_version": "1.2.0",
          "state": {
            "_model_module": "@jupyter-widgets/base",
            "_model_module_version": "1.2.0",
            "_model_name": "LayoutModel",
            "_view_count": null,
            "_view_module": "@jupyter-widgets/base",
            "_view_module_version": "1.2.0",
            "_view_name": "LayoutView",
            "align_content": null,
            "align_items": null,
            "align_self": null,
            "border": null,
            "bottom": null,
            "display": null,
            "flex": null,
            "flex_flow": null,
            "grid_area": null,
            "grid_auto_columns": null,
            "grid_auto_flow": null,
            "grid_auto_rows": null,
            "grid_column": null,
            "grid_gap": null,
            "grid_row": null,
            "grid_template_areas": null,
            "grid_template_columns": null,
            "grid_template_rows": null,
            "height": null,
            "justify_content": null,
            "justify_items": null,
            "left": null,
            "margin": null,
            "max_height": null,
            "max_width": null,
            "min_height": null,
            "min_width": null,
            "object_fit": null,
            "object_position": null,
            "order": null,
            "overflow": null,
            "overflow_x": null,
            "overflow_y": null,
            "padding": null,
            "right": null,
            "top": null,
            "visibility": null,
            "width": null
          }
        },
        "c8d3d48997f44847bd6d5d983dd8b193": {
          "model_module": "@jupyter-widgets/base",
          "model_name": "LayoutModel",
          "model_module_version": "1.2.0",
          "state": {
            "_model_module": "@jupyter-widgets/base",
            "_model_module_version": "1.2.0",
            "_model_name": "LayoutModel",
            "_view_count": null,
            "_view_module": "@jupyter-widgets/base",
            "_view_module_version": "1.2.0",
            "_view_name": "LayoutView",
            "align_content": null,
            "align_items": null,
            "align_self": null,
            "border": null,
            "bottom": null,
            "display": null,
            "flex": null,
            "flex_flow": null,
            "grid_area": null,
            "grid_auto_columns": null,
            "grid_auto_flow": null,
            "grid_auto_rows": null,
            "grid_column": null,
            "grid_gap": null,
            "grid_row": null,
            "grid_template_areas": null,
            "grid_template_columns": null,
            "grid_template_rows": null,
            "height": null,
            "justify_content": null,
            "justify_items": null,
            "left": null,
            "margin": null,
            "max_height": null,
            "max_width": null,
            "min_height": null,
            "min_width": null,
            "object_fit": null,
            "object_position": null,
            "order": null,
            "overflow": null,
            "overflow_x": null,
            "overflow_y": null,
            "padding": null,
            "right": null,
            "top": null,
            "visibility": null,
            "width": null
          }
        },
        "fac582af29804552a00cad6ac921a11e": {
          "model_module": "@jupyter-widgets/controls",
          "model_name": "DescriptionStyleModel",
          "model_module_version": "1.5.0",
          "state": {
            "_model_module": "@jupyter-widgets/controls",
            "_model_module_version": "1.5.0",
            "_model_name": "DescriptionStyleModel",
            "_view_count": null,
            "_view_module": "@jupyter-widgets/base",
            "_view_module_version": "1.2.0",
            "_view_name": "StyleView",
            "description_width": ""
          }
        },
        "5873daf696f54b89bbd0a27f40c16e0f": {
          "model_module": "@jupyter-widgets/base",
          "model_name": "LayoutModel",
          "model_module_version": "1.2.0",
          "state": {
            "_model_module": "@jupyter-widgets/base",
            "_model_module_version": "1.2.0",
            "_model_name": "LayoutModel",
            "_view_count": null,
            "_view_module": "@jupyter-widgets/base",
            "_view_module_version": "1.2.0",
            "_view_name": "LayoutView",
            "align_content": null,
            "align_items": null,
            "align_self": null,
            "border": null,
            "bottom": null,
            "display": null,
            "flex": null,
            "flex_flow": null,
            "grid_area": null,
            "grid_auto_columns": null,
            "grid_auto_flow": null,
            "grid_auto_rows": null,
            "grid_column": null,
            "grid_gap": null,
            "grid_row": null,
            "grid_template_areas": null,
            "grid_template_columns": null,
            "grid_template_rows": null,
            "height": null,
            "justify_content": null,
            "justify_items": null,
            "left": null,
            "margin": null,
            "max_height": null,
            "max_width": null,
            "min_height": null,
            "min_width": null,
            "object_fit": null,
            "object_position": null,
            "order": null,
            "overflow": null,
            "overflow_x": null,
            "overflow_y": null,
            "padding": null,
            "right": null,
            "top": null,
            "visibility": null,
            "width": null
          }
        },
        "edc38749fde6405c9c090bddf5332054": {
          "model_module": "@jupyter-widgets/controls",
          "model_name": "ProgressStyleModel",
          "model_module_version": "1.5.0",
          "state": {
            "_model_module": "@jupyter-widgets/controls",
            "_model_module_version": "1.5.0",
            "_model_name": "ProgressStyleModel",
            "_view_count": null,
            "_view_module": "@jupyter-widgets/base",
            "_view_module_version": "1.2.0",
            "_view_name": "StyleView",
            "bar_color": null,
            "description_width": ""
          }
        },
        "4e2d5d7324354b4fa481fac202895737": {
          "model_module": "@jupyter-widgets/base",
          "model_name": "LayoutModel",
          "model_module_version": "1.2.0",
          "state": {
            "_model_module": "@jupyter-widgets/base",
            "_model_module_version": "1.2.0",
            "_model_name": "LayoutModel",
            "_view_count": null,
            "_view_module": "@jupyter-widgets/base",
            "_view_module_version": "1.2.0",
            "_view_name": "LayoutView",
            "align_content": null,
            "align_items": null,
            "align_self": null,
            "border": null,
            "bottom": null,
            "display": null,
            "flex": null,
            "flex_flow": null,
            "grid_area": null,
            "grid_auto_columns": null,
            "grid_auto_flow": null,
            "grid_auto_rows": null,
            "grid_column": null,
            "grid_gap": null,
            "grid_row": null,
            "grid_template_areas": null,
            "grid_template_columns": null,
            "grid_template_rows": null,
            "height": null,
            "justify_content": null,
            "justify_items": null,
            "left": null,
            "margin": null,
            "max_height": null,
            "max_width": null,
            "min_height": null,
            "min_width": null,
            "object_fit": null,
            "object_position": null,
            "order": null,
            "overflow": null,
            "overflow_x": null,
            "overflow_y": null,
            "padding": null,
            "right": null,
            "top": null,
            "visibility": null,
            "width": null
          }
        },
        "9c32b4de8274415a95bdafb4635fe3c8": {
          "model_module": "@jupyter-widgets/controls",
          "model_name": "DescriptionStyleModel",
          "model_module_version": "1.5.0",
          "state": {
            "_model_module": "@jupyter-widgets/controls",
            "_model_module_version": "1.5.0",
            "_model_name": "DescriptionStyleModel",
            "_view_count": null,
            "_view_module": "@jupyter-widgets/base",
            "_view_module_version": "1.2.0",
            "_view_name": "StyleView",
            "description_width": ""
          }
        }
      }
    }
  },
  "cells": [
    {
      "cell_type": "code",
      "execution_count": 1,
      "metadata": {
        "colab": {
          "base_uri": "https://localhost:8080/",
          "height": 946,
          "referenced_widgets": [
            "bf6f8064c5f1407fa098f1f448012d3e",
            "ba2522b38faf4150a48712b6238f41e1",
            "b1413597b0c849a79b53326031f185e7",
            "f568bd4374804dbfb490ddefffcdabbb",
            "8e255b95649a4ece96f95cefe282af0b",
            "a65824c81e7546b185edf0db96b7b6a0",
            "b6ce264a8e68458f98df4530b08cfce0",
            "e9f0b6623e6c42c2909623a0fdf28e2d",
            "3333d290fe3a44d2a43c5d2bfa63794a",
            "1ebcaf9a91324db2bd490fcc0838f775",
            "60a4055586f4449cba39002bd269d193",
            "ee2a3a865695483b8698c1a014714644",
            "96e53f8045ff48539855bc11a93b23e9",
            "41ed0c0f0ced43c786171e1f974ae402",
            "58c3297a938e486a844184c0d8a42c2c",
            "59cb36213463491badfd3c7180223a9d",
            "b81daaaa85c74830a9cc7f8eb5269540",
            "512f2f6f808c41cbb341cdda1f21f1db",
            "c834497cf00549b9922b1a9c7fbd913b",
            "8cbc4f6751164bff975cf12d1d3e334c",
            "4e8b62f1d344484ea560831422fcf0eb",
            "1c65e4f1e1984583bc9ddb521f1f621d",
            "db729e8085dd401cb5aac7d2c980b33b",
            "7175f456f95e4102b72591b678754127",
            "f0176fe088834a7880caedaef4ab465f",
            "221ca82fb6bc46399265887410abeb28",
            "9c85e9e15b4140bc877b9a21a6ae243b",
            "9b361179542f45048ea640b3745f9b4e",
            "d3ddcbdaa5e5492692e71094a233629e",
            "bb14e3a3ece242dd882e5f480ada1703",
            "c305ee0d4bab4810a61d89ee3d4ef069",
            "29df58bf531c4fa8af7c21087d5d72fe",
            "0d853b026d344369b889be4551d028f4",
            "3d72ced024a34406a2771b271c489618",
            "a2fe8c91ef974e45bdb61e54ef0b6ace",
            "dc2dc455cb414c698ec4a74a36821505",
            "0efa5c886cdb4c13bf70ba309da67a58",
            "045740169d884398bd2213f0d5ce6f82",
            "0d477d7ea1594959bbe7bca5fd9ea37a",
            "8adae5d2be704b8994002aae0be846f1",
            "83e35806bd6f48a48480317103c6edee",
            "c3432506a8654274b91ffb7151eb7d2b",
            "9d56f751e32b4d9c961103ef5bd1a67c",
            "fe8674d8381045e4836c48cacc1e8a75",
            "98f158fb853d45ac9ee9f1ad6c1c6883",
            "8b3d741628774789b44452136509339f",
            "c3309c1df8e94c5bb7ca095d69b073df",
            "63b5f31a7b304834ab0a603ea01fdb59",
            "f9ca6010a1dc4b12b3f9e30ba51246d9",
            "2a644b7c21c64f98b0d6c6e6fbaab01c",
            "8cc0d068f8d84dd0b40cdfb501834f97",
            "6086bb1c95744c53b00d5977fc81c80d",
            "ee16826fed9d4e37854f540c28811dde",
            "a47364775d9443c5a3e84b76bef3edbf",
            "0db232962ffd46a68b5f3dfa90f04100",
            "0ff12b20a55541279110a2fcd4c17fcf",
            "ad3b5045ba4d42eab9ffebbee79fc3ad",
            "7fafbd46b3b243a5a7418cfe9dedae03",
            "ec8146e89c9f4c9baa6874d1c65d6761",
            "28f4167be77144569783adae60f463ca",
            "11d3b9f1512c41cea8dc11d66fb19bfc",
            "9a9ceecdbd3648d3a88b642d389b937a",
            "678d852086274029b3880bd216313df8",
            "fbae88ec53b8494f8de12a56a9230903",
            "a54124479e1a41b58b372c71cb82b8ca",
            "9f8eab11b9d845af93d6c822001f2d11",
            "b6b20ca9287444849a5ad1dad521904f",
            "0d25fc1c4c2a4f6e813e25be3b33a6a7",
            "dd84b1c6a7b84a458826dacc67145291",
            "4fd94459bc344b6d91b48579a731f772",
            "8b08b369593c42759acc0ea5e8c35355",
            "02230f987c14415eb717138bd5c5ce16",
            "5ca09b0a26264c4b853c4ab60a27c6aa",
            "e02b939aa730470ea15a50424bae527f",
            "e00abe728fda4f9794c26c91d3ce1310",
            "6adc8cb6c0aa4d81ac4997c720854150",
            "b1647b3e0c4f4674b1f73daf15cb91a2",
            "9644b95f1ab8467ab2f9582b77b97465",
            "08f60fa8f87f4353bafa715355be2ec2",
            "da151f1d33c546739ff1e0c62ea9b694",
            "812be1e5d14d42ef99955e2bcdaf46b8",
            "4ad7be9960344bef84edecfd59443ebe",
            "fc6d875fb0054306ba49115453a06eb1",
            "6ea934420967498aaa16526da2a355c9",
            "dd537d6fccff41b69cbd6750a21ef5cc",
            "48aa6393aca447e7a18db98662e23e6f",
            "59d02eb01d69463f932df6bf6940b009",
            "08052605555646ac9971a3ef19e1fd4b",
            "c7d66c54f0774d60910217924c082413",
            "5aab5e1a2d2243e383e47e09118f2332",
            "6dfd10e1e95f419f9181a82119aa9c10",
            "69dbd48345e34ed98a37c77a8162f871",
            "76c4abb275734dff9e565cfeebb0a71d",
            "17443a95123f430b83b4b1f4453e8ec9",
            "2d98cb4f95f0420d99e90ce9b4119dd0",
            "67d0f0c4bfba48618ea62f296cf0b5be",
            "8153349b435e4e9e8271a1435f55b1a5",
            "a2044987070c4bdeae3ed6b3b3850366",
            "7932fddb5a4e4baf953fb99a7688f5b5",
            "9601407f0b1546a0ade2b2944195d1df",
            "ada588d8e95c4c5686f2c3fe6020268d",
            "309d6ea5133d4977bb55adfca9278e27",
            "88ddb8d2a590460080310c816a4aa4bf",
            "e740b17fbf964cbab54c38230ea355a6",
            "08def2b56e8843159757153e63188701",
            "d3f80e3c8c594f5fb6e23f653deeb3af",
            "6248d724958c44a2958e846cff46ae6d",
            "869ef4f670d14c9aafc9b08b1a65a055",
            "cacbb06ed2ed4ac29b94c3df513cfd8c",
            "2aa68ad5cb5d48a795e13ac2e8f4f725",
            "c89c93fffdea4904a3dc533c1f829ceb",
            "5ed3f74dbfe143a18e702f462f76edc8",
            "60534ef12732459a8ef88bf2c25c4afa",
            "f43c48803038442bbc4ad7883c4f64bc",
            "3e3f73f009d04215a013324cca8e4e13",
            "9d6586b2dec14d7eb2636df68d0d55da",
            "97958878879b4603955cc7e102378dd4",
            "d3b108b3dec84e529cb835814f855ccd",
            "be7afb31eec946cab4f833ae0cec9bb1",
            "0256a5e062374b379b05118090d277a8",
            "aa91a89d795341c2a335f6be3addfc24",
            "c21a22bc87ee4597a39dd6c6330fa735",
            "41a92ae8c8904a84b349055f118efe1a",
            "406cc7158fcb4f3588df46274cfdf010",
            "a5d9a644cad94b2b97cf1be2c4a62bce",
            "0e6d3c4d504e4a72b29c431d10e4b734",
            "cba357073ba348b3a834af299a81b792",
            "4649d9cdee9e458f8bcccadae87b16c1",
            "da0e7b0fd88f4cb8ab936f1c80fee3f2",
            "b7b9e38c786d4b8ab1f65c6c86fe65aa",
            "d762e2664f7e4d11af28475aee6f44e0",
            "1e58b3e496d24057b571aacf9d45cd78",
            "335d1d5bcd2c4038be448fac90aac9a7",
            "f2807d9f907d499f8d99682c1b7c17be",
            "abfcae128f8d44109a96f69d7df8905f",
            "71aed79eb38b4a0da627485cc4439220",
            "7d70de531eaf4443b8ed7d68ef015bb4",
            "386bc21638184b4db1804eddd1cef640",
            "e1c689ffd0d34f0c8350508c180239fc",
            "0ff20e40e2234e44b5a7a50de7572b6c",
            "2b64c9fd98ca4c17b01d502d9db8a7e2",
            "d111b2fc24484b628cb02a7eafecdf08",
            "cda3b8cae29948a99cd76c3d2866a0e0",
            "3e820d22b1da4906bed0dce808c36cd0",
            "718c6e79cf2d42cc8ccf3c653b9e619f",
            "3754897666a04e528e02ea2d147f77a9",
            "08d33d4957184ae0ac813d0b6aa244ba",
            "8a84426884224262b6b75772ec9ab74e",
            "80b5033c834348a8aaff418e0256ef39",
            "3ad20432637c48548bd76a93b3c66750",
            "6d4566dfadef4fbfbb0e07d8b5b2d09e",
            "49ed27121c5643a0abfa660b8d821467",
            "1e2721073cf94f4b8127ff760f68f77e",
            "0757321a7bb24feaa65593440dcd04d7",
            "5caef36b61c644d0ba762c6535059e04",
            "90db98147fdf427fa253afd4ef782efd",
            "73dbd1b7f9bd4940a1e4845e131c9e8d",
            "a9e2fa6023254cac9700541f655dd3f8",
            "bb79f261d74540fd8d74387b83712cf9",
            "446c49f1649940a39ebdf51d42a1695b",
            "ae5d743dd8a04c3599fa15be57ecb3a7",
            "d85629f48b8f4f089fee80a41116cbe1",
            "dee0ac0ee5ad4c3687786aa420fb4b04",
            "d0f298a8b8894bd4b8312481419729c4",
            "9f726ba6623142759192c30761856e4a",
            "4491e1da00a44f0bbd44583a32e64692",
            "843c1d28d74c454da32b1f877f64b90f",
            "6424b1e21b0d4f80b773b0909d1ab720",
            "56786f506551408d8ff0e1fef6ec01fa",
            "049c6fb307694faca96021112b4a789d",
            "8fbeba608ee04a5bb8af8f788c41c280",
            "14a9721c11f14b9fb4a7a449ee171488",
            "43de53a72f9a4ee0b762608a9086d11a",
            "8a085aebfb2e4f728249e5bcb68d9e54",
            "820e7b478b304280a9e1d7412e180c30",
            "330a643170174fba90d6bf587789df8d",
            "9b89778215db47699a6deadb3fd2ad50",
            "7c881e8adaed4b428bf5e3ab01e8a529",
            "d21654c0a9374daa9732e040146fd298",
            "d087bed954e8436a97859c0e7fcf21cd",
            "6097e49c23404df8a601fc41775556e8",
            "c8d3d48997f44847bd6d5d983dd8b193",
            "fac582af29804552a00cad6ac921a11e",
            "5873daf696f54b89bbd0a27f40c16e0f",
            "edc38749fde6405c9c090bddf5332054",
            "4e2d5d7324354b4fa481fac202895737",
            "9c32b4de8274415a95bdafb4635fe3c8"
          ]
        },
        "collapsed": true,
        "id": "1U9zzZjWvnnc",
        "outputId": "bc46a7bb-caa7-4eae-a214-9664b08727f8"
      },
      "outputs": [
        {
          "output_type": "stream",
          "name": "stdout",
          "text": [
            "\u001b[2K     \u001b[90m━━━━━━━━━━━━━━━━━━━━━━━━━━━━━━━━━━━━━━━━\u001b[0m \u001b[32m61.7/61.7 kB\u001b[0m \u001b[31m2.5 MB/s\u001b[0m eta \u001b[36m0:00:00\u001b[0m\n",
            "\u001b[2K   \u001b[90m━━━━━━━━━━━━━━━━━━━━━━━━━━━━━━━━━━━━━━━━\u001b[0m \u001b[32m471.6/471.6 kB\u001b[0m \u001b[31m14.4 MB/s\u001b[0m eta \u001b[36m0:00:00\u001b[0m\n",
            "\u001b[2K   \u001b[90m━━━━━━━━━━━━━━━━━━━━━━━━━━━━━━━━━━━━━━━━\u001b[0m \u001b[32m116.3/116.3 kB\u001b[0m \u001b[31m10.2 MB/s\u001b[0m eta \u001b[36m0:00:00\u001b[0m\n",
            "\u001b[2K   \u001b[90m━━━━━━━━━━━━━━━━━━━━━━━━━━━━━━━━━━━━━━━━\u001b[0m \u001b[32m177.6/177.6 kB\u001b[0m \u001b[31m15.4 MB/s\u001b[0m eta \u001b[36m0:00:00\u001b[0m\n",
            "\u001b[2K   \u001b[90m━━━━━━━━━━━━━━━━━━━━━━━━━━━━━━━━━━━━━━━━\u001b[0m \u001b[32m1.2/1.2 MB\u001b[0m \u001b[31m43.9 MB/s\u001b[0m eta \u001b[36m0:00:00\u001b[0m\n",
            "\u001b[2K   \u001b[90m━━━━━━━━━━━━━━━━━━━━━━━━━━━━━━━━━━━━━━━━\u001b[0m \u001b[32m134.8/134.8 kB\u001b[0m \u001b[31m11.7 MB/s\u001b[0m eta \u001b[36m0:00:00\u001b[0m\n",
            "\u001b[2K   \u001b[90m━━━━━━━━━━━━━━━━━━━━━━━━━━━━━━━━━━━━━━━━\u001b[0m \u001b[32m194.1/194.1 kB\u001b[0m \u001b[31m16.0 MB/s\u001b[0m eta \u001b[36m0:00:00\u001b[0m\n",
            "\u001b[2K   \u001b[90m━━━━━━━━━━━━━━━━━━━━━━━━━━━━━━━━━━━━━━━━\u001b[0m \u001b[32m239.5/239.5 kB\u001b[0m \u001b[31m20.2 MB/s\u001b[0m eta \u001b[36m0:00:00\u001b[0m\n",
            "\u001b[2K   \u001b[90m━━━━━━━━━━━━━━━━━━━━━━━━━━━━━━━━━━━━━━━━\u001b[0m \u001b[32m124.6/124.6 kB\u001b[0m \u001b[31m11.1 MB/s\u001b[0m eta \u001b[36m0:00:00\u001b[0m\n",
            "\u001b[2K   \u001b[90m━━━━━━━━━━━━━━━━━━━━━━━━━━━━━━━━━━━━━━━━\u001b[0m \u001b[32m314.5/314.5 kB\u001b[0m \u001b[31m23.9 MB/s\u001b[0m eta \u001b[36m0:00:00\u001b[0m\n",
            "\u001b[2K   \u001b[90m━━━━━━━━━━━━━━━━━━━━━━━━━━━━━━━━━━━━━━━━\u001b[0m \u001b[32m208.9/208.9 kB\u001b[0m \u001b[31m16.5 MB/s\u001b[0m eta \u001b[36m0:00:00\u001b[0m\n",
            "\u001b[?25hUsing device: cpu\n"
          ]
        },
        {
          "output_type": "stream",
          "name": "stderr",
          "text": [
            "/usr/local/lib/python3.10/dist-packages/huggingface_hub/utils/_token.py:89: UserWarning: \n",
            "The secret `HF_TOKEN` does not exist in your Colab secrets.\n",
            "To authenticate with the Hugging Face Hub, create a token in your settings tab (https://huggingface.co/settings/tokens), set it as secret in your Google Colab and restart your session.\n",
            "You will be able to reuse this secret in all of your notebooks.\n",
            "Please note that authentication is recommended but still optional to access public models or datasets.\n",
            "  warnings.warn(\n"
          ]
        },
        {
          "output_type": "display_data",
          "data": {
            "text/plain": [
              "config.json:   0%|          | 0.00/3.45k [00:00<?, ?B/s]"
            ],
            "application/vnd.jupyter.widget-view+json": {
              "version_major": 2,
              "version_minor": 0,
              "model_id": "bf6f8064c5f1407fa098f1f448012d3e"
            }
          },
          "metadata": {}
        },
        {
          "output_type": "stream",
          "name": "stderr",
          "text": [
            "/usr/local/lib/python3.10/dist-packages/torch_xla/__init__.py:202: UserWarning: `tensorflow` can conflict with `torch-xla`. Prefer `tensorflow-cpu` when using PyTorch/XLA. To silence this warning, `pip uninstall -y tensorflow && pip install tensorflow-cpu`. If you are in a notebook environment such as Colab or Kaggle, restart your notebook runtime afterwards.\n",
            "  warnings.warn(\n"
          ]
        },
        {
          "output_type": "display_data",
          "data": {
            "text/plain": [
              "model.safetensors.index.json:   0%|          | 0.00/16.3k [00:00<?, ?B/s]"
            ],
            "application/vnd.jupyter.widget-view+json": {
              "version_major": 2,
              "version_minor": 0,
              "model_id": "ee2a3a865695483b8698c1a014714644"
            }
          },
          "metadata": {}
        },
        {
          "output_type": "display_data",
          "data": {
            "text/plain": [
              "Downloading shards:   0%|          | 0/2 [00:00<?, ?it/s]"
            ],
            "application/vnd.jupyter.widget-view+json": {
              "version_major": 2,
              "version_minor": 0,
              "model_id": "db729e8085dd401cb5aac7d2c980b33b"
            }
          },
          "metadata": {}
        },
        {
          "output_type": "display_data",
          "data": {
            "text/plain": [
              "model-00001-of-00002.safetensors:   0%|          | 0.00/4.97G [00:00<?, ?B/s]"
            ],
            "application/vnd.jupyter.widget-view+json": {
              "version_major": 2,
              "version_minor": 0,
              "model_id": "3d72ced024a34406a2771b271c489618"
            }
          },
          "metadata": {}
        },
        {
          "output_type": "display_data",
          "data": {
            "text/plain": [
              "model-00002-of-00002.safetensors:   0%|          | 0.00/2.67G [00:00<?, ?B/s]"
            ],
            "application/vnd.jupyter.widget-view+json": {
              "version_major": 2,
              "version_minor": 0,
              "model_id": "98f158fb853d45ac9ee9f1ad6c1c6883"
            }
          },
          "metadata": {}
        },
        {
          "output_type": "display_data",
          "data": {
            "text/plain": [
              "Loading checkpoint shards:   0%|          | 0/2 [00:00<?, ?it/s]"
            ],
            "application/vnd.jupyter.widget-view+json": {
              "version_major": 2,
              "version_minor": 0,
              "model_id": "0ff12b20a55541279110a2fcd4c17fcf"
            }
          },
          "metadata": {}
        },
        {
          "output_type": "display_data",
          "data": {
            "text/plain": [
              "generation_config.json:   0%|          | 0.00/195 [00:00<?, ?B/s]"
            ],
            "application/vnd.jupyter.widget-view+json": {
              "version_major": 2,
              "version_minor": 0,
              "model_id": "b6b20ca9287444849a5ad1dad521904f"
            }
          },
          "metadata": {}
        },
        {
          "output_type": "display_data",
          "data": {
            "text/plain": [
              "tokenizer_config.json:   0%|          | 0.00/3.98k [00:00<?, ?B/s]"
            ],
            "application/vnd.jupyter.widget-view+json": {
              "version_major": 2,
              "version_minor": 0,
              "model_id": "9644b95f1ab8467ab2f9582b77b97465"
            }
          },
          "metadata": {}
        },
        {
          "output_type": "display_data",
          "data": {
            "text/plain": [
              "tokenizer.model:   0%|          | 0.00/500k [00:00<?, ?B/s]"
            ],
            "application/vnd.jupyter.widget-view+json": {
              "version_major": 2,
              "version_minor": 0,
              "model_id": "c7d66c54f0774d60910217924c082413"
            }
          },
          "metadata": {}
        },
        {
          "output_type": "display_data",
          "data": {
            "text/plain": [
              "tokenizer.json:   0%|          | 0.00/1.84M [00:00<?, ?B/s]"
            ],
            "application/vnd.jupyter.widget-view+json": {
              "version_major": 2,
              "version_minor": 0,
              "model_id": "9601407f0b1546a0ade2b2944195d1df"
            }
          },
          "metadata": {}
        },
        {
          "output_type": "display_data",
          "data": {
            "text/plain": [
              "added_tokens.json:   0%|          | 0.00/306 [00:00<?, ?B/s]"
            ],
            "application/vnd.jupyter.widget-view+json": {
              "version_major": 2,
              "version_minor": 0,
              "model_id": "c89c93fffdea4904a3dc533c1f829ceb"
            }
          },
          "metadata": {}
        },
        {
          "output_type": "display_data",
          "data": {
            "text/plain": [
              "special_tokens_map.json:   0%|          | 0.00/665 [00:00<?, ?B/s]"
            ],
            "application/vnd.jupyter.widget-view+json": {
              "version_major": 2,
              "version_minor": 0,
              "model_id": "c21a22bc87ee4597a39dd6c6330fa735"
            }
          },
          "metadata": {}
        },
        {
          "output_type": "display_data",
          "data": {
            "text/plain": [
              "README.md:   0%|          | 0.00/654 [00:00<?, ?B/s]"
            ],
            "application/vnd.jupyter.widget-view+json": {
              "version_major": 2,
              "version_minor": 0,
              "model_id": "335d1d5bcd2c4038be448fac90aac9a7"
            }
          },
          "metadata": {}
        },
        {
          "output_type": "display_data",
          "data": {
            "text/plain": [
              "phrases_no_exclude_train.jsonl:   0%|          | 0.00/16.2M [00:00<?, ?B/s]"
            ],
            "application/vnd.jupyter.widget-view+json": {
              "version_major": 2,
              "version_minor": 0,
              "model_id": "3e820d22b1da4906bed0dce808c36cd0"
            }
          },
          "metadata": {}
        },
        {
          "output_type": "display_data",
          "data": {
            "text/plain": [
              "phrases_no_exclude_test.jsonl:   0%|          | 0.00/2.08M [00:00<?, ?B/s]"
            ],
            "application/vnd.jupyter.widget-view+json": {
              "version_major": 2,
              "version_minor": 0,
              "model_id": "5caef36b61c644d0ba762c6535059e04"
            }
          },
          "metadata": {}
        },
        {
          "output_type": "display_data",
          "data": {
            "text/plain": [
              "Generating train split:   0%|          | 0/10178 [00:00<?, ? examples/s]"
            ],
            "application/vnd.jupyter.widget-view+json": {
              "version_major": 2,
              "version_minor": 0,
              "model_id": "4491e1da00a44f0bbd44583a32e64692"
            }
          },
          "metadata": {}
        },
        {
          "output_type": "display_data",
          "data": {
            "text/plain": [
              "Generating test split:   0%|          | 0/1273 [00:00<?, ? examples/s]"
            ],
            "application/vnd.jupyter.widget-view+json": {
              "version_major": 2,
              "version_minor": 0,
              "model_id": "9b89778215db47699a6deadb3fd2ad50"
            }
          },
          "metadata": {}
        }
      ],
      "source": [
        "# Install necessary libraries if not already installed\n",
        "!pip install -q transformers datasets tqdm\n",
        "\n",
        "# Import necessary libraries\n",
        "from transformers import AutoModelForCausalLM, AutoTokenizer\n",
        "from datasets import load_dataset\n",
        "import torch\n",
        "import re\n",
        "from tqdm import tqdm\n",
        "import random\n",
        "\n",
        "# Check if CUDA (GPU) is available, and set the device accordingly\n",
        "device = torch.device(\"cuda\" if torch.cuda.is_available() else \"cpu\")\n",
        "print(f\"Using device: {device}\")\n",
        "\n",
        "# Load the GPT-Neo model and tokenizer, and move the model to the device\n",
        "model_name = \"microsoft/Phi-3.5-mini-instruct\"\n",
        "model = AutoModelForCausalLM.from_pretrained(model_name).to(device)\n",
        "tokenizer = AutoTokenizer.from_pretrained(model_name)\n",
        "\n",
        "# Load the MedQA dataset with training and testing splits\n",
        "dataset = load_dataset(\"GBaker/MedQA-USMLE-4-options\")\n",
        "train_dataset = dataset['train']\n",
        "test_dataset = dataset['test']"
      ]
    },
    {
      "cell_type": "code",
      "source": [
        "# Function to create few-shot examples from the training data\n",
        "def create_few_shot_examples(train_data, num_examples):\n",
        "    \"\"\"\n",
        "    Create a few-shot prompt using num_examples samples from the training dataset.\n",
        "    Each example will include a question, options, and the correct answer.\n",
        "    \"\"\"\n",
        "    # Shuffle and select random examples from the training set for diversity\n",
        "    shuffled_data = random.sample(list(train_data), len(train_data))\n",
        "\n",
        "    examples = \"\"\n",
        "    selected_categories = set()  # Keep track of categories to ensure diversity\n",
        "\n",
        "    # Use tqdm to monitor the progress of few-shot example creation\n",
        "    for sample in tqdm(shuffled_data, desc=\"Creating few-shot examples\", total=len(train_data)):\n",
        "        question = sample['question']\n",
        "        options = sample['options']\n",
        "        correct_answer = sample['answer']  # Correct answer is the key ('A', 'B', 'C', or 'D')\n",
        "\n",
        "        # Ensure diversity by limiting to different topics or question types (if available)\n",
        "        if len(selected_categories) >= num_examples:\n",
        "            break\n",
        "\n",
        "        # Prepare the few-shot format (Question, Options, Answer)\n",
        "        options_text = ', '.join([f\"{key}: {value}\" for key, value in options.items()])\n",
        "        example = f\"Question: {question}\\nOptions: {options_text}\\nAnswer: {correct_answer}\\n\\n\"\n",
        "        examples += example\n",
        "\n",
        "        # Use some logic to track different question types/domains (optional)\n",
        "        selected_categories.add(question)  # Replace with refined logic for topic detection\n",
        "\n",
        "    return examples\n",
        "\n",
        "# Function to perform inference with few-shot prompting and match answer using regex\n",
        "def get_model_prediction(question, options_dict, few_shot_prompt):\n",
        "    \"\"\"\n",
        "    Generate a few-shot prediction using GPT-Neo for a question with multiple choices.\n",
        "    The options are provided as a dictionary with keys: 'A', 'B', 'C', 'D'.\n",
        "    The few-shot examples are passed as part of the prompt.\n",
        "    \"\"\"\n",
        "    # Prepare the prompt with few-shot examples + the current question\n",
        "    options_text = ', '.join([f\"{key}: {value}\" for key, value in options_dict.items()])\n",
        "    input_text = f\"{few_shot_prompt}\\nQuestion: {question}\\nOptions: {options_text}\\nAnswer:\"''\n",
        "\n",
        "    inputs = tokenizer(input_text, return_tensors=\"pt\").to(device)\n",
        "\n",
        "    # Generate output (can be tuned using temperature, max_length, etc.)\n",
        "    output = model.generate(inputs[\"input_ids\"], max_new_tokens=200)\n",
        "\n",
        "    # Decode the output to text\n",
        "    generated_text = tokenizer.decode(output[0], skip_special_tokens=True)\n",
        "\n",
        "\n",
        "    ind=generated_text.find(question)\n",
        "    extracted_text=generated_text[ind+len(question)+len(options_text)+10:]\n",
        "    ind2=extracted_text.find(\"Question\")\n",
        "    predicted=extracted_text[:ind2].strip()\n",
        "\n",
        "    return predicted"
      ],
      "metadata": {
        "id": "4s_5FBSDHcTX"
      },
      "execution_count": 2,
      "outputs": []
    },
    {
      "cell_type": "code",
      "source": [
        "# Evaluate model on the test dataset with tqdm to monitor the progress\n",
        "correct_predictions = 0\n",
        "total_predictions = 0\n",
        "\n",
        "# Add tqdm to track the evaluation loop\n",
        "for sample in tqdm(test_dataset, desc=\"Evaluating on test dataset\", total=len(test_dataset)):\n",
        "    few_shot_prompt = create_few_shot_examples(train_dataset, num_examples=3)\n",
        "    question = sample['question']\n",
        "    options = sample['options']  # This is a dictionary with 'A', 'B', 'C', 'D' as keys\n",
        "    correct_answer = sample['answer']  # Correct answer is the key ('A', 'B', 'C', or 'D')\n",
        "\n",
        "    # Get the model's prediction using few-shot prompting\n",
        "    predicted_answer = get_model_prediction(question, options, few_shot_prompt)\n",
        "\n",
        "    print(predicted_answer)\n",
        "    print(correct_answer)\n",
        "\n",
        "    # Check if prediction is correct\n",
        "    if correct_answer in predicted_answer:\n",
        "        correct_predictions += 1\n",
        "\n",
        "    total_predictions += 1\n",
        "\n",
        "    # Calculate and print the accuracy after each iteration\n",
        "    accuracy = correct_predictions / total_predictions * 100\n",
        "    print(f\"Iteration {total_predictions}: Accuracy so far: {accuracy:.2f}%\")\n",
        "\n",
        "\n",
        "# Final accuracy\n",
        "final_accuracy = correct_predictions / total_predictions * 100\n",
        "print(f\"Final Accuracy: {final_accuracy:.2f}%\")"
      ],
      "metadata": {
        "colab": {
          "base_uri": "https://localhost:8080/"
        },
        "collapsed": true,
        "id": "XVCbIw0uv-np",
        "outputId": "3f27982a-032c-495f-e768-b9fdae847fbc"
      },
      "execution_count": null,
      "outputs": [
        {
          "output_type": "stream",
          "name": "stderr",
          "text": [
            "Evaluating on test dataset:   0%|          | 0/1273 [00:00<?, ?it/s]\n",
            "Creating few-shot examples:   0%|          | 3/10178 [00:00<00:00, 25471.48it/s]\n",
            "The attention mask is not set and cannot be inferred from input because pad token is same as eos token. As a consequence, you may observe unexpected behavior. Please pass your input's `attention_mask` to obtain reliable results.\n",
            "You are not running the flash-attention implementation, expect numerical differences.\n",
            "Evaluating on test dataset:   0%|          | 1/1273 [00:52<18:37:20, 52.70s/it]"
          ]
        },
        {
          "output_type": "stream",
          "name": "stdout",
          "text": [
            "Answer: Tell the attending that he cannot fail to disclose this mistake\n",
            "Tell the attending that he cannot fail to disclose this mistake\n",
            "Iteration 1: Accuracy so far: 100.00%\n"
          ]
        },
        {
          "output_type": "stream",
          "name": "stderr",
          "text": [
            "\n",
            "Creating few-shot examples:   0%|          | 3/10178 [00:00<00:00, 22550.02it/s]\n",
            "Evaluating on test dataset:   0%|          | 2/1273 [01:43<18:11:06, 51.51s/it]"
          ]
        },
        {
          "output_type": "stream",
          "name": "stdout",
          "text": [
            "Answer: Inhibition of proteasome\n",
            "Cross-linking of DNA\n",
            "Iteration 2: Accuracy so far: 50.00%\n"
          ]
        },
        {
          "output_type": "stream",
          "name": "stderr",
          "text": [
            "\n",
            "Creating few-shot examples:   0%|          | 3/10178 [00:00<00:00, 29606.85it/s]\n",
            "Evaluating on test dataset:   0%|          | 3/1273 [02:44<19:43:06, 55.90s/it]"
          ]
        },
        {
          "output_type": "stream",
          "name": "stdout",
          "text": [
            "Answer: Cholesterol embolization\n",
            "Cholesterol embolization\n",
            "Iteration 3: Accuracy so far: 66.67%\n"
          ]
        },
        {
          "output_type": "stream",
          "name": "stderr",
          "text": [
            "\n",
            "Creating few-shot examples:   0%|          | 3/10178 [00:00<00:00, 33465.19it/s]\n",
            "Evaluating on test dataset:   0%|          | 4/1273 [03:43<20:04:51, 56.97s/it]"
          ]
        },
        {
          "output_type": "stream",
          "name": "stdout",
          "text": [
            "Answer: Encapsulated, gram-negative coccobacilli forming grey-colored colonies on charcoal blood agar\n",
            "Lactose-fermenting, gram-negative rods forming pink colonies on MacConkey agar\n",
            "Iteration 4: Accuracy so far: 50.00%\n"
          ]
        },
        {
          "output_type": "stream",
          "name": "stderr",
          "text": [
            "\n",
            "Creating few-shot examples:   0%|          | 3/10178 [00:00<00:00, 29468.18it/s]\n",
            "Evaluating on test dataset:   0%|          | 5/1273 [04:41<20:12:46, 57.39s/it]"
          ]
        },
        {
          "output_type": "stream",
          "name": "stdout",
          "text": [
            "Answer: Ketotifen eye drops\n",
            "Ketotifen eye drops\n",
            "Iteration 5: Accuracy so far: 60.00%\n"
          ]
        },
        {
          "output_type": "stream",
          "name": "stderr",
          "text": [
            "\n",
            "Creating few-shot examples:   0%|          | 3/10178 [00:00<00:00, 17722.41it/s]\n",
            "Evaluating on test dataset:   0%|          | 6/1273 [05:42<20:43:12, 58.87s/it]"
          ]
        },
        {
          "output_type": "stream",
          "name": "stdout",
          "text": [
            "Answer: Reassurance and continuous monitoring\n",
            "Reassurance and continuous monitoring\n",
            "Iteration 6: Accuracy so far: 66.67%\n"
          ]
        },
        {
          "output_type": "stream",
          "name": "stderr",
          "text": [
            "\n",
            "Creating few-shot examples:   0%|          | 3/10178 [00:00<00:00, 23607.71it/s]\n",
            "Evaluating on test dataset:   1%|          | 7/1273 [06:39<20:22:49, 57.95s/it]"
          ]
        },
        {
          "output_type": "stream",
          "name": "stdout",
          "text": [
            "Answer: Benign prostatic hyperplasia\n",
            "Common iliac artery aneurysm\n",
            "Iteration 7: Accuracy so far: 57.14%\n"
          ]
        },
        {
          "output_type": "stream",
          "name": "stderr",
          "text": [
            "\n",
            "Creating few-shot examples:   0%|          | 3/10178 [00:00<00:00, 20901.85it/s]\n",
            "Evaluating on test dataset:   1%|          | 8/1273 [07:39<20:40:15, 58.83s/it]"
          ]
        },
        {
          "output_type": "stream",
          "name": "stdout",
          "text": [
            "Answer: Clopidogrel\n",
            "Clopidogrel\n",
            "Iteration 8: Accuracy so far: 62.50%\n"
          ]
        },
        {
          "output_type": "stream",
          "name": "stderr",
          "text": [
            "\n",
            "Creating few-shot examples:   0%|          | 3/10178 [00:00<00:00, 27838.30it/s]\n",
            "Evaluating on test dataset:   1%|          | 9/1273 [08:40<20:51:57, 59.43s/it]"
          ]
        },
        {
          "output_type": "stream",
          "name": "stdout",
          "text": [
            "Answer: Active or recurrent pelvic inflammatory disease (PID)\n",
            "Active or recurrent pelvic inflammatory disease (PID)\n",
            "Iteration 9: Accuracy so far: 66.67%\n"
          ]
        },
        {
          "output_type": "stream",
          "name": "stderr",
          "text": [
            "\n",
            "Creating few-shot examples:   0%|          | 3/10178 [00:00<00:00, 23967.45it/s]\n",
            "Evaluating on test dataset:   1%|          | 10/1273 [09:33<20:09:39, 57.47s/it]"
          ]
        },
        {
          "output_type": "stream",
          "name": "stdout",
          "text": [
            "Answer: Silvery plaques on extensor surfaces\n",
            "Silvery plaques on extensor surfaces\n",
            "Iteration 10: Accuracy so far: 70.00%\n"
          ]
        },
        {
          "output_type": "stream",
          "name": "stderr",
          "text": [
            "\n",
            "Creating few-shot examples:   0%|          | 3/10178 [00:00<00:00, 33465.19it/s]\n",
            "Evaluating on test dataset:   1%|          | 11/1273 [10:32<20:15:13, 57.78s/it]"
          ]
        },
        {
          "output_type": "stream",
          "name": "stdout",
          "text": [
            "Answer: It is an HIV-1/HIV2 antibody differentiation immunoassay\n",
            "It is an HIV-1/HIV2 antibody differentiation immunoassay\n",
            "Iteration 11: Accuracy so far: 72.73%\n"
          ]
        },
        {
          "output_type": "stream",
          "name": "stderr",
          "text": [
            "\n",
            "Creating few-shot examples:   0%|          | 3/10178 [00:00<00:00, 25890.77it/s]\n",
            "Evaluating on test dataset:   1%|          | 12/1273 [11:31<20:25:05, 58.29s/it]"
          ]
        },
        {
          "output_type": "stream",
          "name": "stdout",
          "text": [
            "Answer: Ruxolitinib\n",
            "Ruxolitinib\n",
            "Iteration 12: Accuracy so far: 75.00%\n"
          ]
        },
        {
          "output_type": "stream",
          "name": "stderr",
          "text": [
            "\n",
            "Creating few-shot examples:   0%|          | 3/10178 [00:00<00:00, 32513.98it/s]\n",
            "Evaluating on test dataset:   1%|          | 13/1273 [12:29<20:21:44, 58.18s/it]"
          ]
        },
        {
          "output_type": "stream",
          "name": "stdout",
          "text": [
            "Answer: Meningioma\n",
            "Meningioma\n",
            "Iteration 13: Accuracy so far: 76.92%\n"
          ]
        },
        {
          "output_type": "stream",
          "name": "stderr",
          "text": [
            "\n",
            "Creating few-shot examples:   0%|          | 3/10178 [00:00<00:00, 34285.86it/s]\n",
            "Evaluating on test dataset:   1%|          | 14/1273 [13:24<20:03:58, 57.38s/it]"
          ]
        },
        {
          "output_type": "stream",
          "name": "stdout",
          "text": [
            "Answer: D: A reduction in diastolic filling time\n",
            "A reduction in diastolic filling time\n",
            "Iteration 14: Accuracy so far: 78.57%\n"
          ]
        },
        {
          "output_type": "stream",
          "name": "stderr",
          "text": [
            "\n",
            "Creating few-shot examples:   0%|          | 3/10178 [00:00<00:00, 31775.03it/s]\n",
            "Evaluating on test dataset:   1%|          | 15/1273 [14:23<20:11:02, 57.76s/it]"
          ]
        },
        {
          "output_type": "stream",
          "name": "stdout",
          "text": [
            "Answer: Vaccinia virus\n",
            "Rotavirus\n",
            "Iteration 15: Accuracy so far: 73.33%\n"
          ]
        },
        {
          "output_type": "stream",
          "name": "stderr",
          "text": [
            "\n",
            "Creating few-shot examples:   0%|          | 3/10178 [00:00<00:00, 25216.26it/s]\n",
            "Evaluating on test dataset:   1%|▏         | 16/1273 [15:21<20:10:49, 57.80s/it]"
          ]
        },
        {
          "output_type": "stream",
          "name": "stdout",
          "text": [
            "Answer: Acute cholecystitis\n",
            "Gallbladder cancer\n",
            "Iteration 16: Accuracy so far: 68.75%\n"
          ]
        },
        {
          "output_type": "stream",
          "name": "stderr",
          "text": [
            "\n",
            "Creating few-shot examples:   0%|          | 3/10178 [00:00<00:00, 20763.88it/s]\n",
            "Evaluating on test dataset:   1%|▏         | 17/1273 [16:31<21:23:41, 61.32s/it]"
          ]
        },
        {
          "output_type": "stream",
          "name": "stdout",
          "text": [
            "Answer: IL-13\n",
            "IL-4\n",
            "Iteration 17: Accuracy so far: 64.71%\n"
          ]
        },
        {
          "output_type": "stream",
          "name": "stderr",
          "text": [
            "\n",
            "Creating few-shot examples:   0%|          | 3/10178 [00:00<00:00, 27654.75it/s]\n",
            "Evaluating on test dataset:   1%|▏         | 18/1273 [17:33<21:31:20, 61.74s/it]"
          ]
        },
        {
          "output_type": "stream",
          "name": "stdout",
          "text": [
            "Answer: Matching\n",
            "Matching\n",
            "Iteration 18: Accuracy so far: 66.67%\n"
          ]
        },
        {
          "output_type": "stream",
          "name": "stderr",
          "text": [
            "\n",
            "Creating few-shot examples:   0%|          | 3/10178 [00:00<00:00, 24769.51it/s]\n",
            "Evaluating on test dataset:   1%|▏         | 19/1273 [18:34<21:25:29, 61.51s/it]"
          ]
        },
        {
          "output_type": "stream",
          "name": "stdout",
          "text": [
            "Answer: Indomethacin +/- omeprazole\n",
            "Ibuprofen + colchicine +/- omeprazole\n",
            "Iteration 19: Accuracy so far: 63.16%\n"
          ]
        },
        {
          "output_type": "stream",
          "name": "stderr",
          "text": [
            "\n",
            "Creating few-shot examples:   0%|          | 3/10178 [00:00<00:00, 30690.03it/s]\n",
            "Evaluating on test dataset:   2%|▏         | 20/1273 [19:42<22:05:47, 63.49s/it]"
          ]
        },
        {
          "output_type": "stream",
          "name": "stdout",
          "text": [
            "Answer: Ethanol intoxication\n",
            "Benzodiazepine intoxication\n",
            "\"\n",
            "Iteration 20: Accuracy so far: 60.00%\n"
          ]
        },
        {
          "output_type": "stream",
          "name": "stderr",
          "text": [
            "\n",
            "Creating few-shot examples:   0%|          | 3/10178 [00:00<00:00, 25368.77it/s]\n",
            "Evaluating on test dataset:   2%|▏         | 21/1273 [20:48<22:18:15, 64.13s/it]"
          ]
        },
        {
          "output_type": "stream",
          "name": "stdout",
          "text": [
            "Answer: Previous breast cancer\n",
            "Previous radiation therapy\n",
            "Iteration 21: Accuracy so far: 57.14%\n"
          ]
        },
        {
          "output_type": "stream",
          "name": "stderr",
          "text": [
            "\n",
            "Creating few-shot examples:   0%|          | 3/10178 [00:00<00:00, 19599.55it/s]\n",
            "Evaluating on test dataset:   2%|▏         | 22/1273 [21:49<22:00:21, 63.33s/it]"
          ]
        },
        {
          "output_type": "stream",
          "name": "stdout",
          "text": [
            "Answer: Lithium exposure in utero\n",
            "22q11 deletion\n",
            "Iteration 22: Accuracy so far: 54.55%\n"
          ]
        },
        {
          "output_type": "stream",
          "name": "stderr",
          "text": [
            "\n",
            "Creating few-shot examples:   0%|          | 3/10178 [00:00<00:01, 8349.64it/s]\n",
            "Evaluating on test dataset:   2%|▏         | 23/1273 [22:54<22:09:54, 63.84s/it]"
          ]
        },
        {
          "output_type": "stream",
          "name": "stdout",
          "text": [
            "Answer: Histoplasma capsulatum infection\n",
            "Histoplasma capsulatum infection\n",
            "Iteration 23: Accuracy so far: 56.52%\n"
          ]
        },
        {
          "output_type": "stream",
          "name": "stderr",
          "text": [
            "\n",
            "Creating few-shot examples:   0%|          | 3/10178 [00:00<00:00, 28149.69it/s]\n",
            "Evaluating on test dataset:   2%|▏         | 24/1273 [24:00<22:20:37, 64.40s/it]"
          ]
        },
        {
          "output_type": "stream",
          "name": "stdout",
          "text": [
            "Answer: Streptococcus pneumoniae\n",
            "Staphylococcus aureus\n",
            "Iteration 24: Accuracy so far: 54.17%\n"
          ]
        },
        {
          "output_type": "stream",
          "name": "stderr",
          "text": [
            "\n",
            "Creating few-shot examples:   0%|          | 3/10178 [00:00<00:00, 21546.08it/s]\n",
            "Evaluating on test dataset:   2%|▏         | 25/1273 [25:07<22:33:48, 65.09s/it]"
          ]
        },
        {
          "output_type": "stream",
          "name": "stdout",
          "text": [
            "Answer: Intubate with mechanical ventilation\n",
            "Intubate with mechanical ventilation\n",
            "Iteration 25: Accuracy so far: 56.00%\n"
          ]
        },
        {
          "output_type": "stream",
          "name": "stderr",
          "text": [
            "\n",
            "Creating few-shot examples:   0%|          | 3/10178 [00:00<00:00, 23786.22it/s]\n",
            "Evaluating on test dataset:   2%|▏         | 26/1273 [26:15<22:54:28, 66.13s/it]"
          ]
        },
        {
          "output_type": "stream",
          "name": "stdout",
          "text": [
            "Answer: Respiratory burst\n",
            "Respiratory burst\n",
            "Iteration 26: Accuracy so far: 57.69%\n"
          ]
        },
        {
          "output_type": "stream",
          "name": "stderr",
          "text": [
            "\n",
            "Creating few-shot examples:   0%|          | 3/10178 [00:00<00:00, 30467.10it/s]\n",
            "Evaluating on test dataset:   2%|▏         | 27/1273 [27:17<22:22:53, 64.67s/it]"
          ]
        },
        {
          "output_type": "stream",
          "name": "stdout",
          "text": [
            "Answer: Steeple sign\n",
            "Steeple sign\n",
            "Iteration 27: Accuracy so far: 59.26%\n"
          ]
        },
        {
          "output_type": "stream",
          "name": "stderr",
          "text": [
            "\n",
            "Creating few-shot examples:   0%|          | 3/10178 [00:00<00:00, 27176.92it/s]\n",
            "Evaluating on test dataset:   2%|▏         | 28/1273 [28:27<22:58:23, 66.43s/it]"
          ]
        },
        {
          "output_type": "stream",
          "name": "stdout",
          "text": [
            "Answer: A: Induction of CYP3A4 by rifampin leading to decreased serum levels of ethinylestradiol and progesterone\n",
            "Induction of CYP3A4 by rifampin leading to decreased serum levels of ethinylestradiol and progesterone\n",
            "Iteration 28: Accuracy so far: 60.71%\n"
          ]
        },
        {
          "output_type": "stream",
          "name": "stderr",
          "text": [
            "\n",
            "Creating few-shot examples:   0%|          | 3/10178 [00:00<00:00, 28992.88it/s]\n",
            "Evaluating on test dataset:   2%|▏         | 29/1273 [29:36<23:09:34, 67.02s/it]"
          ]
        },
        {
          "output_type": "stream",
          "name": "stdout",
          "text": [
            "Answer: Increased cerebrospinal fluid protein with normal cell count\n",
            "\"\n",
            "Increased cerebrospinal fluid protein with normal cell count\n",
            "Iteration 29: Accuracy so far: 62.07%\n"
          ]
        },
        {
          "output_type": "stream",
          "name": "stderr",
          "text": [
            "\n",
            "Creating few-shot examples:   0%|          | 3/10178 [00:00<00:00, 23045.63it/s]\n",
            "Evaluating on test dataset:   2%|▏         | 30/1273 [30:38<22:41:29, 65.72s/it]"
          ]
        },
        {
          "output_type": "stream",
          "name": "stdout",
          "text": [
            "Answer: Reassurance\n",
            "\"\n",
            "Reassurance\n",
            "Iteration 30: Accuracy so far: 63.33%\n"
          ]
        },
        {
          "output_type": "stream",
          "name": "stderr",
          "text": [
            "\n",
            "Creating few-shot examples:   0%|          | 3/10178 [00:00<00:00, 21326.97it/s]\n",
            "Evaluating on test dataset:   2%|▏         | 31/1273 [31:41<22:19:50, 64.73s/it]"
          ]
        },
        {
          "output_type": "stream",
          "name": "stdout",
          "text": [
            "Answer: Obstruction of the cystic duct\n",
            "Obstruction of the cystic duct\n",
            "Iteration 31: Accuracy so far: 64.52%\n"
          ]
        },
        {
          "output_type": "stream",
          "name": "stderr",
          "text": [
            "\n",
            "Creating few-shot examples:   0%|          | 3/10178 [00:00<00:00, 17822.82it/s]\n",
            "Evaluating on test dataset:   3%|▎         | 32/1273 [32:39<21:42:07, 62.96s/it]"
          ]
        },
        {
          "output_type": "stream",
          "name": "stdout",
          "text": [
            "Answer: Impaired left ventricular contractility\n",
            "Increased ventricular wall stiffness\n",
            "Iteration 32: Accuracy so far: 62.50%\n"
          ]
        },
        {
          "output_type": "stream",
          "name": "stderr",
          "text": [
            "\n",
            "Creating few-shot examples:   0%|          | 3/10178 [00:00<00:00, 22753.91it/s]\n",
            "Evaluating on test dataset:   3%|▎         | 33/1273 [33:42<21:36:50, 62.75s/it]"
          ]
        },
        {
          "output_type": "stream",
          "name": "stdout",
          "text": [
            "Answer: Trimethoprim/sulfamethoxazole\n",
            "Chloramphenicol\n",
            "Iteration 33: Accuracy so far: 60.61%\n"
          ]
        },
        {
          "output_type": "stream",
          "name": "stderr",
          "text": [
            "\n",
            "Creating few-shot examples:   0%|          | 3/10178 [00:00<00:00, 26886.56it/s]\n",
            "Evaluating on test dataset:   3%|▎         | 34/1273 [34:42<21:22:17, 62.10s/it]"
          ]
        },
        {
          "output_type": "stream",
          "name": "stdout",
          "text": [
            "Answer: Ectopic secretion of gastrin\n",
            "Proliferation of gastric mucus-producing cells\n",
            "Iteration 34: Accuracy so far: 58.82%\n"
          ]
        },
        {
          "output_type": "stream",
          "name": "stderr",
          "text": [
            "\n",
            "Creating few-shot examples:   0%|          | 3/10178 [00:00<00:00, 28468.13it/s]\n",
            "Evaluating on test dataset:   3%|▎         | 35/1273 [35:45<21:23:03, 62.18s/it]"
          ]
        },
        {
          "output_type": "stream",
          "name": "stdout",
          "text": [
            "Answer: Insulin, potassium, IV fluids, and glucose\n",
            "Insulin, potassium, IV fluids, and glucose\n",
            "Iteration 35: Accuracy so far: 60.00%\n"
          ]
        },
        {
          "output_type": "stream",
          "name": "stderr",
          "text": [
            "\n",
            "Creating few-shot examples:   0%|          | 3/10178 [00:00<00:00, 20695.58it/s]\n",
            "Evaluating on test dataset:   3%|▎         | 36/1273 [36:44<21:04:39, 61.34s/it]"
          ]
        },
        {
          "output_type": "stream",
          "name": "stdout",
          "text": [
            "Answer: Psoriatic arthritis\n",
            "Psoriatic arthritis\n",
            "Iteration 36: Accuracy so far: 61.11%\n"
          ]
        },
        {
          "output_type": "stream",
          "name": "stderr",
          "text": [
            "\n",
            "Creating few-shot examples:   0%|          | 3/10178 [00:00<00:00, 28859.89it/s]\n",
            "Evaluating on test dataset:   3%|▎         | 37/1273 [37:42<20:40:58, 60.24s/it]"
          ]
        },
        {
          "output_type": "stream",
          "name": "stdout",
          "text": [
            "Answer: Myasthenia gravis\n",
            "Paraneoplastic syndrome from small cell carcinoma of the lung\n",
            "Iteration 37: Accuracy so far: 59.46%\n"
          ]
        },
        {
          "output_type": "stream",
          "name": "stderr",
          "text": [
            "\n",
            "Creating few-shot examples:   0%|          | 3/10178 [00:00<00:00, 25115.59it/s]\n",
            "Evaluating on test dataset:   3%|▎         | 38/1273 [38:43<20:45:10, 60.49s/it]"
          ]
        },
        {
          "output_type": "stream",
          "name": "stdout",
          "text": [
            "Answer: Defective T cell function\n",
            "Defective T cell function\n",
            "Iteration 38: Accuracy so far: 60.53%\n"
          ]
        },
        {
          "output_type": "stream",
          "name": "stderr",
          "text": [
            "\n",
            "Creating few-shot examples:   0%|          | 3/10178 [00:00<00:00, 22075.28it/s]\n",
            "Evaluating on test dataset:   3%|▎         | 39/1273 [39:53<21:45:48, 63.49s/it]"
          ]
        },
        {
          "output_type": "stream",
          "name": "stdout",
          "text": [
            "Answer: 2.67\n",
            "2.67\n",
            "Iteration 39: Accuracy so far: 61.54%\n"
          ]
        },
        {
          "output_type": "stream",
          "name": "stderr",
          "text": [
            "\n",
            "Creating few-shot examples:   0%|          | 3/10178 [00:00<00:00, 27294.82it/s]\n",
            "Evaluating on test dataset:   3%|▎         | 40/1273 [40:51<21:05:47, 61.60s/it]"
          ]
        },
        {
          "output_type": "stream",
          "name": "stdout",
          "text": [
            "Answer: Arcuate fasciculus\n",
            "Arcuate fasciculus\n",
            "Iteration 40: Accuracy so far: 62.50%\n"
          ]
        },
        {
          "output_type": "stream",
          "name": "stderr",
          "text": [
            "\n",
            "Creating few-shot examples:   0%|          | 3/10178 [00:00<00:00, 27176.92it/s]\n",
            "Evaluating on test dataset:   3%|▎         | 41/1273 [41:58<21:43:52, 63.50s/it]"
          ]
        },
        {
          "output_type": "stream",
          "name": "stdout",
          "text": [
            "Answer: Polycystic ovarian syndrome (PCOS)\n",
            "Polycystic ovarian syndrome (PCOS)\n",
            "Iteration 41: Accuracy so far: 63.41%\n"
          ]
        },
        {
          "output_type": "stream",
          "name": "stderr",
          "text": [
            "\n",
            "Creating few-shot examples:   0%|          | 3/10178 [00:00<00:00, 18836.69it/s]\n",
            "Evaluating on test dataset:   3%|▎         | 42/1273 [42:59<21:26:12, 62.69s/it]"
          ]
        },
        {
          "output_type": "stream",
          "name": "stdout",
          "text": [
            "Answer: Strict blood glucose control\n",
            "Strict blood glucose control\n",
            "Iteration 42: Accuracy so far: 64.29%\n"
          ]
        },
        {
          "output_type": "stream",
          "name": "stderr",
          "text": [
            "\n",
            "Creating few-shot examples:   0%|          | 3/10178 [00:00<00:04, 2098.55it/s]\n",
            "Evaluating on test dataset:   3%|▎         | 43/1273 [44:06<21:47:02, 63.76s/it]"
          ]
        },
        {
          "output_type": "stream",
          "name": "stdout",
          "text": [
            "Answer: Duodenal atresia\n",
            "Duodenal atresia\n",
            "Iteration 43: Accuracy so far: 65.12%\n"
          ]
        },
        {
          "output_type": "stream",
          "name": "stderr",
          "text": [
            "\n",
            "Creating few-shot examples:   0%|          | 3/10178 [00:00<00:00, 21769.74it/s]\n",
            "Evaluating on test dataset:   3%|▎         | 44/1273 [45:07<21:33:18, 63.14s/it]"
          ]
        },
        {
          "output_type": "stream",
          "name": "stdout",
          "text": [
            "Answer: Pulmonary artery\n",
            "Coronary sinus\n",
            "Iteration 44: Accuracy so far: 63.64%\n"
          ]
        },
        {
          "output_type": "stream",
          "name": "stderr",
          "text": [
            "\n",
            "Creating few-shot examples:   0%|          | 3/10178 [00:00<00:00, 26715.31it/s]\n",
            "Evaluating on test dataset:   4%|▎         | 45/1273 [46:12<21:41:30, 63.59s/it]"
          ]
        },
        {
          "output_type": "stream",
          "name": "stdout",
          "text": [
            "Answer: Irregular 14-week sized uterus\n",
            "Globular 10-week sized uterus\n",
            "Iteration 45: Accuracy so far: 62.22%\n"
          ]
        },
        {
          "output_type": "stream",
          "name": "stderr",
          "text": [
            "\n",
            "Creating few-shot examples:   0%|          | 3/10178 [00:00<00:00, 23130.35it/s]\n",
            "Evaluating on test dataset:   4%|▎         | 46/1273 [47:14<21:32:52, 63.22s/it]"
          ]
        },
        {
          "output_type": "stream",
          "name": "stdout",
          "text": [
            "Answer: Fomepizole\n",
            "Fomepizole\n",
            "Iteration 46: Accuracy so far: 63.04%\n"
          ]
        },
        {
          "output_type": "stream",
          "name": "stderr",
          "text": [
            "\n",
            "Creating few-shot examples:   0%|          | 3/10178 [00:00<00:00, 30541.05it/s]\n",
            "Evaluating on test dataset:   4%|▎         | 47/1273 [48:13<21:06:31, 61.98s/it]"
          ]
        },
        {
          "output_type": "stream",
          "name": "stdout",
          "text": [
            "Answer: B: 16\n",
            "20\n",
            "Iteration 47: Accuracy so far: 61.70%\n"
          ]
        },
        {
          "output_type": "stream",
          "name": "stderr",
          "text": [
            "\n",
            "Creating few-shot examples:   0%|          | 3/10178 [00:00<00:00, 29262.59it/s]\n",
            "Evaluating on test dataset:   4%|▍         | 48/1273 [49:18<21:21:26, 62.76s/it]"
          ]
        },
        {
          "output_type": "stream",
          "name": "stdout",
          "text": [
            "Answer: Aortoiliac artery stenosis\n",
            "Femoropopliteal artery stenosis\n",
            "Iteration 48: Accuracy so far: 60.42%\n"
          ]
        },
        {
          "output_type": "stream",
          "name": "stderr",
          "text": [
            "\n",
            "Creating few-shot examples:   0%|          | 3/10178 [00:00<00:00, 31694.99it/s]\n",
            "Evaluating on test dataset:   4%|▍         | 49/1273 [50:17<20:56:40, 61.60s/it]"
          ]
        },
        {
          "output_type": "stream",
          "name": "stdout",
          "text": [
            "Answer: Obtain consent for parental genetic testing\n",
            "Recommend autopsy of the infant\n",
            "Iteration 49: Accuracy so far: 59.18%\n"
          ]
        },
        {
          "output_type": "stream",
          "name": "stderr",
          "text": [
            "\n",
            "Creating few-shot examples:   0%|          | 3/10178 [00:00<00:00, 29127.11it/s]\n",
            "Evaluating on test dataset:   4%|▍         | 50/1273 [51:13<20:23:04, 60.00s/it]"
          ]
        },
        {
          "output_type": "stream",
          "name": "stdout",
          "text": [
            "Answer: Proliferation of surfactant-secreting cells\n",
            "Proliferation of surfactant-secreting cells\n",
            "Iteration 50: Accuracy so far: 60.00%\n"
          ]
        },
        {
          "output_type": "stream",
          "name": "stderr",
          "text": [
            "\n",
            "Creating few-shot examples:   0%|          | 3/10178 [00:00<00:00, 19418.07it/s]\n",
            "Evaluating on test dataset:   4%|▍         | 51/1273 [52:05<19:33:57, 57.64s/it]"
          ]
        },
        {
          "output_type": "stream",
          "name": "stdout",
          "text": [
            "Answer: Induces breaks in double-stranded DNA\n",
            "Induces breaks in double-stranded DNA\n",
            "Iteration 51: Accuracy so far: 60.78%\n"
          ]
        },
        {
          "output_type": "stream",
          "name": "stderr",
          "text": [
            "\n",
            "Creating few-shot examples:   0%|          | 3/10178 [00:00<00:00, 33734.35it/s]\n",
            "Evaluating on test dataset:   4%|▍         | 52/1273 [53:04<19:41:18, 58.05s/it]"
          ]
        },
        {
          "output_type": "stream",
          "name": "stdout",
          "text": [
            "Answer: Aldosterone excess\n",
            "Aldosterone excess\n",
            "Iteration 52: Accuracy so far: 61.54%\n"
          ]
        },
        {
          "output_type": "stream",
          "name": "stderr",
          "text": [
            "\n",
            "Creating few-shot examples:   0%|          | 3/10178 [00:00<00:00, 22429.43it/s]\n",
            "Evaluating on test dataset:   4%|▍         | 53/1273 [53:59<19:22:18, 57.16s/it]"
          ]
        },
        {
          "output_type": "stream",
          "name": "stdout",
          "text": [
            "Answer: Defective hepatic bile excretion\n",
            "Defective hepatic bile excretion\n",
            "Iteration 53: Accuracy so far: 62.26%\n"
          ]
        },
        {
          "output_type": "stream",
          "name": "stderr",
          "text": [
            "\n",
            "Creating few-shot examples:   0%|          | 3/10178 [00:00<00:00, 34192.70it/s]\n",
            "Evaluating on test dataset:   4%|▍         | 54/1273 [55:00<19:40:53, 58.12s/it]"
          ]
        },
        {
          "output_type": "stream",
          "name": "stdout",
          "text": [
            "Answer: Metoclopramide\n",
            "Atropine\n",
            "Iteration 54: Accuracy so far: 61.11%\n"
          ]
        },
        {
          "output_type": "stream",
          "name": "stderr",
          "text": [
            "\n",
            "Creating few-shot examples:   0%|          | 3/10178 [00:00<00:00, 26214.40it/s]\n",
            "Evaluating on test dataset:   4%|▍         | 55/1273 [55:56<19:28:01, 57.54s/it]"
          ]
        },
        {
          "output_type": "stream",
          "name": "stdout",
          "text": [
            "Answer: Tardive dyskinesia\n",
            "Tardive dyskinesia\n",
            "Iteration 55: Accuracy so far: 61.82%\n"
          ]
        },
        {
          "output_type": "stream",
          "name": "stderr",
          "text": [
            "\n",
            "Creating few-shot examples:   0%|          | 3/10178 [00:00<00:00, 26159.90it/s]\n",
            "Evaluating on test dataset:   4%|▍         | 56/1273 [56:56<19:40:54, 58.22s/it]"
          ]
        },
        {
          "output_type": "stream",
          "name": "stdout",
          "text": [
            "Answer: KOH examination of lesion scrapings\n",
            "KOH examination of lesion scrapings\n",
            "Iteration 56: Accuracy so far: 62.50%\n"
          ]
        },
        {
          "output_type": "stream",
          "name": "stderr",
          "text": [
            "\n",
            "Creating few-shot examples:   0%|          | 3/10178 [00:00<00:00, 23563.51it/s]\n",
            "Evaluating on test dataset:   4%|▍         | 57/1273 [57:58<20:06:43, 59.54s/it]"
          ]
        },
        {
          "output_type": "stream",
          "name": "stdout",
          "text": [
            "Answer: Gynecomastia\n",
            "Gynecomastia\n",
            "Iteration 57: Accuracy so far: 63.16%\n"
          ]
        },
        {
          "output_type": "stream",
          "name": "stderr",
          "text": [
            "\n",
            "Creating few-shot examples:   0%|          | 3/10178 [00:00<00:00, 33734.35it/s]\n",
            "Evaluating on test dataset:   5%|▍         | 58/1273 [59:00<20:16:10, 60.06s/it]"
          ]
        },
        {
          "output_type": "stream",
          "name": "stdout",
          "text": [
            "Answer: Variable β-sequence of the T cell receptor\n",
            "Variable β-sequence of the T cell receptor\n",
            "Iteration 58: Accuracy so far: 63.79%\n"
          ]
        },
        {
          "output_type": "stream",
          "name": "stderr",
          "text": [
            "\n",
            "Creating few-shot examples:   0%|          | 3/10178 [00:00<00:00, 30320.27it/s]\n",
            "Evaluating on test dataset:   5%|▍         | 59/1273 [1:00:06<20:55:30, 62.05s/it]"
          ]
        },
        {
          "output_type": "stream",
          "name": "stdout",
          "text": [
            "Answer: Hemolytic uremic syndrome\n",
            "Hemolytic uremic syndrome\n",
            "Iteration 59: Accuracy so far: 64.41%\n"
          ]
        },
        {
          "output_type": "stream",
          "name": "stderr",
          "text": [
            "\n",
            "Creating few-shot examples:   0%|          | 3/10178 [00:00<00:00, 35848.75it/s]\n",
            "Evaluating on test dataset:   5%|▍         | 60/1273 [1:01:07<20:46:06, 61.64s/it]"
          ]
        },
        {
          "output_type": "stream",
          "name": "stdout",
          "text": [
            "Answer: Patients with this disorder are not further sub-typed\n",
            "Patients with this disorder are not further sub-typed\n",
            "Iteration 60: Accuracy so far: 65.00%\n"
          ]
        },
        {
          "output_type": "stream",
          "name": "stderr",
          "text": [
            "\n",
            "Creating few-shot examples:   0%|          | 3/10178 [00:00<00:00, 29676.68it/s]\n",
            "Evaluating on test dataset:   5%|▍         | 61/1273 [1:02:05<20:21:24, 60.47s/it]"
          ]
        },
        {
          "output_type": "stream",
          "name": "stdout",
          "text": [
            "Answer: Salmonella typhi\n",
            "Salmonella typhi\n",
            "Iteration 61: Accuracy so far: 65.57%\n"
          ]
        },
        {
          "output_type": "stream",
          "name": "stderr",
          "text": [
            "\n",
            "Creating few-shot examples:   0%|          | 3/10178 [00:00<00:00, 20393.70it/s]\n",
            "Evaluating on test dataset:   5%|▍         | 62/1273 [1:03:03<20:06:52, 59.80s/it]"
          ]
        },
        {
          "output_type": "stream",
          "name": "stdout",
          "text": [
            "Answer: Cytochrome P-450 enzymes\n",
            "Acetaldehyde\n",
            "Iteration 62: Accuracy so far: 64.52%\n"
          ]
        },
        {
          "output_type": "stream",
          "name": "stderr",
          "text": [
            "\n",
            "Creating few-shot examples:   0%|          | 3/10178 [00:00<00:00, 32181.36it/s]\n",
            "Evaluating on test dataset:   5%|▍         | 63/1273 [1:04:05<20:22:36, 60.63s/it]"
          ]
        },
        {
          "output_type": "stream",
          "name": "stdout",
          "text": [
            "Answer: Serum B12 level\n",
            "No tests required\n",
            "Iteration 63: Accuracy so far: 63.49%\n"
          ]
        },
        {
          "output_type": "stream",
          "name": "stderr",
          "text": [
            "\n",
            "Creating few-shot examples:   0%|          | 3/10178 [00:00<00:00, 32017.59it/s]\n",
            "Evaluating on test dataset:   5%|▌         | 64/1273 [1:05:11<20:52:21, 62.15s/it]"
          ]
        },
        {
          "output_type": "stream",
          "name": "stdout",
          "text": [
            "Answer: Digital rectal exam\n",
            "Insert a ‘straight cath’ into the patient’s bladder\n",
            "Iteration 64: Accuracy so far: 62.50%\n"
          ]
        },
        {
          "output_type": "stream",
          "name": "stderr",
          "text": [
            "\n",
            "Creating few-shot examples:   0%|          | 3/10178 [00:00<00:00, 22836.50it/s]\n",
            "Evaluating on test dataset:   5%|▌         | 65/1273 [1:06:10<20:30:47, 61.13s/it]"
          ]
        },
        {
          "output_type": "stream",
          "name": "stdout",
          "text": [
            "Answer: Inhibition of 14-alpha-demethylase\n",
            "Disruption of cell membrane permeability\n",
            "Iteration 65: Accuracy so far: 61.54%\n"
          ]
        },
        {
          "output_type": "stream",
          "name": "stderr",
          "text": [
            "\n",
            "Creating few-shot examples:   0%|          | 3/10178 [00:00<00:00, 17672.63it/s]\n",
            "Evaluating on test dataset:   5%|▌         | 66/1273 [1:07:14<20:48:21, 62.06s/it]"
          ]
        },
        {
          "output_type": "stream",
          "name": "stdout",
          "text": [
            "Answer: Bulging disc impinging on lumbar spinal nerve\n",
            "Lytic lesions of the lumbar spine\n",
            "Iteration 66: Accuracy so far: 60.61%\n"
          ]
        },
        {
          "output_type": "stream",
          "name": "stderr",
          "text": [
            "\n",
            "Creating few-shot examples:   0%|          | 3/10178 [00:00<00:00, 27176.92it/s]\n",
            "Evaluating on test dataset:   5%|▌         | 67/1273 [1:08:14<20:32:04, 61.30s/it]"
          ]
        },
        {
          "output_type": "stream",
          "name": "stdout",
          "text": [
            "Answer: Perform emergency laparotomy\n",
            "Perform emergency laparotomy\n",
            "Iteration 67: Accuracy so far: 61.19%\n"
          ]
        },
        {
          "output_type": "stream",
          "name": "stderr",
          "text": [
            "\n",
            "Creating few-shot examples:   0%|          | 3/10178 [00:00<00:00, 30467.10it/s]\n",
            "Evaluating on test dataset:   5%|▌         | 68/1273 [1:09:13<20:19:18, 60.71s/it]"
          ]
        },
        {
          "output_type": "stream",
          "name": "stdout",
          "text": [
            "Answer: Transplacental passage of thyroid peroxidase antibodies\n",
            "Transplacental passage of TSH receptor antibodies\n",
            "Iteration 68: Accuracy so far: 60.29%\n"
          ]
        },
        {
          "output_type": "stream",
          "name": "stderr",
          "text": [
            "\n",
            "Creating few-shot examples:   0%|          | 3/10178 [00:00<00:00, 24338.32it/s]\n",
            "Evaluating on test dataset:   5%|▌         | 69/1273 [1:10:14<20:22:46, 60.94s/it]"
          ]
        },
        {
          "output_type": "stream",
          "name": "stdout",
          "text": [
            "Answer: Phentolamine\n",
            "Nadalol\n",
            "Iteration 69: Accuracy so far: 59.42%\n"
          ]
        },
        {
          "output_type": "stream",
          "name": "stderr",
          "text": [
            "\n",
            "Creating few-shot examples:   0%|          | 3/10178 [00:00<00:00, 28992.88it/s]\n",
            "Evaluating on test dataset:   5%|▌         | 70/1273 [1:11:15<20:20:16, 60.86s/it]"
          ]
        },
        {
          "output_type": "stream",
          "name": "stdout",
          "text": [
            "Answer: Observe and get follow-up imaging in 3 months\n",
            "Proceed with liver biopsy\n",
            "Iteration 70: Accuracy so far: 58.57%\n"
          ]
        },
        {
          "output_type": "stream",
          "name": "stderr",
          "text": [
            "\n",
            "Creating few-shot examples:   0%|          | 3/10178 [00:00<00:00, 21219.08it/s]\n",
            "Evaluating on test dataset:   6%|▌         | 71/1273 [1:12:15<20:11:28, 60.47s/it]"
          ]
        },
        {
          "output_type": "stream",
          "name": "stdout",
          "text": [
            "Answer: Spontaneous bacterial peritonitis\n",
            "Spontaneous bacterial peritonitis\n",
            "Iteration 71: Accuracy so far: 59.15%\n"
          ]
        },
        {
          "output_type": "stream",
          "name": "stderr",
          "text": [
            "\n",
            "Creating few-shot examples:   0%|          | 3/10178 [00:00<00:00, 35246.25it/s]\n",
            "Evaluating on test dataset:   6%|▌         | 72/1273 [1:13:15<20:07:47, 60.34s/it]"
          ]
        },
        {
          "output_type": "stream",
          "name": "stdout",
          "text": [
            "Answer: Cardiac contusion\n",
            "Cardiac contusion\n",
            "Iteration 72: Accuracy so far: 59.72%\n"
          ]
        },
        {
          "output_type": "stream",
          "name": "stderr",
          "text": [
            "\n",
            "Creating few-shot examples:   0%|          | 3/10178 [00:00<00:00, 33465.19it/s]\n",
            "Evaluating on test dataset:   6%|▌         | 73/1273 [1:14:17<20:17:36, 60.88s/it]"
          ]
        },
        {
          "output_type": "stream",
          "name": "stdout",
          "text": [
            "Answer: Transjugular intrahepatic portosystemic shunting\n",
            "Liver transplantation\n",
            "Iteration 73: Accuracy so far: 58.90%\n"
          ]
        },
        {
          "output_type": "stream",
          "name": "stderr",
          "text": [
            "\n",
            "Creating few-shot examples:   0%|          | 3/10178 [00:00<00:00, 29676.68it/s]\n",
            "Evaluating on test dataset:   6%|▌         | 74/1273 [1:15:19<20:22:23, 61.17s/it]"
          ]
        },
        {
          "output_type": "stream",
          "name": "stdout",
          "text": [
            "Answer: Propranolol\n",
            "Methimazole\n",
            "Iteration 74: Accuracy so far: 58.11%\n"
          ]
        },
        {
          "output_type": "stream",
          "name": "stderr",
          "text": [
            "\n",
            "Creating few-shot examples:   0%|          | 3/10178 [00:00<00:00, 25523.15it/s]\n",
            "Evaluating on test dataset:   6%|▌         | 75/1273 [1:16:22<20:33:41, 61.79s/it]"
          ]
        },
        {
          "output_type": "stream",
          "name": "stdout",
          "text": [
            "Answer: Skin biopsy\n",
            "Potassium hydroxide preparation\n",
            "Iteration 75: Accuracy so far: 57.33%\n"
          ]
        },
        {
          "output_type": "stream",
          "name": "stderr",
          "text": [
            "\n",
            "Creating few-shot examples:   0%|          | 3/10178 [00:00<00:00, 31936.32it/s]\n",
            "Evaluating on test dataset:   6%|▌         | 76/1273 [1:17:22<20:22:34, 61.28s/it]"
          ]
        },
        {
          "output_type": "stream",
          "name": "stdout",
          "text": [
            "Answer: 21\n",
            "5\n",
            "Iteration 76: Accuracy so far: 56.58%\n"
          ]
        },
        {
          "output_type": "stream",
          "name": "stderr",
          "text": [
            "\n",
            "Creating few-shot examples:   0%|          | 3/10178 [00:00<00:00, 31615.36it/s]\n",
            "Evaluating on test dataset:   6%|▌         | 77/1273 [1:18:23<20:18:06, 61.11s/it]"
          ]
        },
        {
          "output_type": "stream",
          "name": "stdout",
          "text": [
            "Answer: Biopsy of the mass\n",
            "Biopsy of the mass\n",
            "Iteration 77: Accuracy so far: 57.14%\n"
          ]
        },
        {
          "output_type": "stream",
          "name": "stderr",
          "text": [
            "\n",
            "Creating few-shot examples:   0%|          | 3/10178 [00:00<00:00, 31223.11it/s]\n",
            "Evaluating on test dataset:   6%|▌         | 78/1273 [1:19:23<20:14:30, 60.98s/it]"
          ]
        },
        {
          "output_type": "stream",
          "name": "stdout",
          "text": [
            "Answer: Deposition of calcium pyrophosphate (CPP) crystals\n",
            "Deposition of calcium pyrophosphate (CPP) crystals\n",
            "Iteration 78: Accuracy so far: 57.69%\n"
          ]
        },
        {
          "output_type": "stream",
          "name": "stderr",
          "text": [
            "\n",
            "Creating few-shot examples:   0%|          | 3/10178 [00:00<00:00, 24385.49it/s]\n",
            "Evaluating on test dataset:   6%|▌         | 79/1273 [1:20:25<20:15:02, 61.06s/it]"
          ]
        },
        {
          "output_type": "stream",
          "name": "stdout",
          "text": [
            "Answer: Transposition of great vessels\n",
            "Transposition of great vessels\n",
            "Iteration 79: Accuracy so far: 58.23%\n"
          ]
        },
        {
          "output_type": "stream",
          "name": "stderr",
          "text": [
            "\n",
            "Creating few-shot examples:   0%|          | 3/10178 [00:00<00:00, 27060.03it/s]\n",
            "Evaluating on test dataset:   6%|▋         | 80/1273 [1:21:28<20:29:53, 61.86s/it]"
          ]
        },
        {
          "output_type": "stream",
          "name": "stdout",
          "text": [
            "Answer: Needle thoracostomy over the 2nd intercostal space\n",
            "Interrupted 2-0 polypropylene suture with supporting pledgets\n",
            "Iteration 80: Accuracy so far: 57.50%\n"
          ]
        },
        {
          "output_type": "stream",
          "name": "stderr",
          "text": [
            "\n",
            "Creating few-shot examples:   0%|          | 3/10178 [00:00<00:00, 33554.43it/s]\n",
            "Evaluating on test dataset:   6%|▋         | 81/1273 [1:22:33<20:48:01, 62.82s/it]"
          ]
        },
        {
          "output_type": "stream",
          "name": "stdout",
          "text": [
            "Answer: Reid Index > 50%\n",
            "Reid Index > 50%\n",
            "Iteration 81: Accuracy so far: 58.02%\n"
          ]
        },
        {
          "output_type": "stream",
          "name": "stderr",
          "text": [
            "\n",
            "Creating few-shot examples:   0%|          | 3/10178 [00:00<00:00, 29888.15it/s]\n",
            "Evaluating on test dataset:   6%|▋         | 82/1273 [1:23:40<21:06:19, 63.79s/it]"
          ]
        },
        {
          "output_type": "stream",
          "name": "stdout",
          "text": [
            "Answer: Ras pathway transcription factors\n",
            "Caspase-9\n",
            "Iteration 82: Accuracy so far: 57.32%\n"
          ]
        },
        {
          "output_type": "stream",
          "name": "stderr",
          "text": [
            "\n",
            "Creating few-shot examples:   0%|          | 3/10178 [00:00<00:00, 32263.88it/s]\n",
            "Evaluating on test dataset:   7%|▋         | 83/1273 [1:24:46<21:24:05, 64.74s/it]"
          ]
        },
        {
          "output_type": "stream",
          "name": "stdout",
          "text": [
            "Answer: Acral lentiginous\n",
            "Acral lentiginous\n",
            "Iteration 83: Accuracy so far: 57.83%\n"
          ]
        },
        {
          "output_type": "stream",
          "name": "stderr",
          "text": [
            "\n",
            "Creating few-shot examples:   0%|          | 3/10178 [00:00<00:00, 23130.35it/s]\n",
            "Evaluating on test dataset:   7%|▋         | 84/1273 [1:25:57<21:57:46, 66.50s/it]"
          ]
        },
        {
          "output_type": "stream",
          "name": "stdout",
          "text": [
            "Answer: Jaw claudication\n",
            "Jaw claudication\n",
            "Iteration 84: Accuracy so far: 58.33%\n"
          ]
        },
        {
          "output_type": "stream",
          "name": "stderr",
          "text": [
            "\n",
            "Creating few-shot examples:   0%|          | 3/10178 [00:00<00:00, 18696.75it/s]\n",
            "Evaluating on test dataset:   7%|▋         | 85/1273 [1:27:03<21:54:15, 66.38s/it]"
          ]
        },
        {
          "output_type": "stream",
          "name": "stdout",
          "text": [
            "Answer: Endometrial tissue outside the uterine cavity\n",
            "Endometrial tissue outside the uterine cavity\n",
            "Iteration 85: Accuracy so far: 58.82%\n"
          ]
        },
        {
          "output_type": "stream",
          "name": "stderr",
          "text": [
            "\n",
            "Creating few-shot examples:   0%|          | 3/10178 [00:00<00:00, 29888.15it/s]\n",
            "Evaluating on test dataset:   7%|▋         | 86/1273 [1:27:59<20:48:14, 63.10s/it]"
          ]
        },
        {
          "output_type": "stream",
          "name": "stdout",
          "text": [
            "Answer: Friable irregular masses attached to the valve\n",
            "Friable irregular masses attached to the valve\n",
            "Iteration 86: Accuracy so far: 59.30%\n"
          ]
        },
        {
          "output_type": "stream",
          "name": "stderr",
          "text": [
            "\n",
            "Creating few-shot examples:   0%|          | 3/10178 [00:00<00:00, 28728.11it/s]\n"
          ]
        }
      ]
    },
    {
      "cell_type": "code",
      "source": [
        "total_predictions = 86  # Total number of predictions made up to iteration 86\n",
        "accuracy_at_86 = 59.30  # Accuracy at iteration 86\n",
        "correct_predictions = int((accuracy_at_86 / 100) * total_predictions)\n",
        "\n",
        "for i, sample in enumerate(tqdm(test_dataset, desc=\"Evaluating on test dataset\", total=len(test_dataset))):\n",
        "    if i < 86:\n",
        "        continue\n",
        "\n",
        "    few_shot_prompt = create_few_shot_examples(train_dataset, num_examples=3)\n",
        "    question = sample['question']\n",
        "    options = sample['options']  # This is a dictionary with 'A', 'B', 'C', 'D' as keys\n",
        "    correct_answer = sample['answer']  # Correct answer is the key ('A', 'B', 'C', or 'D')\n",
        "\n",
        "    # Get the model's prediction using few-shot prompting\n",
        "    predicted_answer = get_model_prediction(question, options, few_shot_prompt)\n",
        "\n",
        "    print(predicted_answer)\n",
        "    print(correct_answer)\n",
        "\n",
        "    # Check if prediction is correct\n",
        "    if correct_answer in predicted_answer:\n",
        "        correct_predictions += 1\n",
        "\n",
        "    total_predictions += 1\n",
        "\n",
        "    # Calculate and print the accuracy after each iteration\n",
        "    accuracy = correct_predictions / total_predictions * 100\n",
        "    print(f\"Iteration {i+1}: Accuracy so far: {accuracy:.2f}%\")\n"
      ],
      "metadata": {
        "colab": {
          "base_uri": "https://localhost:8080/"
        },
        "id": "oijANEJ6GkXu",
        "outputId": "ed6179a7-1b18-47c1-8782-6646d2b94c45"
      },
      "execution_count": null,
      "outputs": [
        {
          "metadata": {
            "tags": null
          },
          "name": "stderr",
          "output_type": "stream",
          "text": [
            "Evaluating on test dataset:   0%|          | 0/1273 [00:00<?, ?it/s]\n",
            "Creating few-shot examples:   0%|          | 3/10178 [00:00<00:00, 28339.89it/s]\n",
            "Evaluating on test dataset:   7%|▋         | 87/1273 [01:02<14:16,  1.38it/s]"
          ]
        },
        {
          "metadata": {
            "tags": null
          },
          "name": "stdout",
          "output_type": "stream",
          "text": [
            "Answer: Hysteroscopy\n",
            "Laparoscopy\n",
            "Iteration 87: Accuracy so far: 57.47%\n"
          ]
        },
        {
          "metadata": {
            "tags": null
          },
          "name": "stderr",
          "output_type": "stream",
          "text": [
            "\n",
            "Creating few-shot examples:   0%|          | 3/10178 [00:00<00:00, 19753.39it/s]\n",
            "Evaluating on test dataset:   7%|▋         | 88/1273 [02:08<35:06,  1.78s/it]"
          ]
        },
        {
          "metadata": {
            "tags": null
          },
          "name": "stdout",
          "output_type": "stream",
          "text": [
            "Answer: High LDL-cholesterol\n",
            "High LDL-cholesterol\n",
            "Iteration 88: Accuracy so far: 57.95%\n"
          ]
        },
        {
          "metadata": {
            "tags": null
          },
          "name": "stderr",
          "output_type": "stream",
          "text": [
            "\n",
            "Creating few-shot examples:   0%|          | 3/10178 [00:00<00:00, 31775.03it/s]\n",
            "Evaluating on test dataset:   7%|▋         | 89/1273 [03:10<1:01:39,  3.12s/it]"
          ]
        },
        {
          "metadata": {
            "tags": null
          },
          "name": "stdout",
          "output_type": "stream",
          "text": [
            "Answer: Tension pneumothorax\n",
            "Thoracic aortic rupture\n",
            "Iteration 89: Accuracy so far: 57.30%\n"
          ]
        },
        {
          "metadata": {
            "tags": null
          },
          "name": "stderr",
          "output_type": "stream",
          "text": [
            "\n",
            "Creating few-shot examples:   0%|          | 3/10178 [00:00<00:00, 29399.33it/s]\n",
            "Evaluating on test dataset:   7%|▋         | 90/1273 [04:04<1:33:17,  4.73s/it]"
          ]
        },
        {
          "metadata": {
            "tags": null
          },
          "name": "stdout",
          "output_type": "stream",
          "text": [
            "Answer: Propylthiouracil\n",
            "Propylthiouracil\n",
            "Iteration 90: Accuracy so far: 57.78%\n"
          ]
        },
        {
          "metadata": {
            "tags": null
          },
          "name": "stderr",
          "output_type": "stream",
          "text": [
            "\n",
            "Creating few-shot examples:   0%|          | 3/10178 [00:00<00:00, 26159.90it/s]\n",
            "Evaluating on test dataset:   7%|▋         | 91/1273 [05:00<2:16:14,  6.92s/it]"
          ]
        },
        {
          "metadata": {
            "tags": null
          },
          "name": "stdout",
          "output_type": "stream",
          "text": [
            "Answer: Freshwater snails\n",
            "Freshwater snails\n",
            "Iteration 91: Accuracy so far: 58.24%\n"
          ]
        },
        {
          "metadata": {
            "tags": null
          },
          "name": "stderr",
          "output_type": "stream",
          "text": [
            "\n",
            "Creating few-shot examples:   0%|          | 3/10178 [00:00<00:00, 27354.16it/s]\n",
            "Evaluating on test dataset:   7%|▋         | 92/1273 [06:03<3:18:40, 10.09s/it]"
          ]
        },
        {
          "metadata": {
            "tags": null
          },
          "name": "stdout",
          "output_type": "stream",
          "text": [
            "Answer: Normal hemoglobin in patients with tetralogy of Fallot does not rule out iron deficiency anemia.\n",
            "Normal hemoglobin in patients with tetralogy of Fallot does not rule out iron deficiency anemia.\n",
            "Iteration 92: Accuracy so far: 58.70%\n"
          ]
        },
        {
          "metadata": {
            "tags": null
          },
          "name": "stderr",
          "output_type": "stream",
          "text": [
            "\n",
            "Creating few-shot examples:   0%|          | 3/10178 [00:00<00:00, 21883.33it/s]\n",
            "Evaluating on test dataset:   7%|▋         | 93/1273 [07:09<4:42:43, 14.38s/it]"
          ]
        },
        {
          "metadata": {
            "tags": null
          },
          "name": "stdout",
          "output_type": "stream",
          "text": [
            "Answer: Delirium\n",
            "Delirium\n",
            "Iteration 93: Accuracy so far: 59.14%\n"
          ]
        },
        {
          "metadata": {
            "tags": null
          },
          "name": "stderr",
          "output_type": "stream",
          "text": [
            "\n",
            "Creating few-shot examples:   0%|          | 3/10178 [00:00<00:04, 2510.56it/s]\n",
            "Evaluating on test dataset:   7%|▋         | 94/1273 [08:08<6:07:12, 18.69s/it]"
          ]
        },
        {
          "metadata": {
            "tags": null
          },
          "name": "stdout",
          "output_type": "stream",
          "text": [
            "Answer: Down syndrome\n",
            "Rheumatoid arthritis\n",
            "Iteration 94: Accuracy so far: 58.51%\n"
          ]
        },
        {
          "metadata": {
            "tags": null
          },
          "name": "stderr",
          "output_type": "stream",
          "text": [
            "\n",
            "Creating few-shot examples:   0%|          | 3/10178 [00:00<00:00, 28086.86it/s]\n",
            "Evaluating on test dataset:   7%|▋         | 95/1273 [09:09<7:49:20, 23.91s/it]"
          ]
        },
        {
          "metadata": {
            "tags": null
          },
          "name": "stdout",
          "output_type": "stream",
          "text": [
            "Answer: D Paradoxical motion of part of the chest with breathing\n",
            "A drop in systolic blood pressure of 14 mmHg during inspiration\n",
            "Iteration 95: Accuracy so far: 57.89%\n"
          ]
        },
        {
          "metadata": {
            "tags": null
          },
          "name": "stderr",
          "output_type": "stream",
          "text": [
            "\n",
            "Creating few-shot examples:   0%|          | 3/10178 [00:00<00:00, 30247.38it/s]\n",
            "Evaluating on test dataset:   8%|▊         | 96/1273 [10:06<9:26:33, 28.88s/it]"
          ]
        },
        {
          "metadata": {
            "tags": null
          },
          "name": "stdout",
          "output_type": "stream",
          "text": [
            "Answer: MR angiography of the brain\n",
            "MR angiography of the brain\n",
            "Iteration 96: Accuracy so far: 58.33%\n"
          ]
        },
        {
          "metadata": {
            "tags": null
          },
          "name": "stderr",
          "output_type": "stream",
          "text": [
            "\n",
            "Creating few-shot examples:   0%|          | 3/10178 [00:00<00:00, 29817.33it/s]\n",
            "Evaluating on test dataset:   8%|▊         | 97/1273 [11:07<11:16:15, 34.50s/it]"
          ]
        },
        {
          "metadata": {
            "tags": null
          },
          "name": "stdout",
          "output_type": "stream",
          "text": [
            "Answer: X-linked recessive\n",
            "Autosomal dominant\n",
            "Iteration 97: Accuracy so far: 57.73%\n"
          ]
        },
        {
          "metadata": {
            "tags": null
          },
          "name": "stderr",
          "output_type": "stream",
          "text": [
            "\n",
            "Creating few-shot examples:   0%|          | 3/10178 [00:00<00:00, 33554.43it/s]\n",
            "Evaluating on test dataset:   8%|▊         | 98/1273 [12:10<13:09:29, 40.31s/it]"
          ]
        },
        {
          "metadata": {
            "tags": null
          },
          "name": "stdout",
          "output_type": "stream",
          "text": [
            "Answer: Antigenic variation\n",
            "Antigenic variation\n",
            "Iteration 98: Accuracy so far: 58.16%\n"
          ]
        },
        {
          "metadata": {
            "tags": null
          },
          "name": "stderr",
          "output_type": "stream",
          "text": [
            "\n",
            "Creating few-shot examples:   0%|          | 3/10178 [00:00<00:00, 27473.61it/s]\n",
            "Evaluating on test dataset:   8%|▊         | 99/1273 [13:09<14:26:33, 44.29s/it]"
          ]
        },
        {
          "metadata": {
            "tags": null
          },
          "name": "stdout",
          "output_type": "stream",
          "text": [
            "Answer: Cervical immobilization\n",
            "Cervical immobilization\n",
            "Iteration 99: Accuracy so far: 58.59%\n"
          ]
        },
        {
          "metadata": {
            "tags": null
          },
          "name": "stderr",
          "output_type": "stream",
          "text": [
            "\n",
            "Creating few-shot examples:   0%|          | 3/10178 [00:00<00:00, 24966.10it/s]\n",
            "Evaluating on test dataset:   8%|▊         | 100/1273 [14:10<15:44:41, 48.32s/it]"
          ]
        },
        {
          "metadata": {
            "tags": null
          },
          "name": "stdout",
          "output_type": "stream",
          "text": [
            "Answer: Risperidone\n",
            "Bromocriptine\n",
            "Iteration 100: Accuracy so far: 58.00%\n"
          ]
        },
        {
          "metadata": {
            "tags": null
          },
          "name": "stderr",
          "output_type": "stream",
          "text": [
            "\n",
            "Creating few-shot examples:   0%|          | 3/10178 [00:00<00:00, 30541.05it/s]\n",
            "Evaluating on test dataset:   8%|▊         | 101/1273 [15:13<16:59:13, 52.18s/it]"
          ]
        },
        {
          "metadata": {
            "tags": null
          },
          "name": "stdout",
          "output_type": "stream",
          "text": [
            "Answer: Anti-D antibodies\n",
            "Anti-B antibodies\n",
            "Iteration 101: Accuracy so far: 57.43%\n"
          ]
        },
        {
          "metadata": {
            "tags": null
          },
          "name": "stderr",
          "output_type": "stream",
          "text": [
            "\n",
            "Creating few-shot examples:   0%|          | 3/10178 [00:00<00:00, 29262.59it/s]\n",
            "Evaluating on test dataset:   8%|▊         | 102/1273 [16:10<17:23:33, 53.47s/it]"
          ]
        },
        {
          "metadata": {
            "tags": null
          },
          "name": "stdout",
          "output_type": "stream",
          "text": [
            "Answer: Amantadine\n",
            "Amantadine\n",
            "Iteration 102: Accuracy so far: 57.84%\n"
          ]
        },
        {
          "metadata": {
            "tags": null
          },
          "name": "stderr",
          "output_type": "stream",
          "text": [
            "\n",
            "Creating few-shot examples:   0%|          | 3/10178 [00:00<00:00, 27294.82it/s]\n",
            "Evaluating on test dataset:   8%|▊         | 103/1273 [16:59<17:00:43, 52.34s/it]"
          ]
        },
        {
          "metadata": {
            "tags": null
          },
          "name": "stdout",
          "output_type": "stream",
          "text": [
            "Answer: Stop magnesium sulfate and give calcium gluconate\n",
            "Stop magnesium sulfate and give calcium gluconate\n",
            "Iteration 103: Accuracy so far: 58.25%\n"
          ]
        },
        {
          "metadata": {
            "tags": null
          },
          "name": "stderr",
          "output_type": "stream",
          "text": [
            "\n",
            "Creating few-shot examples:   0%|          | 3/10178 [00:00<00:00, 26434.69it/s]\n",
            "Evaluating on test dataset:   8%|▊         | 104/1273 [17:54<17:12:49, 53.01s/it]"
          ]
        },
        {
          "metadata": {
            "tags": null
          },
          "name": "stdout",
          "output_type": "stream",
          "text": [
            "Answer: Myxedema coma\n",
            "Myxedema coma\n",
            "Iteration 104: Accuracy so far: 58.65%\n"
          ]
        },
        {
          "metadata": {
            "tags": null
          },
          "name": "stderr",
          "output_type": "stream",
          "text": [
            "\n",
            "Creating few-shot examples:   0%|          | 3/10178 [00:00<00:00, 32939.56it/s]\n",
            "Evaluating on test dataset:   8%|▊         | 105/1273 [18:48<17:17:20, 53.29s/it]"
          ]
        },
        {
          "metadata": {
            "tags": null
          },
          "name": "stdout",
          "output_type": "stream",
          "text": [
            "Answer: Aortic regurgitation\n",
            "Aortic regurgitation\n",
            "Iteration 105: Accuracy so far: 59.05%\n"
          ]
        },
        {
          "metadata": {
            "tags": null
          },
          "name": "stderr",
          "output_type": "stream",
          "text": [
            "\n",
            "Creating few-shot examples:   0%|          | 3/10178 [00:00<00:00, 24013.19it/s]\n",
            "Evaluating on test dataset:   8%|▊         | 106/1273 [19:38<16:57:44, 52.33s/it]"
          ]
        },
        {
          "metadata": {
            "tags": null
          },
          "name": "stdout",
          "output_type": "stream",
          "text": [
            "Answer: Borderline personality disorder\n",
            "Borderline personality disorder\n",
            "Iteration 106: Accuracy so far: 59.43%\n"
          ]
        },
        {
          "metadata": {
            "tags": null
          },
          "name": "stderr",
          "output_type": "stream",
          "text": [
            "\n",
            "Creating few-shot examples:   0%|          | 3/10178 [00:00<00:00, 25679.41it/s]\n",
            "Evaluating on test dataset:   8%|▊         | 107/1273 [20:35<17:24:38, 53.75s/it]"
          ]
        },
        {
          "metadata": {
            "tags": null
          },
          "name": "stdout",
          "output_type": "stream",
          "text": [
            "Answer: Bronchoscopy-guided biopsy now\n",
            "Positive emission tomography (PET) of chest now\n",
            "Iteration 107: Accuracy so far: 58.88%\n"
          ]
        },
        {
          "metadata": {
            "tags": null
          },
          "name": "stderr",
          "output_type": "stream",
          "text": [
            "\n",
            "Creating few-shot examples:   0%|          | 3/10178 [00:00<00:00, 30840.47it/s]\n",
            "Evaluating on test dataset:   8%|▊         | 108/1273 [21:28<17:17:34, 53.44s/it]"
          ]
        },
        {
          "metadata": {
            "tags": null
          },
          "name": "stdout",
          "output_type": "stream",
          "text": [
            "Answer: Primary spermatocyte\n",
            "Primary spermatocyte\n",
            "Iteration 108: Accuracy so far: 59.26%\n"
          ]
        },
        {
          "metadata": {
            "tags": null
          },
          "name": "stderr",
          "output_type": "stream",
          "text": [
            "\n",
            "Creating few-shot examples:   0%|          | 3/10178 [00:00<00:00, 27838.30it/s]\n",
            "Evaluating on test dataset:   9%|▊         | 109/1273 [22:26<17:44:49, 54.89s/it]"
          ]
        },
        {
          "metadata": {
            "tags": null
          },
          "name": "stdout",
          "output_type": "stream",
          "text": [
            "Answer: Supportive therapy and observation\n",
            "Surgical pinning of the femoral head\n",
            "Iteration 109: Accuracy so far: 58.72%\n"
          ]
        },
        {
          "metadata": {
            "tags": null
          },
          "name": "stderr",
          "output_type": "stream",
          "text": [
            "\n",
            "Creating few-shot examples:   0%|          | 3/10178 [00:00<00:00, 29676.68it/s]\n",
            "Evaluating on test dataset:   9%|▊         | 110/1273 [23:28<18:23:33, 56.93s/it]"
          ]
        },
        {
          "metadata": {
            "tags": null
          },
          "name": "stdout",
          "output_type": "stream",
          "text": [
            "Answer: Melanosis coli\n",
            "Stool leukocytes\n",
            "Iteration 110: Accuracy so far: 58.18%\n"
          ]
        },
        {
          "metadata": {
            "tags": null
          },
          "name": "stderr",
          "output_type": "stream",
          "text": [
            "\n",
            "Creating few-shot examples:   0%|          | 3/10178 [00:00<00:00, 30030.82it/s]\n",
            "Evaluating on test dataset:   9%|▊         | 111/1273 [24:28<18:42:10, 57.94s/it]"
          ]
        },
        {
          "metadata": {
            "tags": null
          },
          "name": "stdout",
          "output_type": "stream",
          "text": [
            "Answer: Bacterial translocation\n",
            "Bacterial translocation\n",
            "Iteration 111: Accuracy so far: 58.56%\n"
          ]
        },
        {
          "metadata": {
            "tags": null
          },
          "name": "stderr",
          "output_type": "stream",
          "text": [
            "\n",
            "Creating few-shot examples:   0%|          | 3/10178 [00:00<00:00, 22878.02it/s]\n",
            "Evaluating on test dataset:   9%|▉         | 112/1273 [25:35<19:33:21, 60.64s/it]"
          ]
        },
        {
          "metadata": {
            "tags": null
          },
          "name": "stdout",
          "output_type": "stream",
          "text": [
            "Answer: Racemic epinephrine and intramuscular corticosteroid therapy\n",
            "Racemic epinephrine and intramuscular corticosteroid therapy\n",
            "Iteration 112: Accuracy so far: 58.93%\n"
          ]
        },
        {
          "metadata": {
            "tags": null
          },
          "name": "stderr",
          "output_type": "stream",
          "text": [
            "\n",
            "Creating few-shot examples:   0%|          | 3/10178 [00:00<00:00, 32099.27it/s]\n",
            "Evaluating on test dataset:   9%|▉         | 113/1273 [26:35<19:24:50, 60.25s/it]"
          ]
        },
        {
          "metadata": {
            "tags": null
          },
          "name": "stdout",
          "output_type": "stream",
          "text": [
            "Answer: Decreased lower esophageal tone\n",
            "Esophageal fibrosis\n",
            "Iteration 113: Accuracy so far: 58.41%\n"
          ]
        },
        {
          "metadata": {
            "tags": null
          },
          "name": "stderr",
          "output_type": "stream",
          "text": [
            "\n",
            "Creating few-shot examples:   0%|          | 3/10178 [00:00<00:00, 30102.66it/s]\n",
            "Evaluating on test dataset:   9%|▉         | 114/1273 [27:30<18:55:02, 58.76s/it]"
          ]
        },
        {
          "metadata": {
            "tags": null
          },
          "name": "stdout",
          "output_type": "stream",
          "text": [
            "Answer: IP3\n",
            "JAK/STAT\n",
            "Iteration 114: Accuracy so far: 57.89%\n"
          ]
        },
        {
          "metadata": {
            "tags": null
          },
          "name": "stderr",
          "output_type": "stream",
          "text": [
            "\n",
            "Creating few-shot examples:   0%|          | 3/10178 [00:00<00:00, 29817.33it/s]\n",
            "Evaluating on test dataset:   9%|▉         | 115/1273 [28:24<18:26:36, 57.34s/it]"
          ]
        },
        {
          "metadata": {
            "tags": null
          },
          "name": "stdout",
          "output_type": "stream",
          "text": [
            "Answer: Diarrhea\n",
            "Metformin\n",
            "Iteration 115: Accuracy so far: 57.39%\n"
          ]
        },
        {
          "metadata": {
            "tags": null
          },
          "name": "stderr",
          "output_type": "stream",
          "text": [
            "\n",
            "Creating few-shot examples:   0%|          | 3/10178 [00:00<00:00, 24769.51it/s]\n",
            "Evaluating on test dataset:   9%|▉         | 116/1273 [29:17<17:58:52, 55.95s/it]"
          ]
        },
        {
          "metadata": {
            "tags": null
          },
          "name": "stdout",
          "output_type": "stream",
          "text": [
            "Answer: Power stroke\n",
            "Power stroke\n",
            "Iteration 116: Accuracy so far: 57.76%\n"
          ]
        },
        {
          "metadata": {
            "tags": null
          },
          "name": "stderr",
          "output_type": "stream",
          "text": [
            "\n",
            "Creating few-shot examples:   0%|          | 3/10178 [00:00<00:00, 24818.37it/s]\n",
            "Evaluating on test dataset:   9%|▉         | 117/1273 [30:07<17:27:12, 54.35s/it]"
          ]
        },
        {
          "metadata": {
            "tags": null
          },
          "name": "stdout",
          "output_type": "stream",
          "text": [
            "Answer: TSC1 gene on chromosome 9\n",
            "TSC1 gene on chromosome 9\n",
            "Iteration 117: Accuracy so far: 58.12%\n"
          ]
        },
        {
          "metadata": {
            "tags": null
          },
          "name": "stderr",
          "output_type": "stream",
          "text": [
            "\n",
            "Creating few-shot examples:   0%|          | 3/10178 [00:00<00:00, 28212.81it/s]\n",
            "Evaluating on test dataset:   9%|▉         | 118/1273 [31:03<17:37:17, 54.92s/it]"
          ]
        },
        {
          "metadata": {
            "tags": null
          },
          "name": "stdout",
          "output_type": "stream",
          "text": [
            "Answer: Metformin\n",
            "Metformin\n",
            "Iteration 118: Accuracy so far: 58.47%\n"
          ]
        },
        {
          "metadata": {
            "tags": null
          },
          "name": "stderr",
          "output_type": "stream",
          "text": [
            "\n",
            "Creating few-shot examples:   0%|          | 3/10178 [00:00<00:00, 34192.70it/s]\n",
            "Evaluating on test dataset:   9%|▉         | 119/1273 [32:04<18:08:13, 56.58s/it]"
          ]
        },
        {
          "metadata": {
            "tags": null
          },
          "name": "stdout",
          "output_type": "stream",
          "text": [
            "Answer: Idiopathic pulmonary fibrosis\n",
            "Chronic obstructive pulmonary disease\n",
            "Iteration 119: Accuracy so far: 57.98%\n"
          ]
        },
        {
          "metadata": {
            "tags": null
          },
          "name": "stderr",
          "output_type": "stream",
          "text": [
            "\n",
            "Creating few-shot examples:   0%|          | 3/10178 [00:00<00:00, 33916.20it/s]\n",
            "Evaluating on test dataset:   9%|▉         | 120/1273 [33:05<18:33:22, 57.94s/it]"
          ]
        },
        {
          "metadata": {
            "tags": null
          },
          "name": "stdout",
          "output_type": "stream",
          "text": [
            "Answer: Avoid exposure to birds\n",
            "Avoid exposure to birds\n",
            "Iteration 120: Accuracy so far: 58.33%\n"
          ]
        },
        {
          "metadata": {
            "tags": null
          },
          "name": "stderr",
          "output_type": "stream",
          "text": [
            "\n",
            "Creating few-shot examples:   0%|          | 3/10178 [00:00<00:00, 27473.61it/s]\n",
            "Evaluating on test dataset:  10%|▉         | 121/1273 [34:06<18:52:08, 58.97s/it]"
          ]
        },
        {
          "metadata": {
            "tags": null
          },
          "name": "stdout",
          "output_type": "stream",
          "text": [
            "Answer: Uterine artery\n",
            "Uterine artery\n",
            "Iteration 121: Accuracy so far: 58.68%\n"
          ]
        },
        {
          "metadata": {
            "tags": null
          },
          "name": "stderr",
          "output_type": "stream",
          "text": [
            "\n",
            "Creating few-shot examples:   0%|          | 3/10178 [00:00<00:00, 29888.15it/s]\n",
            "Evaluating on test dataset:  10%|▉         | 122/1273 [35:11<19:21:37, 60.55s/it]"
          ]
        },
        {
          "metadata": {
            "tags": null
          },
          "name": "stdout",
          "output_type": "stream",
          "text": [
            "Answer: Epstein-Barr virus\n",
            "Epstein-Barr virus\n",
            "Iteration 122: Accuracy so far: 59.02%\n"
          ]
        },
        {
          "metadata": {
            "tags": null
          },
          "name": "stderr",
          "output_type": "stream",
          "text": [
            "\n",
            "Creating few-shot examples:   0%|          | 3/10178 [00:00<00:00, 30174.85it/s]\n",
            "Evaluating on test dataset:  10%|▉         | 123/1273 [36:11<19:19:45, 60.51s/it]"
          ]
        },
        {
          "metadata": {
            "tags": null
          },
          "name": "stdout",
          "output_type": "stream",
          "text": [
            "Answer: Zika virus\n",
            "Zika virus\n",
            "Iteration 123: Accuracy so far: 59.35%\n"
          ]
        },
        {
          "metadata": {
            "tags": null
          },
          "name": "stderr",
          "output_type": "stream",
          "text": [
            "\n",
            "Creating few-shot examples:   0%|          | 3/10178 [00:00<00:00, 32682.89it/s]\n",
            "Evaluating on test dataset:  10%|▉         | 124/1273 [37:17<19:51:00, 62.19s/it]"
          ]
        },
        {
          "metadata": {
            "tags": null
          },
          "name": "stdout",
          "output_type": "stream",
          "text": [
            "Answer: Mixing study\n",
            "Mixing study\n",
            "Iteration 124: Accuracy so far: 59.68%\n"
          ]
        },
        {
          "metadata": {
            "tags": null
          },
          "name": "stderr",
          "output_type": "stream",
          "text": [
            "\n",
            "Creating few-shot examples:   0%|          | 3/10178 [00:00<00:00, 27715.67it/s]\n",
            "Evaluating on test dataset:  10%|▉         | 125/1273 [38:13<19:11:32, 60.19s/it]"
          ]
        },
        {
          "metadata": {
            "tags": null
          },
          "name": "stdout",
          "output_type": "stream",
          "text": [
            "Answer: Diarrhea\n",
            "Diarrhea\n",
            "Iteration 125: Accuracy so far: 60.00%\n"
          ]
        },
        {
          "metadata": {
            "tags": null
          },
          "name": "stderr",
          "output_type": "stream",
          "text": [
            "\n",
            "Creating few-shot examples:   0%|          | 3/10178 [00:00<00:00, 33026.02it/s]\n",
            "Evaluating on test dataset:  10%|▉         | 126/1273 [39:13<19:10:32, 60.19s/it]"
          ]
        },
        {
          "metadata": {
            "tags": null
          },
          "name": "stdout",
          "output_type": "stream",
          "text": [
            "Answer: No management indicated\n",
            "Isoniazid\n",
            "Iteration 126: Accuracy so far: 59.52%\n"
          ]
        },
        {
          "metadata": {
            "tags": null
          },
          "name": "stderr",
          "output_type": "stream",
          "text": [
            "\n",
            "Creating few-shot examples:   0%|          | 3/10178 [00:00<00:00, 27001.96it/s]\n",
            "Evaluating on test dataset:  10%|▉         | 127/1273 [40:13<19:10:00, 60.21s/it]"
          ]
        },
        {
          "metadata": {
            "tags": null
          },
          "name": "stdout",
          "output_type": "stream",
          "text": [
            "Answer: Herniation of the uncus\n",
            "Herniation of the uncus\n",
            "Iteration 127: Accuracy so far: 59.84%\n"
          ]
        },
        {
          "metadata": {
            "tags": null
          },
          "name": "stderr",
          "output_type": "stream",
          "text": [
            "\n",
            "Creating few-shot examples:   0%|          | 3/10178 [00:00<00:00, 31615.36it/s]\n",
            "Evaluating on test dataset:  10%|█         | 128/1273 [41:12<18:58:22, 59.65s/it]"
          ]
        },
        {
          "metadata": {
            "tags": null
          },
          "name": "stdout",
          "output_type": "stream",
          "text": [
            "Answer: Natural killer cells\n",
            "Natural killer cells\n",
            "Iteration 128: Accuracy so far: 60.16%\n"
          ]
        },
        {
          "metadata": {
            "tags": null
          },
          "name": "stderr",
          "output_type": "stream",
          "text": [
            "\n",
            "Creating few-shot examples:   0%|          | 3/10178 [00:00<00:00, 28859.89it/s]\n",
            "Evaluating on test dataset:  10%|█         | 129/1273 [42:12<19:00:21, 59.81s/it]"
          ]
        },
        {
          "metadata": {
            "tags": null
          },
          "name": "stdout",
          "output_type": "stream",
          "text": [
            "Answer: Dystrophin gene mutation on genetic analysis\n",
            "Intrafascicular infiltration on muscle biopsy\n",
            "Iteration 129: Accuracy so far: 59.69%\n"
          ]
        },
        {
          "metadata": {
            "tags": null
          },
          "name": "stderr",
          "output_type": "stream",
          "text": [
            "\n",
            "Creating few-shot examples:   0%|          | 3/10178 [00:00<00:00, 30916.25it/s]\n",
            "Evaluating on test dataset:  10%|█         | 130/1273 [43:25<20:15:07, 63.79s/it]"
          ]
        },
        {
          "metadata": {
            "tags": null
          },
          "name": "stdout",
          "output_type": "stream",
          "text": [
            "Answer: Decreased acetylcholine release\n",
            "Decreased acetylcholine release\n",
            "Iteration 130: Accuracy so far: 60.00%\n"
          ]
        },
        {
          "metadata": {
            "tags": null
          },
          "name": "stderr",
          "output_type": "stream",
          "text": [
            "\n",
            "Creating few-shot examples:   0%|          | 3/10178 [00:00<00:00, 29746.84it/s]\n",
            "Evaluating on test dataset:  10%|█         | 131/1273 [44:32<20:36:42, 64.98s/it]"
          ]
        },
        {
          "metadata": {
            "tags": null
          },
          "name": "stdout",
          "output_type": "stream",
          "text": [
            "Answer: Breast milk jaundice\n",
            "Biliary atresia\n",
            "Iteration 131: Accuracy so far: 59.54%\n"
          ]
        },
        {
          "metadata": {
            "tags": null
          },
          "name": "stderr",
          "output_type": "stream",
          "text": [
            "\n",
            "Creating few-shot examples:   0%|          | 3/10178 [00:00<00:00, 29959.31it/s]\n",
            "Evaluating on test dataset:  10%|█         | 132/1273 [45:34<20:15:39, 63.93s/it]"
          ]
        },
        {
          "metadata": {
            "tags": null
          },
          "name": "stdout",
          "output_type": "stream",
          "text": [
            "Answer: QT prolongation\n",
            "QT prolongation\n",
            "Iteration 132: Accuracy so far: 59.85%\n"
          ]
        },
        {
          "metadata": {
            "tags": null
          },
          "name": "stderr",
          "output_type": "stream",
          "text": [
            "\n",
            "Creating few-shot examples:   0%|          | 3/10178 [00:00<00:03, 2669.26it/s]\n",
            "Evaluating on test dataset:  10%|█         | 133/1273 [46:37<20:09:46, 63.67s/it]"
          ]
        },
        {
          "metadata": {
            "tags": null
          },
          "name": "stdout",
          "output_type": "stream",
          "text": [
            "Answer: Diverticulitis\n",
            "Diverticulitis\n",
            "Iteration 133: Accuracy so far: 60.15%\n"
          ]
        },
        {
          "metadata": {
            "tags": null
          },
          "name": "stderr",
          "output_type": "stream",
          "text": [
            "\n",
            "Creating few-shot examples:   0%|          | 3/10178 [00:00<00:00, 28793.85it/s]\n",
            "Evaluating on test dataset:  11%|█         | 134/1273 [47:40<20:06:30, 63.56s/it]"
          ]
        },
        {
          "metadata": {
            "tags": null
          },
          "name": "stdout",
          "output_type": "stream",
          "text": [
            "Answer: Aortoiliac atherosclerosis\n",
            "Aortoiliac atherosclerosis\n",
            "Iteration 134: Accuracy so far: 60.45%\n"
          ]
        },
        {
          "metadata": {
            "tags": null
          },
          "name": "stderr",
          "output_type": "stream",
          "text": [
            "\n",
            "Creating few-shot examples:   0%|          | 3/10178 [00:00<00:00, 28403.86it/s]\n",
            "Evaluating on test dataset:  11%|█         | 135/1273 [48:40<19:43:19, 62.39s/it]"
          ]
        },
        {
          "metadata": {
            "tags": null
          },
          "name": "stdout",
          "output_type": "stream",
          "text": [
            "Answer: Increased PTH, decreased calcium, increased phosphate, decreased calcitriol\n",
            "Increased PTH, decreased calcium, increased phosphate, decreased calcitriol\n",
            "Iteration 135: Accuracy so far: 60.74%\n"
          ]
        },
        {
          "metadata": {
            "tags": null
          },
          "name": "stderr",
          "output_type": "stream",
          "text": [
            "\n",
            "Creating few-shot examples:   0%|          | 3/10178 [00:00<00:00, 30030.82it/s]\n",
            "Evaluating on test dataset:  11%|█         | 136/1273 [49:39<19:24:04, 61.43s/it]"
          ]
        },
        {
          "metadata": {
            "tags": null
          },
          "name": "stdout",
          "output_type": "stream",
          "text": [
            "Answer: Binds endogenous peptides that are present in the endosome\n",
            "Binds endogenous peptides that have been transported by the TAP channel\n",
            "Iteration 136: Accuracy so far: 60.29%\n"
          ]
        },
        {
          "metadata": {
            "tags": null
          },
          "name": "stderr",
          "output_type": "stream",
          "text": [
            "\n",
            "Creating few-shot examples:   0%|          | 3/10178 [00:00<00:00, 27060.03it/s]\n",
            "Evaluating on test dataset:  11%|█         | 137/1273 [50:38<19:07:04, 60.59s/it]"
          ]
        },
        {
          "metadata": {
            "tags": null
          },
          "name": "stdout",
          "output_type": "stream",
          "text": [
            "Answer: Gastroesophageal junction incompetence\n",
            "Gastroesophageal junction incompetence\n",
            "Iteration 137: Accuracy so far: 60.58%\n"
          ]
        },
        {
          "metadata": {
            "tags": null
          },
          "name": "stderr",
          "output_type": "stream",
          "text": [
            "\n",
            "Creating few-shot examples:   0%|          | 3/10178 [00:00<00:00, 31145.82it/s]\n",
            "Evaluating on test dataset:  11%|█         | 138/1273 [51:41<19:23:18, 61.50s/it]"
          ]
        },
        {
          "metadata": {
            "tags": null
          },
          "name": "stdout",
          "output_type": "stream",
          "text": [
            "Answer: Treatment with radioactive iodine\n",
            "Treatment with radioactive iodine\n",
            "Iteration 138: Accuracy so far: 60.87%\n"
          ]
        },
        {
          "metadata": {
            "tags": null
          },
          "name": "stderr",
          "output_type": "stream",
          "text": [
            "\n",
            "Creating few-shot examples:   0%|          | 3/10178 [00:00<00:00, 21290.88it/s]\n",
            "Evaluating on test dataset:  11%|█         | 139/1273 [52:42<19:16:16, 61.18s/it]"
          ]
        },
        {
          "metadata": {
            "tags": null
          },
          "name": "stdout",
          "output_type": "stream",
          "text": [
            "Answer: Reassuring the parents and use of an enuresis alarm\n",
            "Reassuring the parents and use of an enuresis alarm\n",
            "Iteration 139: Accuracy so far: 61.15%\n"
          ]
        },
        {
          "metadata": {
            "tags": null
          },
          "name": "stderr",
          "output_type": "stream",
          "text": [
            "\n",
            "Creating few-shot examples:   0%|          | 3/10178 [00:00<00:00, 26772.15it/s]\n",
            "Evaluating on test dataset:  11%|█         | 140/1273 [53:42<19:07:16, 60.76s/it]"
          ]
        },
        {
          "metadata": {
            "tags": null
          },
          "name": "stdout",
          "output_type": "stream",
          "text": [
            "Answer: Decreased vibratory sense in the ipsilateral arm\n",
            "Decreased positional sense in the ipsilateral leg\n",
            "Iteration 140: Accuracy so far: 60.71%\n"
          ]
        },
        {
          "metadata": {
            "tags": null
          },
          "name": "stderr",
          "output_type": "stream",
          "text": [
            "\n",
            "Creating few-shot examples:   0%|          | 3/10178 [00:00<00:00, 26490.34it/s]\n",
            "Evaluating on test dataset:  11%|█         | 141/1273 [54:41<19:00:20, 60.44s/it]"
          ]
        },
        {
          "metadata": {
            "tags": null
          },
          "name": "stdout",
          "output_type": "stream",
          "text": [
            "Answer: Amoxicilin\n",
            "Amoxicilin\n",
            "Iteration 141: Accuracy so far: 60.99%\n"
          ]
        },
        {
          "metadata": {
            "tags": null
          },
          "name": "stderr",
          "output_type": "stream",
          "text": [
            "\n",
            "Creating few-shot examples:   0%|          | 3/10178 [00:00<00:00, 20295.02it/s]\n",
            "Evaluating on test dataset:  11%|█         | 142/1273 [55:48<19:32:40, 62.21s/it]"
          ]
        },
        {
          "metadata": {
            "tags": null
          },
          "name": "stdout",
          "output_type": "stream",
          "text": [
            "Answer: Inferior petrosal sinus sampling\n",
            "MRI of the adrenal glands\n",
            "Iteration 142: Accuracy so far: 60.56%\n"
          ]
        },
        {
          "output_type": "stream",
          "name": "stderr",
          "text": [
            "\n",
            "Creating few-shot examples:   0%|          | 3/10178 [00:00<00:00, 26105.63it/s]\n",
            "Evaluating on test dataset:  11%|█         | 143/1273 [56:44<19:00:41, 60.57s/it]"
          ]
        },
        {
          "output_type": "stream",
          "name": "stdout",
          "text": [
            "Answer: Inhibition of beta-tubulin polymerization\n",
            "Inhibition of beta-tubulin polymerization\n",
            "Iteration 143: Accuracy so far: 60.84%\n"
          ]
        },
        {
          "output_type": "stream",
          "name": "stderr",
          "text": [
            "\n",
            "Creating few-shot examples:   0%|          | 3/10178 [00:00<00:00, 30765.07it/s]\n",
            "Evaluating on test dataset:  11%|█▏        | 144/1273 [57:42<18:40:15, 59.54s/it]"
          ]
        },
        {
          "output_type": "stream",
          "name": "stdout",
          "text": [
            "Answer: Aromatic amines\n",
            "Aromatic amines\n",
            "Iteration 144: Accuracy so far: 61.11%\n"
          ]
        },
        {
          "output_type": "stream",
          "name": "stderr",
          "text": [
            "\n",
            "Creating few-shot examples:   0%|          | 3/10178 [00:00<00:04, 2542.00it/s]\n",
            "Evaluating on test dataset:  11%|█▏        | 145/1273 [58:37<18:17:53, 58.40s/it]"
          ]
        },
        {
          "output_type": "stream",
          "name": "stdout",
          "text": [
            "Answer: Reassurance and follow-up\n",
            "Reassurance and follow-up\n",
            "Iteration 145: Accuracy so far: 61.38%\n"
          ]
        },
        {
          "output_type": "stream",
          "name": "stderr",
          "text": [
            "\n",
            "Creating few-shot examples:   0%|          | 3/10178 [00:00<00:00, 32099.27it/s]\n",
            "Evaluating on test dataset:  11%|█▏        | 146/1273 [59:28<17:32:51, 56.05s/it]"
          ]
        },
        {
          "output_type": "stream",
          "name": "stdout",
          "text": [
            "Answer: Deposits of IgG and C3 at the glomerular basement membrane on immunofluoresence\n",
            "Normal light microscopy findings\n",
            "Iteration 146: Accuracy so far: 60.96%\n"
          ]
        },
        {
          "output_type": "stream",
          "name": "stderr",
          "text": [
            "\n",
            "Creating few-shot examples:   0%|          | 3/10178 [00:00<00:00, 19152.07it/s]\n",
            "Evaluating on test dataset:  12%|█▏        | 147/1273 [1:00:26<17:42:18, 56.61s/it]"
          ]
        },
        {
          "output_type": "stream",
          "name": "stdout",
          "text": [
            "Answer: Tumor arising from epidermal keratinocytes\n",
            "Tumor arising from cutaneous T cells\n",
            "Iteration 147: Accuracy so far: 60.54%\n"
          ]
        },
        {
          "output_type": "stream",
          "name": "stderr",
          "text": [
            "\n",
            "Creating few-shot examples:   0%|          | 3/10178 [00:00<00:00, 29468.18it/s]\n",
            "Evaluating on test dataset:  12%|█▏        | 148/1273 [1:01:21<17:32:33, 56.14s/it]"
          ]
        },
        {
          "output_type": "stream",
          "name": "stdout",
          "text": [
            "Answer: Cognitive behavioral therapy\n",
            "Cognitive behavioral therapy\n",
            "Iteration 148: Accuracy so far: 60.81%\n"
          ]
        },
        {
          "output_type": "stream",
          "name": "stderr",
          "text": [
            "\n",
            "Creating few-shot examples:   0%|          | 3/10178 [00:00<00:00, 18641.35it/s]\n",
            "Evaluating on test dataset:  12%|█▏        | 149/1273 [1:02:16<17:28:32, 55.97s/it]"
          ]
        },
        {
          "output_type": "stream",
          "name": "stdout",
          "text": [
            "Answer: Vascular dementia\n",
            "Frontotemporal dementia\n",
            "Iteration 149: Accuracy so far: 60.40%\n"
          ]
        },
        {
          "output_type": "stream",
          "name": "stderr",
          "text": [
            "\n",
            "Creating few-shot examples:   0%|          | 3/10178 [00:00<00:00, 28793.85it/s]\n",
            "Evaluating on test dataset:  12%|█▏        | 150/1273 [1:03:13<17:29:04, 56.05s/it]"
          ]
        },
        {
          "output_type": "stream",
          "name": "stdout",
          "text": [
            "Answer: Immunoglobulin- IgM\n",
            "Immunoglobulin- IgM\n",
            "Iteration 150: Accuracy so far: 60.67%\n"
          ]
        },
        {
          "output_type": "stream",
          "name": "stderr",
          "text": [
            "\n",
            "Creating few-shot examples:   0%|          | 3/10178 [00:00<00:00, 29606.85it/s]\n",
            "Evaluating on test dataset:  12%|█▏        | 151/1273 [1:04:08<17:24:42, 55.87s/it]"
          ]
        },
        {
          "output_type": "stream",
          "name": "stdout",
          "text": [
            "Answer: Levofloxacin\n",
            "Levofloxacin\n",
            "Iteration 151: Accuracy so far: 60.93%\n"
          ]
        },
        {
          "output_type": "stream",
          "name": "stderr",
          "text": [
            "\n",
            "Creating few-shot examples:   0%|          | 3/10178 [00:00<00:00, 26324.08it/s]\n",
            "Evaluating on test dataset:  12%|█▏        | 152/1273 [1:05:03<17:20:25, 55.69s/it]"
          ]
        },
        {
          "output_type": "stream",
          "name": "stdout",
          "text": [
            "Answer: Theca leutein cysts\n",
            "Theca leutein cysts\n",
            "Iteration 152: Accuracy so far: 61.18%\n"
          ]
        },
        {
          "output_type": "stream",
          "name": "stderr",
          "text": [
            "\n",
            "Creating few-shot examples:   0%|          | 3/10178 [00:00<00:00, 28532.68it/s]\n",
            "Evaluating on test dataset:  12%|█▏        | 153/1273 [1:05:53<16:47:53, 53.99s/it]"
          ]
        },
        {
          "output_type": "stream",
          "name": "stdout",
          "text": [
            "Answer: Homozygous mutation in the CCR5 gene\n",
            "Serum antibodies against hemagglutinin\n",
            "Iteration 153: Accuracy so far: 60.78%\n"
          ]
        },
        {
          "output_type": "stream",
          "name": "stderr",
          "text": [
            "\n",
            "Creating few-shot examples:   0%|          | 3/10178 [00:00<00:00, 24432.84it/s]\n",
            "Evaluating on test dataset:  12%|█▏        | 154/1273 [1:06:44<16:25:29, 52.84s/it]"
          ]
        },
        {
          "output_type": "stream",
          "name": "stdout",
          "text": [
            "Answer: Previous suicide attempt\n",
            "Previous suicide attempt\n",
            "Iteration 154: Accuracy so far: 61.04%\n"
          ]
        },
        {
          "output_type": "stream",
          "name": "stderr",
          "text": [
            "\n",
            "Creating few-shot examples:   0%|          | 3/10178 [00:00<00:00, 27838.30it/s]\n",
            "Evaluating on test dataset:  12%|█▏        | 155/1273 [1:07:42<16:58:44, 54.67s/it]"
          ]
        },
        {
          "output_type": "stream",
          "name": "stdout",
          "text": [
            "Answer: Chickenpox\n",
            "Chickenpox\n",
            "Iteration 155: Accuracy so far: 61.29%\n"
          ]
        },
        {
          "output_type": "stream",
          "name": "stderr",
          "text": [
            "\n",
            "Creating few-shot examples:   0%|          | 3/10178 [00:00<00:00, 24291.34it/s]\n"
          ]
        }
      ]
    }
  ]
}
